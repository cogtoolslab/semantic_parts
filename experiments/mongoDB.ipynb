{
 "cells": [
  {
   "cell_type": "code",
   "execution_count": 2,
   "metadata": {},
   "outputs": [],
   "source": [
    "import pymongo as pm\n",
    "import pandas as pd\n",
    "import json\n",
    "from IPython.display import clear_output"
   ]
  },
  {
   "cell_type": "code",
   "execution_count": 7,
   "metadata": {},
   "outputs": [],
   "source": [
    "# set vars \n",
    "auth = pd.read_csv('auth.txt', header = None) # this auth.txt file contains the password for the sketchloop user\n",
    "pswd = auth.values[0][0]\n",
    "user = 'sketchloop'\n",
    "host = 'cogtoolslab.org' ## cocolab ip address\n",
    "\n",
    "conn = pm.MongoClient('mongodb://sketchloop:' + pswd + '@127.0.0.1')\n",
    "db = conn['semantic_']\n",
    "coll = db['sketchpad_basic']\n"
   ]
  },
  {
   "cell_type": "code",
   "execution_count": 13,
   "metadata": {},
   "outputs": [],
   "source": [
    "a = coll.find_one()"
   ]
  },
  {
   "cell_type": "code",
   "execution_count": 16,
   "metadata": {},
   "outputs": [
    {
     "data": {
      "text/plain": [
       "['M87,28c0,32.40293 11.48971,63.4074 15,95c2.48151,22.33358 -4.83176,54.50473 2,75c2.14531,6.43593 8,23.20143 8,28',\n",
       " 'M193,23c0,30.09821 -2.11986,61.13102 2,91c4.54049,32.91855 19,86.40145 19,118',\n",
       " 'M93,59c8.72422,-8.72422 76.33678,-12 99,-12',\n",
       " 'M97,82c33.77017,0 67.31491,-5 101,-5',\n",
       " 'M105,117c2.66667,0 5.33333,0 8,0c3,0 6.01036,0.24914 9,0c1.65046,-0.13754 68.86395,-2.86395 75,-9',\n",
       " 'M98,139c0,2.50696 -5.96086,3.79609 -8,4c-7.12735,0.71274 -59.16406,0.32812 -61,4c-2.24178,4.48357 -2,42.79029 -2,50c0,5.39842 0,29.55887 0,26',\n",
       " 'M199,139c-33.25772,0 -65.50945,8 -99,8c-1.12599,0 -29.00742,-1.98516 -30,0c-6.40692,12.81384 2,58.50255 2,74']"
      ]
     },
     "execution_count": 16,
     "metadata": {},
     "output_type": "execute_result"
    }
   ],
   "source": [
    "a['svg']"
   ]
  },
  {
   "cell_type": "code",
   "execution_count": 3,
   "metadata": {},
   "outputs": [],
   "source": [
    "M= pd.read_csv('./data/graphical_conventions_group_data_run5_submitButton_with_TargetURL.csv')"
   ]
  },
  {
   "cell_type": "code",
   "execution_count": 4,
   "metadata": {},
   "outputs": [
    {
     "data": {
      "text/plain": [
       "Index(['Unnamed: 0', 'gameID', 'trialNum', 'condition', 'target', 'category',\n",
       "       'repetition', 'phase', 'generalization', 'drawDuration', 'outcome',\n",
       "       'response', 'numStrokes', 'meanPixelIntensity', 'numCurvesPerSketch',\n",
       "       'numCurvesPerStroke', 'timedOut', 'png', 'svgString', 'subset',\n",
       "       'low_acc', 'category_subset', 'category_subset_condition', 'crazy',\n",
       "       'recog_id', 'target_shapenet', 'distractors', 'distractors_shapenet',\n",
       "       'target_url'],\n",
       "      dtype='object')"
      ]
     },
     "execution_count": 4,
     "metadata": {},
     "output_type": "execute_result"
    }
   ],
   "source": [
    "M.columns"
   ]
  },
  {
   "cell_type": "code",
   "execution_count": 17,
   "metadata": {},
   "outputs": [
    {
     "data": {
      "text/plain": [
       "\"[u'M94,107c0,-2.90836 -3.18308,-6.36617 -4,-8c-1.38042,-2.76085 0,-9.95701 0,-13c0,-24.1259 10.50002,-29.87501 31,-35c9.91797,-2.47949 24.79375,-1.47083 33,4c2.07975,1.3865 22.26453,30.73547 18,35c-9.87976,9.87976 -32.94194,5.70646 -44,14c-7.44641,5.58481 -22.46578,11 -31,11', u'M98,114c0,8.6585 28.51173,84.51173 34,90', u'M170,93c0,29.71717 33,65.95957 33,95', u'M106,153c0,14.46132 -8,27.1461 -8,42', u'M112,151c0,-6.62515 59.36688,-36 66,-36', u'M110,155c9.47907,0 10.28634,15.23789 20,12c5.71058,-1.90353 51.17712,-24.17712 55,-28c1.80221,-1.80221 -1.14366,-4.14366 -2,-5c-2.22778,-2.22778 -2.58962,-7 -7,-7']\""
      ]
     },
     "execution_count": 17,
     "metadata": {},
     "output_type": "execute_result"
    }
   ],
   "source": [
    "M.iloc[0].svgString"
   ]
  },
  {
   "cell_type": "code",
   "execution_count": null,
   "metadata": {},
   "outputs": [],
   "source": []
  }
 ],
 "metadata": {
  "kernelspec": {
   "display_name": "Python 3",
   "language": "python",
   "name": "python3"
  },
  "language_info": {
   "codemirror_mode": {
    "name": "ipython",
    "version": 3
   },
   "file_extension": ".py",
   "mimetype": "text/x-python",
   "name": "python",
   "nbconvert_exporter": "python",
   "pygments_lexer": "ipython3",
   "version": "3.6.5"
  }
 },
 "nbformat": 4,
 "nbformat_minor": 2
}
