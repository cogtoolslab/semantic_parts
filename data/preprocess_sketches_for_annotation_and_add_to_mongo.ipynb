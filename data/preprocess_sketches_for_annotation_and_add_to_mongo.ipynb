{
 "cells": [
  {
   "cell_type": "code",
   "execution_count": null,
   "metadata": {
    "collapsed": true
   },
   "outputs": [],
   "source": [
    "#%matplotlib inline\n",
    "import os\n",
    "import numpy as np\n",
    "from PIL import Image\n",
    "import matplotlib as mp\n",
    "from matplotlib import pyplot,pylab\n",
    "plt = pyplot\n",
    "import scipy\n",
    "from __future__ import division\n",
    "import seaborn as sns\n",
    "sns.set_style('white')\n",
    "import string\n",
    "import pandas as pd\n",
    "\n",
    "import json\n",
    "import pymongo as pm"
   ]
  },
  {
   "cell_type": "markdown",
   "metadata": {},
   "source": [
    "## purpose"
   ]
  },
  {
   "cell_type": "markdown",
   "metadata": {},
   "source": [
    "* upload sketches to S3 [maybe do this later]\n",
    "* build stimulus dictionary and write to database"
   ]
  },
  {
   "cell_type": "markdown",
   "metadata": {},
   "source": [
    "## upload sketches to S3 [todo later]"
   ]
  },
  {
   "cell_type": "markdown",
   "metadata": {},
   "source": [
    "## build stimulus dictionary"
   ]
  },
  {
   "cell_type": "code",
   "execution_count": null,
   "metadata": {
    "collapsed": false
   },
   "outputs": [],
   "source": [
    "## read in experimental metadata file (CSV)\n",
    "path_to_metadata = 'sketchpad_basic_group_data_for_annotation.csv'\n",
    "meta = pd.read_csv(path_to_metadata)    "
   ]
  },
  {
   "cell_type": "code",
   "execution_count": null,
   "metadata": {
    "collapsed": false
   },
   "outputs": [],
   "source": [
    "## add parts list\n",
    "parts =[]\n",
    "for i in range(meta.shape[0]-1):\n",
    "    if meta.category[i]==\"chair\":\n",
    "        parts.append('\"leg\",\"arm\",\"back\",\"seat\",\"wheels\",\"head\"')\n",
    "    if meta.category[i]==\"dog\":\n",
    "        parts.append('\"eye\",\"mouth\",\"ear\",\"body\",\"tail\",\"neck\",\"leg\"')\n",
    "    if meta.category[i] == \"bird\":\n",
    "        parts.append('\"beak\",\"wings\",\"feet\",\"tail\",\"body\",\"head\"')\n",
    "    if meta.category[i] == \"car\":\n",
    "        parts.append('\"wheel\", \"windshield\", \"body\", \"window\", \"door\", \"bumper\", \"lamp\"')\n",
    "parts = pd.Series(parts)\n",
    "meta = meta.assign(parts=pd.Series(parts))"
   ]
  },
  {
   "cell_type": "code",
   "execution_count": null,
   "metadata": {
    "collapsed": true
   },
   "outputs": [],
   "source": [
    "## add iteration name information\n",
    "_iterationName = 'sketchpad_basic'\n",
    "iterationName = [_iterationName]*len(meta)\n",
    "meta = meta.assign(iterationName=pd.Series(iterationName))"
   ]
  },
  {
   "cell_type": "code",
   "execution_count": null,
   "metadata": {
    "collapsed": true
   },
   "outputs": [],
   "source": [
    "## svg string formatting\n",
    "meta['svg'] = meta['svg'].str.replace('u', '')\n",
    "meta['svg'] = meta['svg'].str.replace(\"'\",'\"') "
   ]
  },
  {
   "cell_type": "code",
   "execution_count": null,
   "metadata": {
    "collapsed": false
   },
   "outputs": [],
   "source": [
    "## how many games worth of data do we have?\n",
    "print '{} unique games worth of data.'.format(len(np.unique(meta.gameID.values)))\n",
    "print '{} unique sketches.'.format(len(meta))\n",
    "\n",
    "## write out metadata to json file\n",
    "\n",
    "## for example:\n",
    "stimdict = meta.to_dict(orient='records')\n",
    "stimdict\n",
    "import json\n",
    "with open('annotation_meta.js', 'w') as fout:\n",
    "     json.dump(stimdict, fout)"
   ]
  },
  {
   "cell_type": "markdown",
   "metadata": {},
   "source": [
    "### upload stim dictionary to mongo (db = 'stimuli', collection='sketchpad_basic_recog')"
   ]
  },
  {
   "cell_type": "code",
   "execution_count": null,
   "metadata": {
    "collapsed": true
   },
   "outputs": [],
   "source": [
    "## load in the JSON that contains the svgData, object labels, and part labels\n",
    "J = json.loads(open('annotation_meta.js',mode='rU').read())\n",
    "assert len(J)==len(meta)"
   ]
  },
  {
   "cell_type": "code",
   "execution_count": null,
   "metadata": {
    "collapsed": true
   },
   "outputs": [],
   "source": [
    "# set vars \n",
    "auth = pd.read_csv('auth.txt', header = None) # this auth.txt file contains the password for the sketchloop user\n",
    "pswd = auth.values[0][0]\n",
    "user = 'sketchloop'\n",
    "host = 'rxdhawkins.me' ## cocolab ip address\n",
    "\n",
    "# have to fix this to be able to analyze from local\n",
    "conn = pm.MongoClient('mongodb://sketchloop:' + pswd + '@127.0.0.1')"
   ]
  },
  {
   "cell_type": "code",
   "execution_count": null,
   "metadata": {
    "collapsed": true
   },
   "outputs": [],
   "source": [
    "## define the dbname and collection name\n",
    "db = conn['stimuli']\n",
    "coll = db['svg_annotation_sketchpad_basic']"
   ]
  },
  {
   "cell_type": "code",
   "execution_count": null,
   "metadata": {
    "collapsed": false
   },
   "outputs": [],
   "source": [
    "## actually add data now to the database (iff reallyRun==True)\n",
    "reallyRun = False\n",
    "if reallyRun:\n",
    "    for (i,j) in enumerate(J):\n",
    "        if i%250==0:\n",
    "            print ('%d of %d' % (i,len(J)))\n",
    "        coll.insert_one(j)"
   ]
  },
  {
   "cell_type": "code",
   "execution_count": null,
   "metadata": {
    "collapsed": false
   },
   "outputs": [],
   "source": [
    "## How many sketches do we have in the database?\n",
    "print 'We have {} sketches.'.format(coll.count())\n",
    "\n",
    "## What kind of sketches do we have in the database?\n",
    "print 'We have these kinds: {}'.format(str(coll.distinct('category')))"
   ]
  },
  {
   "cell_type": "code",
   "execution_count": null,
   "metadata": {
    "collapsed": false
   },
   "outputs": [],
   "source": []
  },
  {
   "cell_type": "code",
   "execution_count": null,
   "metadata": {
    "collapsed": true
   },
   "outputs": [],
   "source": []
  }
 ],
 "metadata": {
  "kernelspec": {
   "display_name": "Python 2",
   "language": "python",
   "name": "python2"
  },
  "language_info": {
   "codemirror_mode": {
    "name": "ipython",
    "version": 2
   },
   "file_extension": ".py",
   "mimetype": "text/x-python",
   "name": "python",
   "nbconvert_exporter": "python",
   "pygments_lexer": "ipython2",
   "version": "2.7.13"
  }
 },
 "nbformat": 4,
 "nbformat_minor": 1
}
