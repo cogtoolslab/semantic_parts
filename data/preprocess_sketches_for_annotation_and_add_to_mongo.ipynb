{
 "cells": [
  {
   "cell_type": "code",
   "execution_count": 13,
   "metadata": {
    "collapsed": true
   },
   "outputs": [],
   "source": [
    "#%matplotlib inline\n",
    "import os\n",
    "import numpy as np\n",
    "from PIL import Image\n",
    "import matplotlib as mp\n",
    "from matplotlib import pyplot,pylab\n",
    "plt = pyplot\n",
    "import scipy\n",
    "from __future__ import division\n",
    "import seaborn as sns\n",
    "sns.set_style('white')\n",
    "import string\n",
    "import pandas as pd\n",
    "\n",
    "import json\n",
    "import pymongo as pm"
   ]
  },
  {
   "cell_type": "markdown",
   "metadata": {},
   "source": [
    "## purpose"
   ]
  },
  {
   "cell_type": "markdown",
   "metadata": {},
   "source": [
    "* upload sketches to S3 [maybe do this later]\n",
    "* build stimulus dictionary and write to database"
   ]
  },
  {
   "cell_type": "markdown",
   "metadata": {},
   "source": [
    "## upload sketches to S3 [todo later]"
   ]
  },
  {
   "cell_type": "markdown",
   "metadata": {},
   "source": [
    "## build stimulus dictionary"
   ]
  },
  {
   "cell_type": "code",
   "execution_count": 14,
   "metadata": {
    "collapsed": true
   },
   "outputs": [],
   "source": [
    "## read in experimental metadata file (CSV)\n",
    "path_to_metadata = 'sketchpad_basic_group_data_for_annotation.csv'\n",
    "meta = pd.read_csv(path_to_metadata)    "
   ]
  },
  {
   "cell_type": "code",
   "execution_count": 16,
   "metadata": {
    "collapsed": false
   },
   "outputs": [],
   "source": [
    "## add parts list\n",
    "parts =[]\n",
    "for i in range(meta.shape[0]-1):\n",
    "    if meta.category[i]==\"chair\":\n",
    "        parts.append([\"leg,armrest,backrest,seat,pedestal,wheel\"])        \n",
    "    if meta.category[i]==\"dog\":\n",
    "        parts.append([\"eye,mouth,ear,body,tail,neck,leg\"])\n",
    "    if meta.category[i] == \"bird\":\n",
    "        parts.append([\"beak,wings,feet,tail,body,head\"])\n",
    "    if meta.category[i] == \"car\":\n",
    "        parts.append([\"wheel,windshield,body,window,door,bumper,lamp\"])\n",
    "meta = meta.assign(parts=pd.Series(parts))"
   ]
  },
  {
   "cell_type": "code",
   "execution_count": 17,
   "metadata": {
    "collapsed": true
   },
   "outputs": [],
   "source": [
    "## add iteration name information\n",
    "_iterationName = 'sketchpad_basic'\n",
    "iterationName = [_iterationName]*len(meta)\n",
    "meta = meta.assign(iterationName=pd.Series(iterationName))"
   ]
  },
  {
   "cell_type": "code",
   "execution_count": 42,
   "metadata": {
    "collapsed": false
   },
   "outputs": [
    {
     "data": {
      "text/plain": [
       "'[\"M34,212c5.3353,-10.6706 6.56215,-22.81075 9,-35c0.26954,-1.34768 -0.33333,-3.66667 1,-4c15.14741,-3.78685 54.94206,4.02897 67,-2c1.19257,-0.59628 0,-2.66667 0,-4c0,-4.23016 1.05755,-27.02877 5,-29c7.58299,-3.7915 118.26093,-13.49271 125,-9c10.97767,7.31845 17,16.31601 17,29c0,0.66667 -0.53333,1.6 0,2c8.79066,6.593 23.15243,5.91456 25,17c1.15474,6.92844 2.44282,28.55718 -3,34c-10.28851,10.28851 -41.02072,5.44214 -54,4c-38.91959,-4.3244 -78.40107,-3.58396 -118,-2c-6.66966,0.26679 -13.34467,0.48805 -20,1c-4.02552,0.30966 -50.12812,6.87188 -53,4c-1.58978,-1.58978 1.32583,-10 2,-10\", \"M65,217c-8.65513,0 3.04981,29.48318 5,31c5.41249,4.20972 15.93338,7 23,7c22.95419,0 22,-21.0419 22,-37\", \"M201,218c0,4.23349 -6.08208,13.37689 -3,18c8.88657,13.32985 37.84581,22.30838 48,2c4.12282,-8.24564 -4,-17.83787 -4,-23\", \"M40,166c9.25689,0 6.43939,51 -11,51c-3.07318,0 5.62563,-3.25126 7,-6c3.11652,-6.23305 7.69274,-12.38549 11,-19c2.58238,-5.16476 2,-12.15409 2,-18c0,-2.53859 -3.97638,-9.34331 -3,-7c11.15264,26.76633 4.09689,33.90311 -11,49\", \"M284,170c0,9.21757 -10,19.46351 -10,31c0,5.57239 -0.1954,10.73947 3,15c1.44222,1.92296 5.01649,8.17819 4,6c-8.07544,-17.30452 -10,-22.38239 -10,-40c0,-2.83682 11.45679,-17.54321 14,-15c3.05377,3.05377 -6.30699,20.53495 -7,24c-2.57634,12.88171 1,23.85489 1,36\"]'"
      ]
     },
     "execution_count": 42,
     "metadata": {},
     "output_type": "execute_result"
    }
   ],
   "source": [
    "## svg string formatting\n",
    "meta['svg'] = meta['svg'].str.replace('u', '')\n",
    "meta['svg'] = meta['svg'].str.replace(\"'\",'\"') \n",
    "meta.svg[2]"
   ]
  },
  {
   "cell_type": "code",
   "execution_count": 6,
   "metadata": {
    "collapsed": true
   },
   "outputs": [],
   "source": [
    "## add empty games list\n",
    "games = [[] for i in np.arange(len(meta))]\n",
    "meta = meta.assign(games=pd.Series(games))"
   ]
  },
  {
   "cell_type": "code",
   "execution_count": 7,
   "metadata": {
    "collapsed": false
   },
   "outputs": [
    {
     "name": "stdout",
     "output_type": "stream",
     "text": [
      "93 unique games worth of data.\n",
      "2976 unique sketches.\n"
     ]
    }
   ],
   "source": [
    "## how many games worth of data do we have?\n",
    "print '{} unique games worth of data.'.format(len(np.unique(meta.gameID.values)))\n",
    "print '{} unique sketches.'.format(len(meta))\n",
    "\n",
    "## write out metadata to json file\n",
    "\n",
    "## for example:\n",
    "stimdict = meta.to_dict(orient='records')\n",
    "stimdict\n",
    "import json\n",
    "with open('annotation_meta.js', 'w') as fout:\n",
    "     json.dump(stimdict, fout)"
   ]
  },
  {
   "cell_type": "markdown",
   "metadata": {},
   "source": [
    "### upload stim dictionary to mongo (db = 'stimuli', collection='sketchpad_basic_recog')"
   ]
  },
  {
   "cell_type": "code",
   "execution_count": 8,
   "metadata": {
    "collapsed": true
   },
   "outputs": [],
   "source": [
    "## load in the JSON that contains the svgData, object labels, and part labels\n",
    "J = json.loads(open('annotation_meta.js',mode='rU').read())\n",
    "assert len(J)==len(meta)"
   ]
  },
  {
   "cell_type": "code",
   "execution_count": 9,
   "metadata": {
    "collapsed": true
   },
   "outputs": [],
   "source": [
    "# set vars \n",
    "auth = pd.read_csv('auth.txt', header = None) # this auth.txt file contains the password for the sketchloop user\n",
    "pswd = auth.values[0][0]\n",
    "user = 'sketchloop'\n",
    "host = 'rxdhawkins.me' ## cocolab ip address\n",
    "\n",
    "# have to fix this to be able to analyze from local\n",
    "conn = pm.MongoClient('mongodb://sketchloop:' + pswd + '@127.0.0.1')"
   ]
  },
  {
   "cell_type": "code",
   "execution_count": 10,
   "metadata": {
    "collapsed": true
   },
   "outputs": [],
   "source": [
    "## define the dbname and collection name\n",
    "db = conn['stimuli']\n",
    "coll = db['svg_annotation_sketchpad_basic']"
   ]
  },
  {
   "cell_type": "code",
   "execution_count": 11,
   "metadata": {
    "collapsed": false
   },
   "outputs": [
    {
     "name": "stdout",
     "output_type": "stream",
     "text": [
      "0 of 2976\n",
      "250 of 2976\n",
      "500 of 2976\n",
      "750 of 2976\n",
      "1000 of 2976\n",
      "1250 of 2976\n",
      "1500 of 2976\n",
      "1750 of 2976\n",
      "2000 of 2976\n",
      "2250 of 2976\n",
      "2500 of 2976\n",
      "2750 of 2976\n"
     ]
    }
   ],
   "source": [
    "## actually add data now to the database (iff reallyRun==True)\n",
    "reallyRun = False\n",
    "if reallyRun:\n",
    "    for (i,j) in enumerate(J):\n",
    "        if i%250==0:\n",
    "            print ('%d of %d' % (i,len(J)))\n",
    "        coll.insert_one(j)\n",
    "reallyRun = False        "
   ]
  },
  {
   "cell_type": "code",
   "execution_count": 12,
   "metadata": {
    "collapsed": false
   },
   "outputs": [
    {
     "name": "stdout",
     "output_type": "stream",
     "text": [
      "We have 2976 sketches.\n",
      "We have these kinds: [u'chair', u'car', u'dog', u'bird']\n"
     ]
    }
   ],
   "source": [
    "## How many sketches do we have in the database?\n",
    "print 'We have {} sketches.'.format(coll.count())\n",
    "\n",
    "## What kind of sketches do we have in the database?\n",
    "print 'We have these kinds: {}'.format(str(coll.distinct('category')))"
   ]
  },
  {
   "cell_type": "code",
   "execution_count": null,
   "metadata": {
    "collapsed": true
   },
   "outputs": [],
   "source": []
  },
  {
   "cell_type": "code",
   "execution_count": null,
   "metadata": {
    "collapsed": true
   },
   "outputs": [],
   "source": []
  },
  {
   "cell_type": "code",
   "execution_count": null,
   "metadata": {
    "collapsed": true
   },
   "outputs": [],
   "source": []
  }
 ],
 "metadata": {
  "kernelspec": {
   "display_name": "Python 2",
   "language": "python",
   "name": "python2"
  },
  "language_info": {
   "codemirror_mode": {
    "name": "ipython",
    "version": 2
   },
   "file_extension": ".py",
   "mimetype": "text/x-python",
   "name": "python",
   "nbconvert_exporter": "python",
   "pygments_lexer": "ipython2",
   "version": "2.7.13"
  }
 },
 "nbformat": 4,
 "nbformat_minor": 1
}
