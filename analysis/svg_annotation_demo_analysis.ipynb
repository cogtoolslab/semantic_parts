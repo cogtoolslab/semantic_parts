{
 "cells": [
  {
   "cell_type": "code",
   "execution_count": 2,
   "metadata": {
    "collapsed": false
   },
   "outputs": [],
   "source": [
    "from __future__ import division\n",
    "\n",
    "import os\n",
    "import urllib, cStringIO\n",
    "\n",
    "import pymongo as pm\n",
    "\n",
    "import matplotlib\n",
    "from matplotlib import pylab, mlab, pyplot\n",
    "%matplotlib inline\n",
    "from IPython.core.pylabtools import figsize, getfigs\n",
    "plt = pyplot\n",
    "import seaborn as sns\n",
    "sns.set_context('poster')\n",
    "sns.set_style('white')\n",
    "\n",
    "import numpy as np\n",
    "import scipy.stats as stats\n",
    "import pandas as pd\n",
    "import json\n",
    "import re\n",
    "\n",
    "from PIL import Image\n",
    "import base64\n",
    "import sys\n",
    "\n",
    "from svgpathtools import parse_path\n",
    "\n",
    "import warnings\n",
    "warnings.filterwarnings(\"ignore\", category=DeprecationWarning)\n",
    "warnings.filterwarnings(\"ignore\", message=\"numpy.dtype size changed\")\n",
    "warnings.filterwarnings(\"ignore\", message=\"numpy.ufunc size changed\")"
   ]
  },
  {
   "cell_type": "markdown",
   "metadata": {},
   "source": [
    "### Setup"
   ]
  },
  {
   "cell_type": "code",
   "execution_count": 60,
   "metadata": {
    "collapsed": false
   },
   "outputs": [
    {
     "data": {
      "text/plain": [
       "<module 'analysis_helpers' from 'analysis_helpers.pyc'>"
      ]
     },
     "execution_count": 60,
     "metadata": {},
     "output_type": "execute_result"
    }
   ],
   "source": [
    "# directory & file hierarchy\n",
    "proj_dir = os.path.abspath('../')\n",
    "analysis_dir = os.getcwd()\n",
    "results_dir = os.path.join(proj_dir,'results')\n",
    "plot_dir = os.path.join(results_dir,'plots')\n",
    "csv_dir = os.path.join(results_dir,'csv')\n",
    "exp_dir = os.path.abspath(os.path.join(proj_dir,'experiments'))\n",
    "sketch_dir = os.path.abspath(os.path.join(proj_dir,'sketches'))\n",
    "\n",
    "## add helpers to python path\n",
    "if os.path.join(proj_dir,'analysis') not in sys.path:\n",
    "    sys.path.append(os.path.join(proj_dir,'analysis'))\n",
    "\n",
    "if not os.path.exists(results_dir):\n",
    "    os.makedirs(results_dir)  \n",
    "\n",
    "if not os.path.exists(plot_dir):\n",
    "    os.makedirs(plot_dir)   \n",
    "    \n",
    "if not os.path.exists(csv_dir):\n",
    "    os.makedirs(csv_dir)       \n",
    "    \n",
    "# Assign variables within imported analysis helpers\n",
    "import analysis_helpers as h\n",
    "if sys.version_info[0]>=3:\n",
    "    from importlib import reload\n",
    "reload(h)"
   ]
  },
  {
   "cell_type": "markdown",
   "metadata": {},
   "source": [
    "#### set up connection to mongo"
   ]
  },
  {
   "cell_type": "code",
   "execution_count": 107,
   "metadata": {
    "collapsed": false
   },
   "outputs": [],
   "source": [
    "#### set vars \n",
    "import pandas as pd\n",
    "auth = pd.read_csv('auth.txt', header = None) # this auth.txt file contains the password for the sketchloop user\n",
    "pswd = auth.values[0][0]\n",
    "user = 'sketchloop'\n",
    "host = 'rxdhawkins.me' ## cocolab ip address\n",
    "\n",
    "# have to fix this to be able to analyze from local\n",
    "import pymongo as pm\n",
    "conn = pm.MongoClient('mongodb://sketchloop:' + pswd + '@127.0.0.1')\n",
    "db = conn['svgAnnotation']\n",
    "coll = db['examples']\n",
    "\n",
    "# which iteration name should we use?\n",
    "iterationName = 'testing8'"
   ]
  },
  {
   "cell_type": "markdown",
   "metadata": {
    "collapsed": false
   },
   "source": [
    "### get some descriptive stats on our annotation data!"
   ]
  },
  {
   "cell_type": "code",
   "execution_count": 108,
   "metadata": {
    "collapsed": false
   },
   "outputs": [
    {
     "name": "stdout",
     "output_type": "stream",
     "text": [
      "We have 2 annotations so far.\n"
     ]
    }
   ],
   "source": [
    "num_annotations = coll.find({'iterationName':iterationName}).count()\n",
    "print 'We have {} annotations so far.'.format(num_annotations)"
   ]
  },
  {
   "cell_type": "markdown",
   "metadata": {
    "collapsed": false
   },
   "source": [
    "#### build up annotation data csv"
   ]
  },
  {
   "cell_type": "code",
   "execution_count": 109,
   "metadata": {
    "collapsed": true
   },
   "outputs": [],
   "source": [
    "## TODO remember to ignore researcher worker ID's in our dataset\n",
    "jefan = ['A1MMCS8S8CTWKU','A1MMCS8S8CTWKV','A1MMCS8S8CTWKS']\n",
    "hawkrobe = ['A1BOIDKD33QSDK']\n",
    "megsano = ['A1DVQQLVZR7W6I']\n",
    "kmukherjee = ['A1WU4IHJNQGVAY']\n",
    "researchers = jefan + hawkrobe + megsano + kmukherjee"
   ]
  },
  {
   "cell_type": "code",
   "execution_count": 110,
   "metadata": {
    "collapsed": false
   },
   "outputs": [],
   "source": [
    "## TODO use a helper function to get complete and valid HITs "
   ]
  },
  {
   "cell_type": "code",
   "execution_count": 111,
   "metadata": {
    "collapsed": true
   },
   "outputs": [],
   "source": [
    "## categories that are in play\n",
    "main_category = 'chair'"
   ]
  },
  {
   "cell_type": "code",
   "execution_count": 112,
   "metadata": {
    "collapsed": false
   },
   "outputs": [
    {
     "name": "stdout",
     "output_type": "stream",
     "text": [
      "Analyzing 0 of 2 sketches ...\n"
     ]
    },
    {
     "ename": "AssertionError",
     "evalue": "",
     "output_type": "error",
     "traceback": [
      "\u001b[0;31m-----------------------------------------------------\u001b[0m",
      "\u001b[0;31mAssertionError\u001b[0m      Traceback (most recent call last)",
      "\u001b[0;32m<ipython-input-112-538a7aae7935>\u001b[0m in \u001b[0;36m<module>\u001b[0;34m()\u001b[0m\n\u001b[1;32m     44\u001b[0m         \u001b[0mtime_submitted\u001b[0m\u001b[0;34m.\u001b[0m\u001b[0mappend\u001b[0m\u001b[0;34m(\u001b[0m\u001b[0msketch\u001b[0m\u001b[0;34m[\u001b[0m\u001b[0;34m'time'\u001b[0m\u001b[0;34m]\u001b[0m\u001b[0;34m)\u001b[0m\u001b[0;34m\u001b[0m\u001b[0m\n\u001b[1;32m     45\u001b[0m         \u001b[0mtrial_num\u001b[0m\u001b[0;34m.\u001b[0m\u001b[0mappend\u001b[0m\u001b[0;34m(\u001b[0m\u001b[0msketch\u001b[0m\u001b[0;34m[\u001b[0m\u001b[0;34m'trialNum'\u001b[0m\u001b[0;34m]\u001b[0m\u001b[0;34m)\u001b[0m\u001b[0;34m\u001b[0m\u001b[0m\n\u001b[0;32m---> 46\u001b[0;31m         \u001b[0;32massert\u001b[0m \u001b[0msketch\u001b[0m\u001b[0;34m[\u001b[0m\u001b[0;34m'numSplines'\u001b[0m\u001b[0;34m]\u001b[0m\u001b[0;34m==\u001b[0m\u001b[0mnum_splines\u001b[0m\u001b[0;34m\u001b[0m\u001b[0m\n\u001b[0m\u001b[1;32m     47\u001b[0m         \u001b[0mnum_splines_in_sketch\u001b[0m\u001b[0;34m.\u001b[0m\u001b[0mappend\u001b[0m\u001b[0;34m(\u001b[0m\u001b[0msketch\u001b[0m\u001b[0;34m[\u001b[0m\u001b[0;34m'numSplines'\u001b[0m\u001b[0;34m]\u001b[0m\u001b[0;34m)\u001b[0m\u001b[0;34m\u001b[0m\u001b[0m\n\u001b[1;32m     48\u001b[0m         \u001b[0mnum_strokes_in_sketch\u001b[0m\u001b[0;34m.\u001b[0m\u001b[0mappend\u001b[0m\u001b[0;34m(\u001b[0m\u001b[0msketch\u001b[0m\u001b[0;34m[\u001b[0m\u001b[0;34m'numStrokes'\u001b[0m\u001b[0;34m]\u001b[0m\u001b[0;34m)\u001b[0m\u001b[0;34m\u001b[0m\u001b[0m\n",
      "\u001b[0;31mAssertionError\u001b[0m: "
     ]
    }
   ],
   "source": [
    "### get all the sketch recs!\n",
    "sketch_recs = coll.find({'iterationName':iterationName}).sort('time')\n",
    "\n",
    "### initialize a bunch of stuff\n",
    "orig_gameID = [] # the gameID from which this sketch was sourced\n",
    "category = [] # e.g., \"chair\"\n",
    "target = [] # e.g., \"inlay\"\n",
    "condition = [] # e.g., \"closer\" vs. \"further\" or \"repeated\" vs. \"control\n",
    "trial_num = []\n",
    "time_submitted = [] # when the participant clicked \"next sketch\"\n",
    "time_labeled = [] # unique to each spline labeled\n",
    "time_clicked = [] # when this spline was clicked/selected\n",
    "num_strokes_in_sketch = [] # how many strokes in this sketch\n",
    "num_splines_in_sketch = [] # how many spline elements in this sketch\n",
    "stroke_num = [] # which stroke number this labeled spline came from\n",
    "cumulative_spline_num = [] # spline index in the cumulative spline sequence for the entire sketch\n",
    "within_stroke_spline_num = [] # spline index for the current stroke\n",
    "label = [] # the label provided by the participant\n",
    "spline_svg_string = [] # the svg spline string that earned this label\n",
    "sketch_svg_string = [] # the entire svg string correponding to this sketch\n",
    "\n",
    "for sketch_ind,sketch in enumerate(sketch_recs):\n",
    "    print 'Analyzing {} of {} sketches ...'.format(sketch_ind,sketch_recs.count())\n",
    "    ## get annotations embedded within record\n",
    "    annotations_string = sketch['annotations']  \n",
    "    ## convert to json dictionary\n",
    "    _annotations_dict = json.loads(annotations_string)   \n",
    "    annotations_dict = _annotations_dict[0][main_category]\n",
    "    num_splines = len(annotations_dict)\n",
    "    for annotation in annotations_dict:\n",
    "        ## get spline-level metadata\n",
    "        label.append(annotation['label'])\n",
    "        stroke_num.append(annotation['strokeNum'])\n",
    "        spline_svg_string.append(annotation['svgString'])\n",
    "        cumulative_spline_num.append(annotation['cumulativeSplineNum'])\n",
    "        within_stroke_spline_num.append(annotation['withinStrokeSplineNum'])\n",
    "        time_clicked.append(annotation['timeClicked'])\n",
    "        time_labeled.append(annotation['timeLabeled'])\n",
    "        ## get sketch-level metadata\n",
    "        orig_gameID.append(sketch['originalGameID'])        \n",
    "        category.append(sketch['category'])\n",
    "        target.append(sketch['target'])\n",
    "        condition.append(sketch['condition'])\n",
    "        time_submitted.append(sketch['time'])\n",
    "        trial_num.append(sketch['trialNum'])\n",
    "        assert sketch['numSplines']==num_splines\n",
    "        num_splines_in_sketch.append(sketch['numSplines'])\n",
    "        num_strokes_in_sketch.append(sketch['numStrokes'])\n",
    "        sketch_svg_string.append(sketch['svg'])\n",
    "                                "
   ]
  },
  {
   "cell_type": "code",
   "execution_count": 113,
   "metadata": {
    "collapsed": false
   },
   "outputs": [
    {
     "data": {
      "text/plain": [
       "22"
      ]
     },
     "execution_count": 113,
     "metadata": {},
     "output_type": "execute_result"
    }
   ],
   "source": [
    "sketch['numSplines']"
   ]
  },
  {
   "cell_type": "code",
   "execution_count": 114,
   "metadata": {
    "collapsed": false
   },
   "outputs": [
    {
     "data": {
      "text/plain": [
       "23"
      ]
     },
     "execution_count": 114,
     "metadata": {},
     "output_type": "execute_result"
    }
   ],
   "source": [
    "len(annotations_dict)"
   ]
  },
  {
   "cell_type": "code",
   "execution_count": 118,
   "metadata": {
    "collapsed": false
   },
   "outputs": [],
   "source": [
    "roop = []\n",
    "for doop in annotations_dict:\n",
    "    roop.append(doop['cumulativeSplineNum'])"
   ]
  },
  {
   "cell_type": "code",
   "execution_count": 127,
   "metadata": {
    "collapsed": false
   },
   "outputs": [
    {
     "data": {
      "text/plain": [
       "23"
      ]
     },
     "execution_count": 127,
     "metadata": {},
     "output_type": "execute_result"
    }
   ],
   "source": [
    "len(roop)"
   ]
  },
  {
   "cell_type": "code",
   "execution_count": 126,
   "metadata": {
    "collapsed": false
   },
   "outputs": [
    {
     "data": {
      "text/plain": [
       "[0,\n",
       " 1,\n",
       " 2,\n",
       " 3,\n",
       " 4,\n",
       " 5,\n",
       " 6,\n",
       " 7,\n",
       " 8,\n",
       " 9,\n",
       " 10,\n",
       " 11,\n",
       " 12,\n",
       " 13,\n",
       " 14,\n",
       " 15,\n",
       " 16,\n",
       " 16,\n",
       " 17,\n",
       " 18,\n",
       " 19,\n",
       " 20,\n",
       " 21]"
      ]
     },
     "execution_count": 126,
     "metadata": {},
     "output_type": "execute_result"
    }
   ],
   "source": [
    "sorted(roop)"
   ]
  },
  {
   "cell_type": "code",
   "execution_count": 122,
   "metadata": {
    "collapsed": false
   },
   "outputs": [
    {
     "data": {
      "text/plain": [
       "22"
      ]
     },
     "execution_count": 122,
     "metadata": {},
     "output_type": "execute_result"
    }
   ],
   "source": [
    "len(np.unique(roop))"
   ]
  },
  {
   "cell_type": "code",
   "execution_count": 123,
   "metadata": {
    "collapsed": false
   },
   "outputs": [
    {
     "data": {
      "text/plain": [
       "[{u'cumulativeSplineNum': 11,\n",
       "  u'label': u'leg',\n",
       "  u'strokeColor': [u'Color', 0.57647, 0.52157, 0.48235],\n",
       "  u'strokeNum': 1,\n",
       "  u'svgString': u'M139,212c-3.49268,6.98536 -6.75552,13.51104 -10,20c-0.91676,1.83351 -1.65516,8 -3,8',\n",
       "  u'timeClicked': 1533351094145,\n",
       "  u'timeLabeled': 1533351095485,\n",
       "  u'withinStrokeSplineNum': 2},\n",
       " {u'cumulativeSplineNum': 20,\n",
       "  u'label': u'leg',\n",
       "  u'strokeColor': [u'Color', 0.57647, 0.52157, 0.48235],\n",
       "  u'strokeNum': 4,\n",
       "  u'svgString': u'M61,108c-2.0648,6.19439 2.56415,6.69245 4,11c1.05409,3.16228 0,6.66667 0,10c0,29.75973 3,62.46388 3,90',\n",
       "  u'timeClicked': 1533351094145,\n",
       "  u'timeLabeled': 1533351095486,\n",
       "  u'withinStrokeSplineNum': 1},\n",
       " {u'cumulativeSplineNum': 13,\n",
       "  u'label': u'leg',\n",
       "  u'strokeColor': [u'Color', 0.57647, 0.52157, 0.48235],\n",
       "  u'strokeNum': 2,\n",
       "  u'svgString': u'M213,189c0,7.9763 -1,14.83683 -1,23',\n",
       "  u'timeClicked': 1533351094145,\n",
       "  u'timeLabeled': 1533351095487,\n",
       "  u'withinStrokeSplineNum': 1},\n",
       " {u'cumulativeSplineNum': 14,\n",
       "  u'label': u'leg',\n",
       "  u'strokeColor': [u'Color', 0.57647, 0.52157, 0.48235],\n",
       "  u'strokeNum': 2,\n",
       "  u'svgString': u'M212,212c0,3.66667 3.66667,11 0,11c-2.43274,0 -2,-6.53217 -2,-8',\n",
       "  u'timeClicked': 1533351094145,\n",
       "  u'timeLabeled': 1533351095487,\n",
       "  u'withinStrokeSplineNum': 2},\n",
       " {u'cumulativeSplineNum': 10,\n",
       "  u'label': u'leg',\n",
       "  u'strokeColor': [u'Color', 0.57647, 0.52157, 0.48235],\n",
       "  u'strokeNum': 1,\n",
       "  u'svgString': u'M138,146c1.41313,2.82626 2.7698,62.46041 1,66',\n",
       "  u'timeClicked': 1533351096706,\n",
       "  u'timeLabeled': 1533351097271,\n",
       "  u'withinStrokeSplineNum': 1},\n",
       " {u'cumulativeSplineNum': 12,\n",
       "  u'label': u'leg',\n",
       "  u'strokeColor': [u'Color', 0.57647, 0.52157, 0.48235],\n",
       "  u'strokeNum': 2,\n",
       "  u'svgString': u'M203,132c13.06011,0 10,46.9542 10,57',\n",
       "  u'timeClicked': 1533351098014,\n",
       "  u'timeLabeled': 1533351098554,\n",
       "  u'withinStrokeSplineNum': 0},\n",
       " {u'cumulativeSplineNum': 9,\n",
       "  u'label': u'armrest',\n",
       "  u'strokeColor': [u'Color', 0.81176, 0.32157, 0.18039],\n",
       "  u'strokeNum': 1,\n",
       "  u'svgString': u'M204,129c-7.73705,0 -70.82837,7.34326 -66,17',\n",
       "  u'timeClicked': 1533351099135,\n",
       "  u'timeLabeled': 1533351100069,\n",
       "  u'withinStrokeSplineNum': 0},\n",
       " {u'cumulativeSplineNum': 19,\n",
       "  u'label': u'armrest',\n",
       "  u'strokeColor': [u'Color', 0.81176, 0.32157, 0.18039],\n",
       "  u'strokeNum': 4,\n",
       "  u'svgString': u'M122,112c-7.30422,-7.30422 -55.07478,-21.77565 -61,-4',\n",
       "  u'timeClicked': 1533351100802,\n",
       "  u'timeLabeled': 1533351101569,\n",
       "  u'withinStrokeSplineNum': 0},\n",
       " {u'cumulativeSplineNum': 18,\n",
       "  u'label': u'seat',\n",
       "  u'strokeColor': [u'Color', 0.69412, 0.41961, 0.32941],\n",
       "  u'strokeNum': 3,\n",
       "  u'svgString': u'M97,151c14.31691,-3.57923 20.59504,-10.59917 35,-13c1.5064,-0.25107 13.36575,-1.81712 7,-5',\n",
       "  u'timeClicked': 1533351104317,\n",
       "  u'timeLabeled': 1533351105335,\n",
       "  u'withinStrokeSplineNum': 3},\n",
       " {u'cumulativeSplineNum': 17,\n",
       "  u'label': u'seat',\n",
       "  u'strokeColor': [u'Color', 0.69412, 0.41961, 0.32941],\n",
       "  u'strokeNum': 3,\n",
       "  u'svgString': u'M79,152c-0.82396,-1.64792 16.75702,-0.68926 18,-1',\n",
       "  u'timeClicked': 1533351104317,\n",
       "  u'timeLabeled': 1533351105335,\n",
       "  u'withinStrokeSplineNum': 2},\n",
       " {u'cumulativeSplineNum': 16,\n",
       "  u'label': u'seat',\n",
       "  u'strokeColor': [u'Color', 0.69412, 0.41961, 0.32941],\n",
       "  u'strokeNum': 3,\n",
       "  u'svgString': u'M102,185c-0.84553,0 -3.47967,0.52033 -4,0c-8.44143,-8.44143 -14.02115,-23.04231 -19,-33',\n",
       "  u'timeClicked': 1533351104317,\n",
       "  u'timeLabeled': 1533351105335,\n",
       "  u'withinStrokeSplineNum': 1},\n",
       " {u'cumulativeSplineNum': 15,\n",
       "  u'label': u'seat',\n",
       "  u'strokeColor': [u'Color', 0.69412, 0.41961, 0.32941],\n",
       "  u'strokeNum': 3,\n",
       "  u'svgString': u'M195,167c-29.70029,0 -68.38054,18 -93,18',\n",
       "  u'timeClicked': 1533351104317,\n",
       "  u'timeLabeled': 1533351105335,\n",
       "  u'withinStrokeSplineNum': 0},\n",
       " {u'cumulativeSplineNum': 5,\n",
       "  u'label': u'seat',\n",
       "  u'strokeColor': [u'Color', 0.69412, 0.41961, 0.32941],\n",
       "  u'strokeNum': 0,\n",
       "  u'svgString': u'M171,161c-16.11027,-4.39371 -35.00089,-8 -52,-8',\n",
       "  u'timeClicked': 1533351106924,\n",
       "  u'timeLabeled': 1533351107657,\n",
       "  u'withinStrokeSplineNum': 5},\n",
       " {u'cumulativeSplineNum': 4,\n",
       "  u'label': u'seat',\n",
       "  u'strokeColor': [u'Color', 0.69412, 0.41961, 0.32941],\n",
       "  u'strokeNum': 0,\n",
       "  u'svgString': u'M201,176c0,1.20185 -1.03852,-2.27889 -2,-3c-2.14994,-1.61245 -4.5963,-2.79815 -7,-4c-7.0239,-3.51195 -13.37274,-5.91984 -21,-8',\n",
       "  u'timeClicked': 1533351106924,\n",
       "  u'timeLabeled': 1533351107658,\n",
       "  u'withinStrokeSplineNum': 4},\n",
       " {u'cumulativeSplineNum': 3,\n",
       "  u'label': u'backrest',\n",
       "  u'strokeColor': [u'Color', 0.92941, 0.21961, 0.03137],\n",
       "  u'strokeNum': 0,\n",
       "  u'svgString': u'M202,103c-4.34013,23.87069 -1,49.00635 -1,73',\n",
       "  u'timeClicked': 1533351109063,\n",
       "  u'timeLabeled': 1533351109791,\n",
       "  u'withinStrokeSplineNum': 3},\n",
       " {u'cumulativeSplineNum': 6,\n",
       "  u'label': u'backrest',\n",
       "  u'strokeColor': [u'Color', 0.92941, 0.21961, 0.03137],\n",
       "  u'strokeNum': 0,\n",
       "  u'svgString': u'M119,153c-0.07708,0 -4.88447,0.23107 -5,0c-0.83565,-1.67129 -0.37869,-6.10657 0,-8c4.25762,-21.28811 -2.10746,-44.57017 3,-65',\n",
       "  u'timeClicked': 1533351110851,\n",
       "  u'timeLabeled': 1533351111556,\n",
       "  u'withinStrokeSplineNum': 6},\n",
       " {u'cumulativeSplineNum': 8,\n",
       "  u'label': u'backrest',\n",
       "  u'strokeColor': [u'Color', 0.92941, 0.21961, 0.03137],\n",
       "  u'strokeNum': 0,\n",
       "  u'svgString': u'M160,80c2.68811,-0.17921 29.47974,-3 22,-3',\n",
       "  u'timeClicked': 1533351112546,\n",
       "  u'timeLabeled': 1533351113455,\n",
       "  u'withinStrokeSplineNum': 8},\n",
       " {u'cumulativeSplineNum': 7,\n",
       "  u'label': u'backrest',\n",
       "  u'strokeColor': [u'Color', 0.92941, 0.21961, 0.03137],\n",
       "  u'strokeNum': 0,\n",
       "  u'svgString': u'M117,80c0.18078,-0.7231 0.33333,-1.66667 1,-2c9.90205,-4.95103 31.11266,2.72582 42,2',\n",
       "  u'timeClicked': 1533351112546,\n",
       "  u'timeLabeled': 1533351113456,\n",
       "  u'withinStrokeSplineNum': 7},\n",
       " {u'cumulativeSplineNum': 1,\n",
       "  u'label': u'backrest',\n",
       "  u'strokeColor': [u'Color', 0.92941, 0.21961, 0.03137],\n",
       "  u'strokeNum': 0,\n",
       "  u'svgString': u'M190,82c1.71127,0.3667 17.78494,-0.43011 19,2',\n",
       "  u'timeClicked': 1533351112546,\n",
       "  u'timeLabeled': 1533351113456,\n",
       "  u'withinStrokeSplineNum': 1},\n",
       " {u'cumulativeSplineNum': 2,\n",
       "  u'label': u'backrest',\n",
       "  u'strokeColor': [u'Color', 0.92941, 0.21961, 0.03137],\n",
       "  u'strokeNum': 0,\n",
       "  u'svgString': u'M209,84c1.44855,2.8971 -6.54008,16.47041 -7,19',\n",
       "  u'timeClicked': 1533351112546,\n",
       "  u'timeLabeled': 1533351113456,\n",
       "  u'withinStrokeSplineNum': 2},\n",
       " {u'cumulativeSplineNum': 0,\n",
       "  u'label': u'backrest',\n",
       "  u'strokeColor': [u'Color', 0.92941, 0.21961, 0.03137],\n",
       "  u'strokeNum': 0,\n",
       "  u'svgString': u'M152,74c13.43903,0 25.01757,5.21805 38,8',\n",
       "  u'timeClicked': 1533351114071,\n",
       "  u'timeLabeled': 1533351115035,\n",
       "  u'withinStrokeSplineNum': 0},\n",
       " {u'cumulativeSplineNum': 16,\n",
       "  u'label': u'seat',\n",
       "  u'strokeColor': [u'Color', 0.69412, 0.41961, 0.32941],\n",
       "  u'strokeNum': 3,\n",
       "  u'svgString': u'M102,185c-0.84553,0 -3.47967,0.52033 -4,0c-8.44143,-8.44143 -14.02115,-23.04231 -19,-33',\n",
       "  u'timeClicked': 1533351114071,\n",
       "  u'timeLabeled': 1533351117036,\n",
       "  u'withinStrokeSplineNum': 1},\n",
       " {u'cumulativeSplineNum': 21,\n",
       "  u'label': u'seat',\n",
       "  u'strokeColor': [u'Color', 0.69412, 0.41961, 0.32941],\n",
       "  u'strokeNum': 5,\n",
       "  u'svgString': u'M86,149c-9.25325,0 -29.5789,5 -11,5',\n",
       "  u'timeClicked': 1533351117932,\n",
       "  u'timeLabeled': 1533351118601,\n",
       "  u'withinStrokeSplineNum': 0}]"
      ]
     },
     "execution_count": 123,
     "metadata": {},
     "output_type": "execute_result"
    }
   ],
   "source": [
    "annotations_dict"
   ]
  },
  {
   "cell_type": "code",
   "execution_count": null,
   "metadata": {
    "collapsed": true
   },
   "outputs": [],
   "source": []
  },
  {
   "cell_type": "code",
   "execution_count": null,
   "metadata": {
    "collapsed": false
   },
   "outputs": [],
   "source": []
  },
  {
   "cell_type": "code",
   "execution_count": 82,
   "metadata": {
    "collapsed": true
   },
   "outputs": [],
   "source": [
    "sketch = sketch_recs[0]\n",
    "## get annotations embedded within record\n",
    "annotations_string = sketch['annotations']  \n",
    "## convert to json dictionary\n",
    "_annotations_dict = json.loads(annotations_string)   \n",
    "annotations_dict = _annotations_dict[0][main_category]\n",
    "num_splines = len(annotations_dict)\n",
    "# for annotation in annotations_dict:"
   ]
  },
  {
   "cell_type": "code",
   "execution_count": 88,
   "metadata": {
    "collapsed": false
   },
   "outputs": [
    {
     "data": {
      "text/plain": [
       "{u'cumulativeSplineNum': 39,\n",
       " u'label': u'backrest',\n",
       " u'strokeColor': [u'Color', 0.92941, 0.21961, 0.03137],\n",
       " u'strokeNum': 19,\n",
       " u'svgString': u'M79,105c1.66667,0 3.33333,0 5,0',\n",
       " u'timeClicked': 1533350332615,\n",
       " u'timeLabeled': 1533350334651,\n",
       " u'withinStrokeSplineNum': 0}"
      ]
     },
     "execution_count": 88,
     "metadata": {},
     "output_type": "execute_result"
    }
   ],
   "source": [
    "annotations_dict[30]"
   ]
  },
  {
   "cell_type": "code",
   "execution_count": 90,
   "metadata": {
    "collapsed": false
   },
   "outputs": [
    {
     "data": {
      "text/plain": [
       "41"
      ]
     },
     "execution_count": 90,
     "metadata": {},
     "output_type": "execute_result"
    }
   ],
   "source": [
    "sketch['numSplines']"
   ]
  },
  {
   "cell_type": "code",
   "execution_count": null,
   "metadata": {
    "collapsed": true
   },
   "outputs": [],
   "source": []
  }
 ],
 "metadata": {
  "kernelspec": {
   "display_name": "Python 2",
   "language": "python",
   "name": "python2"
  },
  "language_info": {
   "codemirror_mode": {
    "name": "ipython",
    "version": 2
   },
   "file_extension": ".py",
   "mimetype": "text/x-python",
   "name": "python",
   "nbconvert_exporter": "python",
   "pygments_lexer": "ipython2",
   "version": "2.7.13"
  }
 },
 "nbformat": 4,
 "nbformat_minor": 2
}
