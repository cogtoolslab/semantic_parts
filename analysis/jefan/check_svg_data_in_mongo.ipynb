{
 "cells": [
  {
   "cell_type": "code",
   "execution_count": 27,
   "metadata": {
    "collapsed": false
   },
   "outputs": [],
   "source": [
    "#%matplotlib inline\n",
    "import os\n",
    "import numpy as np\n",
    "from PIL import Image\n",
    "import matplotlib as mp\n",
    "from matplotlib import pyplot,pylab\n",
    "plt = pyplot\n",
    "import scipy\n",
    "from __future__ import division\n",
    "\n",
    "import seaborn as sns\n",
    "sns.set_context('poster')\n",
    "sns.set_style('white')\n",
    "import string\n",
    "import pandas as pd\n",
    "from scipy import stats\n",
    "\n",
    "%matplotlib inline\n",
    "from IPython.core.pylabtools import figsize, getfigs\n",
    "\n",
    "import json\n",
    "import pymongo as pm\n",
    "\n",
    "from svgpathtools import parse_path\n",
    "\n",
    "import warnings\n",
    "warnings.filterwarnings(\"ignore\", category=DeprecationWarning)\n",
    "warnings.filterwarnings(\"ignore\", message=\"numpy.dtype size changed\")\n",
    "warnings.filterwarnings(\"ignore\", message=\"numpy.ufunc size changed\")"
   ]
  },
  {
   "cell_type": "markdown",
   "metadata": {
    "collapsed": true
   },
   "source": [
    "#### set up access to db "
   ]
  },
  {
   "cell_type": "code",
   "execution_count": 11,
   "metadata": {
    "collapsed": true
   },
   "outputs": [],
   "source": [
    "#### set vars \n",
    "import pandas as pd\n",
    "auth = pd.read_csv('auth.txt', header = None) # this auth.txt file contains the password for the sketchloop user\n",
    "pswd = auth.values[0][0]\n",
    "user = 'sketchloop'\n",
    "host = 'rxdhawkins.me' ## cocolab ip address\n",
    "\n",
    "# have to fix this to be able to analyze from local\n",
    "import pymongo as pm\n",
    "conn = pm.MongoClient('mongodb://sketchloop:' + pswd + '@127.0.0.1')\n",
    "category_flag = 'chairs4'\n",
    "dbname = 'stimuli'\n",
    "colname = 'svg_annotation_sketchpad_basic_{}_dev'.format(category_flag)\n",
    "db = conn[dbname]\n",
    "coll = db[colname]"
   ]
  },
  {
   "cell_type": "markdown",
   "metadata": {},
   "source": [
    "#### how to filter for a particular thing using pymongo"
   ]
  },
  {
   "cell_type": "code",
   "execution_count": 15,
   "metadata": {
    "collapsed": false
   },
   "outputs": [
    {
     "data": {
      "text/plain": [
       "{u'Distractor1': u'leather',\n",
       " u'Distractor2': u'inlay',\n",
       " u'Distractor3': u'squat',\n",
       " u'_id': ObjectId('5b64eea2938d5c3f0c54461b'),\n",
       " u'category': u'chair',\n",
       " u'condition': u'closer',\n",
       " u'drawDuration': 21.246,\n",
       " u'gameID': u'7004-6ff0964c-ff95-40f9-8696-d6a8931c94d5',\n",
       " u'games': [],\n",
       " u'index': 8,\n",
       " u'iteration': u'pilot2',\n",
       " u'iterationName': u'sketchpad_basic_chairs4',\n",
       " u'level_0': 1,\n",
       " u'mean_intensity': 0.0722,\n",
       " u'numSplines': 52,\n",
       " u'numStrokes': 11,\n",
       " u'outcome': True,\n",
       " u'parts': [u'backrest,armrest,seat,leg'],\n",
       " u'pose': 35,\n",
       " u'response': u'waiting',\n",
       " u'svg': [u'M65,288c0,-47.26597 -10.61179,-88.33968 29,-123c7.48469,-6.5491 16.56343,-16 27,-16',\n",
       "  u'M70,235c29.90144,0 59.48333,3 89,3c1.59397,0 8.92315,1.07685 10,0c3.89674,-3.89674 42.96756,-41 37,-41',\n",
       "  u'M68,231c11.52976,0 51.77736,-44.77736 59,-52c3.47514,-3.47514 59.1498,22 76,22',\n",
       "  u'M126,148c0,9.3314 -1.24095,22.5181 3,31',\n",
       "  u'M152,180c0,-5.00908 4.70884,-10.87349 3,-16c-3.19002,-9.57006 -11.78009,-14.56017 -16,-23c-1.5706,-3.14121 -10.74249,0.25751 -13,-2c-1.23897,-1.23897 0,-10.01335 0,-12c0,-28.89634 15.60698,-42.89884 45,-38c21.42253,3.57042 49.02875,31.94251 37,56c-0.09797,0.19593 -19.93075,14.93075 -23,18c-3.59915,3.59915 -5.77801,25 1,25',\n",
       "  u'M209,143c-8.35939,16.71877 0,40.64292 0,58',\n",
       "  u'M206,203c0,22.38464 -1,46.95212 -1,69',\n",
       "  u'M169,242c0,17.87101 2,35.23731 2,53',\n",
       "  u'M105,239c0,9 0,18 0,27',\n",
       "  u'M143,104c9.91032,-1.88768 19.9115,-4 30,-4c0.66667,0 2.59628,-0.29814 2,0c-1.22927,0.61464 -2.65836,0.70186 -4,1c-11.93632,2.65252 -23.35053,5.50516 -35,9c-0.71392,0.21418 -2.52705,0.47295 -2,1c4.11636,4.11636 11.23709,3.17673 17,4c17.3139,2.47341 34.67277,4.62175 52,7c0.73843,0.10135 -1.28091,0.80388 -2,1c-8.19892,2.23607 -16.62382,3.56408 -25,5c-7.35571,1.26098 -28.50656,1.00437 -36,6c-0.83205,0.5547 2.00295,-0.0767 3,0c3.67094,0.28238 7.32827,0.72802 11,1c7.64281,0.56613 47.18386,1.18386 51,5c2.23607,2.23607 -6,2 -9,3c-9.4103,3.13677 -32.8038,7.8038 -40,15c-0.79103,0.79103 17.728,7.728 19,9c4.73378,4.73378 -12.35786,14.09476 -11,15c1.65469,1.10313 15,8.00136 15,5',\n",
       "  u'M128,185c-3.7099,0 -5.7811,1.62047 -9,3c-24.82747,10.64034 40.03363,3.60673 47,5c2.35702,0.4714 -3.85006,2.92503 -6,4c-1.17152,0.58576 -21.13675,8.72649 -20,11c3.20966,6.41932 22.11846,9 29,9c0.33333,0 1,-0.33333 1,0c0,3.15795 -23.84701,1.48792 -43,3c-8.03725,0.63452 -16.22183,0.87868 -24,3c-0.90959,0.24807 -2.93127,1.85296 -2,2c1.9651,0.31028 50.63828,1.63828 52,3c0.2357,0.2357 0.26029,0.79177 0,1c-5.76644,4.61315 -12.47552,7.73776 -19,11c-0.66667,0.33333 -1.73333,1.86667 -1,2c4.76496,0.86636 42,3.59024 42,-1'],\n",
       " u'target': u'waiting',\n",
       " u'trialNum': 9,\n",
       " u'viewerRT': 1.7930000000000001}"
      ]
     },
     "execution_count": 15,
     "metadata": {},
     "output_type": "execute_result"
    }
   ],
   "source": [
    "## get me a record (usually it will be deterministic, and get the \"first one\")\n",
    "coll.find_one()"
   ]
  },
  {
   "cell_type": "code",
   "execution_count": 23,
   "metadata": {
    "collapsed": true
   },
   "outputs": [],
   "source": [
    "## filter based on a key\n",
    "## so in this example, we'll just get the \"waiting\" chair sketches\n",
    "## when it's a string you can just put it on the other side of the colon\n",
    "stims = coll.find({'target':'waiting'}).sort('gameID')"
   ]
  },
  {
   "cell_type": "code",
   "execution_count": 24,
   "metadata": {
    "collapsed": false
   },
   "outputs": [
    {
     "data": {
      "text/plain": [
       "93"
      ]
     },
     "execution_count": 24,
     "metadata": {},
     "output_type": "execute_result"
    }
   ],
   "source": [
    "## how many of these stims are there in the db?\n",
    "stims.count()"
   ]
  },
  {
   "cell_type": "code",
   "execution_count": 25,
   "metadata": {
    "collapsed": true
   },
   "outputs": [],
   "source": [
    "## build up list of svg strings for each waiting chair sketch\n",
    "svgs = []\n",
    "for rec in stims:\n",
    "    svgs.append(rec['svg'])\n"
   ]
  },
  {
   "cell_type": "code",
   "execution_count": 29,
   "metadata": {
    "collapsed": false
   },
   "outputs": [],
   "source": [
    "this_sketch = svgs[0]"
   ]
  },
  {
   "cell_type": "code",
   "execution_count": 30,
   "metadata": {
    "collapsed": false
   },
   "outputs": [
    {
     "data": {
      "text/plain": [
       "[u'M146,84c0,21.72408 -0.06307,43.33773 2,65c0.60933,6.39795 2.21963,12.75706 3,19c0.09083,0.72662 1,13.88531 1,10',\n",
       " u'M210,91c-2.57876,0 0.41919,15.74741 0,30c-0.70621,24.011 -1,47.96348 -1,72',\n",
       " u'M127,185c22.64434,-11.32217 48.8802,-7.36555 73,-4c7.00322,0.97719 14.00873,1.94072 21,3c5.84003,0.88485 17,5 17,5c0,0 -12.78972,26.67289 -13,27c-10.98522,17.08812 -26.35619,33.35619 -39,46c-1.4359,1.4359 -0.92308,-1.84615 -1,-2c-5.27634,-10.55268 -19.03966,-18.01983 -29,-23c-8.09927,-4.04964 -25.26548,-13 -36,-13c-2,0 -6,2 -6,0c0,-13.03829 21.45625,-34.72813 32,-40']"
      ]
     },
     "execution_count": 30,
     "metadata": {},
     "output_type": "execute_result"
    }
   ],
   "source": [
    "this_sketch"
   ]
  },
  {
   "cell_type": "code",
   "execution_count": 31,
   "metadata": {
    "collapsed": true
   },
   "outputs": [],
   "source": [
    "this_stroke = this_sketch[0]"
   ]
  },
  {
   "cell_type": "code",
   "execution_count": 32,
   "metadata": {
    "collapsed": false
   },
   "outputs": [
    {
     "data": {
      "text/plain": [
       "u'M146,84c0,21.72408 -0.06307,43.33773 2,65c0.60933,6.39795 2.21963,12.75706 3,19c0.09083,0.72662 1,13.88531 1,10'"
      ]
     },
     "execution_count": 32,
     "metadata": {},
     "output_type": "execute_result"
    }
   ],
   "source": [
    "this_stroke"
   ]
  },
  {
   "cell_type": "code",
   "execution_count": 34,
   "metadata": {
    "collapsed": false
   },
   "outputs": [],
   "source": [
    "## it parses the stroke into constituent splines AND converts them to absolute coordinates\n",
    "parsed_stroke = parse_path(this_stroke)"
   ]
  },
  {
   "cell_type": "code",
   "execution_count": 35,
   "metadata": {
    "collapsed": false
   },
   "outputs": [
    {
     "data": {
      "text/plain": [
       "Path(CubicBezier(start=(146+84j), control1=(146+105.72408j), control2=(145.93693+127.33773j), end=(148+149j)),\n",
       "     CubicBezier(start=(148+149j), control1=(148.60933+155.39795j), control2=(150.21963+161.75706j), end=(151+168j)),\n",
       "     CubicBezier(start=(151+168j), control1=(151.09083+168.72662j), control2=(152+181.88531j), end=(152+178j)))"
      ]
     },
     "execution_count": 35,
     "metadata": {},
     "output_type": "execute_result"
    }
   ],
   "source": [
    "parsed_stroke"
   ]
  },
  {
   "cell_type": "code",
   "execution_count": 39,
   "metadata": {
    "collapsed": false
   },
   "outputs": [
    {
     "data": {
      "text/plain": [
       "CubicBezier(start=(146+84j), control1=(146+105.72408j), control2=(145.93693+127.33773j), end=(148+149j))"
      ]
     },
     "execution_count": 39,
     "metadata": {},
     "output_type": "execute_result"
    }
   ],
   "source": [
    "parsed_stroke[0]"
   ]
  },
  {
   "cell_type": "code",
   "execution_count": null,
   "metadata": {
    "collapsed": true
   },
   "outputs": [],
   "source": []
  }
 ],
 "metadata": {
  "kernelspec": {
   "display_name": "Python 2",
   "language": "python",
   "name": "python2"
  },
  "language_info": {
   "codemirror_mode": {
    "name": "ipython",
    "version": 2
   },
   "file_extension": ".py",
   "mimetype": "text/x-python",
   "name": "python",
   "nbconvert_exporter": "python",
   "pygments_lexer": "ipython2",
   "version": "2.7.13"
  }
 },
 "nbformat": 4,
 "nbformat_minor": 1
}
