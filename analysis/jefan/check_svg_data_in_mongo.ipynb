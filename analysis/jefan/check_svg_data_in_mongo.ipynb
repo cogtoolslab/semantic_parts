{
 "cells": [
  {
   "cell_type": "code",
   "execution_count": 40,
   "metadata": {
    "collapsed": false
   },
   "outputs": [],
   "source": [
    "#%matplotlib inline\n",
    "import os\n",
    "import numpy as np\n",
    "from PIL import Image\n",
    "import matplotlib as mp\n",
    "from matplotlib import pyplot,pylab\n",
    "plt = pyplot\n",
    "import scipy\n",
    "from __future__ import division\n",
    "\n",
    "import seaborn as sns\n",
    "sns.set_context('poster')\n",
    "sns.set_style('white')\n",
    "import string\n",
    "import pandas as pd\n",
    "from scipy import stats\n",
    "\n",
    "%matplotlib inline\n",
    "from IPython.core.pylabtools import figsize, getfigs\n",
    "\n",
    "import json\n",
    "import pymongo as pm\n",
    "\n",
    "from svgpathtools import parse_path\n",
    "\n",
    "import warnings\n",
    "warnings.filterwarnings(\"ignore\", category=DeprecationWarning)\n",
    "warnings.filterwarnings(\"ignore\", message=\"numpy.dtype size changed\")\n",
    "warnings.filterwarnings(\"ignore\", message=\"numpy.ufunc size changed\")"
   ]
  },
  {
   "cell_type": "markdown",
   "metadata": {
    "collapsed": true
   },
   "source": [
    "#### set up access to db "
   ]
  },
  {
   "cell_type": "code",
   "execution_count": 53,
   "metadata": {
    "collapsed": true
   },
   "outputs": [],
   "source": [
    "#### set vars \n",
    "import pandas as pd\n",
    "auth = pd.read_csv('auth.txt', header = None) # this auth.txt file contains the password for the sketchloop user\n",
    "pswd = auth.values[0][0]\n",
    "user = 'sketchloop'\n",
    "host = 'rxdhawkins.me' ## cocolab ip address\n",
    "\n",
    "# have to fix this to be able to analyze from local\n",
    "import pymongo as pm\n",
    "conn = pm.MongoClient('mongodb://sketchloop:' + pswd + '@127.0.0.1')\n",
    "category_flag = 'chairs4'\n",
    "dbname = 'stimuli'\n",
    "colname = 'svg_annotation_sketchpad_basic_{}_dev'.format(category_flag)\n",
    "db = conn[dbname]\n",
    "coll = db[colname]"
   ]
  },
  {
   "cell_type": "markdown",
   "metadata": {},
   "source": [
    "#### how to filter for a particular thing using pymongo"
   ]
  },
  {
   "cell_type": "code",
   "execution_count": 54,
   "metadata": {
    "collapsed": false
   },
   "outputs": [],
   "source": [
    "## get me a record (usually it will be deterministic, and get the \"first one\")\n",
    "a = coll.find_one()"
   ]
  },
  {
   "cell_type": "code",
   "execution_count": 55,
   "metadata": {
    "collapsed": false
   },
   "outputs": [
    {
     "name": "stdout",
     "output_type": "stream",
     "text": [
      "87\n"
     ]
    }
   ],
   "source": [
    "## get me stims for which numGames exists as a field\n",
    "a = coll.find({'numGames':{'$exists': True}}).sort('category')\n",
    "print a.count()"
   ]
  },
  {
   "cell_type": "code",
   "execution_count": 56,
   "metadata": {
    "collapsed": true
   },
   "outputs": [],
   "source": [
    "## filter based on a key\n",
    "## so in this example, we'll just get the \"waiting\" chair sketches\n",
    "## when it's a string you can just put it on the other side of the colon\n",
    "stims = coll.find({'target':'waiting'}).sort('gameID')"
   ]
  },
  {
   "cell_type": "code",
   "execution_count": 24,
   "metadata": {
    "collapsed": false
   },
   "outputs": [
    {
     "data": {
      "text/plain": [
       "93"
      ]
     },
     "execution_count": 24,
     "metadata": {},
     "output_type": "execute_result"
    }
   ],
   "source": [
    "## how many of these stims are there in the db?\n",
    "stims.count()"
   ]
  },
  {
   "cell_type": "code",
   "execution_count": 25,
   "metadata": {
    "collapsed": true
   },
   "outputs": [],
   "source": [
    "## build up list of svg strings for each waiting chair sketch\n",
    "svgs = []\n",
    "for rec in stims:\n",
    "    svgs.append(rec['svg'])\n"
   ]
  },
  {
   "cell_type": "code",
   "execution_count": 29,
   "metadata": {
    "collapsed": false
   },
   "outputs": [],
   "source": [
    "this_sketch = svgs[0]"
   ]
  },
  {
   "cell_type": "code",
   "execution_count": 30,
   "metadata": {
    "collapsed": false
   },
   "outputs": [
    {
     "data": {
      "text/plain": [
       "[u'M146,84c0,21.72408 -0.06307,43.33773 2,65c0.60933,6.39795 2.21963,12.75706 3,19c0.09083,0.72662 1,13.88531 1,10',\n",
       " u'M210,91c-2.57876,0 0.41919,15.74741 0,30c-0.70621,24.011 -1,47.96348 -1,72',\n",
       " u'M127,185c22.64434,-11.32217 48.8802,-7.36555 73,-4c7.00322,0.97719 14.00873,1.94072 21,3c5.84003,0.88485 17,5 17,5c0,0 -12.78972,26.67289 -13,27c-10.98522,17.08812 -26.35619,33.35619 -39,46c-1.4359,1.4359 -0.92308,-1.84615 -1,-2c-5.27634,-10.55268 -19.03966,-18.01983 -29,-23c-8.09927,-4.04964 -25.26548,-13 -36,-13c-2,0 -6,2 -6,0c0,-13.03829 21.45625,-34.72813 32,-40']"
      ]
     },
     "execution_count": 30,
     "metadata": {},
     "output_type": "execute_result"
    }
   ],
   "source": [
    "this_sketch"
   ]
  },
  {
   "cell_type": "code",
   "execution_count": 31,
   "metadata": {
    "collapsed": true
   },
   "outputs": [],
   "source": [
    "this_stroke = this_sketch[0]"
   ]
  },
  {
   "cell_type": "code",
   "execution_count": 32,
   "metadata": {
    "collapsed": false
   },
   "outputs": [
    {
     "data": {
      "text/plain": [
       "u'M146,84c0,21.72408 -0.06307,43.33773 2,65c0.60933,6.39795 2.21963,12.75706 3,19c0.09083,0.72662 1,13.88531 1,10'"
      ]
     },
     "execution_count": 32,
     "metadata": {},
     "output_type": "execute_result"
    }
   ],
   "source": [
    "this_stroke"
   ]
  },
  {
   "cell_type": "code",
   "execution_count": 34,
   "metadata": {
    "collapsed": false
   },
   "outputs": [],
   "source": [
    "## it parses the stroke into constituent splines AND converts them to absolute coordinates\n",
    "parsed_stroke = parse_path(this_stroke)"
   ]
  },
  {
   "cell_type": "code",
   "execution_count": 35,
   "metadata": {
    "collapsed": false
   },
   "outputs": [
    {
     "data": {
      "text/plain": [
       "Path(CubicBezier(start=(146+84j), control1=(146+105.72408j), control2=(145.93693+127.33773j), end=(148+149j)),\n",
       "     CubicBezier(start=(148+149j), control1=(148.60933+155.39795j), control2=(150.21963+161.75706j), end=(151+168j)),\n",
       "     CubicBezier(start=(151+168j), control1=(151.09083+168.72662j), control2=(152+181.88531j), end=(152+178j)))"
      ]
     },
     "execution_count": 35,
     "metadata": {},
     "output_type": "execute_result"
    }
   ],
   "source": [
    "parsed_stroke"
   ]
  },
  {
   "cell_type": "code",
   "execution_count": 39,
   "metadata": {
    "collapsed": false
   },
   "outputs": [
    {
     "data": {
      "text/plain": [
       "CubicBezier(start=(146+84j), control1=(146+105.72408j), control2=(145.93693+127.33773j), end=(148+149j))"
      ]
     },
     "execution_count": 39,
     "metadata": {},
     "output_type": "execute_result"
    }
   ],
   "source": [
    "parsed_stroke[0]"
   ]
  },
  {
   "cell_type": "code",
   "execution_count": null,
   "metadata": {
    "collapsed": true
   },
   "outputs": [],
   "source": []
  }
 ],
 "metadata": {
  "kernelspec": {
   "display_name": "Python 2",
   "language": "python",
   "name": "python2"
  },
  "language_info": {
   "codemirror_mode": {
    "name": "ipython",
    "version": 2
   },
   "file_extension": ".py",
   "mimetype": "text/x-python",
   "name": "python",
   "nbconvert_exporter": "python",
   "pygments_lexer": "ipython2",
   "version": "2.7.13"
  }
 },
 "nbformat": 4,
 "nbformat_minor": 1
}
