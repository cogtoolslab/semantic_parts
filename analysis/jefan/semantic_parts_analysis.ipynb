{
 "cells": [
  {
   "cell_type": "code",
   "execution_count": 1,
   "metadata": {
    "collapsed": true
   },
   "outputs": [],
   "source": [
    "from __future__ import absolute_import, division\n",
    "\n",
    "import os\n",
    "import urllib, cStringIO\n",
    "\n",
    "import pymongo as pm\n",
    "\n",
    "import numpy as np\n",
    "import scipy.stats as stats\n",
    "import pandas as pd\n",
    "import json\n",
    "import re\n",
    "\n",
    "from PIL import Image\n",
    "import base64\n",
    "import sys\n",
    "\n",
    "import matplotlib\n",
    "from matplotlib import pylab, mlab, pyplot\n",
    "%matplotlib inline\n",
    "from IPython.core.pylabtools import figsize, getfigs\n",
    "plt = pyplot\n",
    "import seaborn as sns\n",
    "sns.set_context('talk')\n",
    "sns.set_style('darkgrid')\n",
    "\n",
    "from IPython.display import clear_output\n",
    "\n",
    "import warnings\n",
    "warnings.filterwarnings(\"ignore\", category=DeprecationWarning)\n",
    "warnings.filterwarnings(\"ignore\", message=\"numpy.dtype size changed\")\n",
    "warnings.filterwarnings(\"ignore\", message=\"numpy.ufunc size changed\")"
   ]
  },
  {
   "cell_type": "markdown",
   "metadata": {},
   "source": [
    "### setting up paths\n"
   ]
  },
  {
   "cell_type": "code",
   "execution_count": 2,
   "metadata": {
    "collapsed": false
   },
   "outputs": [
    {
     "data": {
      "text/plain": [
       "<module 'analysis_helpers' from '/Users/judithfan/semantic_parts/analysis/analysis_helpers.pyc'>"
      ]
     },
     "execution_count": 2,
     "metadata": {},
     "output_type": "execute_result"
    }
   ],
   "source": [
    "# directory & file hierarchy\n",
    "proj_dir = os.path.abspath('../..')\n",
    "analysis_dir = os.getcwd()\n",
    "results_dir = os.path.join(proj_dir,'results')\n",
    "plot_dir = os.path.join(results_dir,'plots')\n",
    "features_dir= os.path.join(results_dir,'features')\n",
    "exp_dir = os.path.abspath(os.path.join(proj_dir,'experiments'))\n",
    "sketch_dir = os.path.abspath(os.path.join(proj_dir,'sketches'))\n",
    "\n",
    "## add helpers to python path\n",
    "if os.path.join(proj_dir,'analysis') not in sys.path:\n",
    "    sys.path.append(os.path.join(proj_dir,'analysis'))\n",
    "\n",
    "if not os.path.exists(results_dir):\n",
    "    os.makedirs(results_dir)  \n",
    "\n",
    "if not os.path.exists(plot_dir):\n",
    "    os.makedirs(plot_dir)   \n",
    "    \n",
    "if not os.path.exists(csv_dir):\n",
    "    os.makedirs(csv_dir)  \n",
    "\n",
    "if not os.path.exists(features_dir):\n",
    "    os.makedirs(features_dir)\n",
    "    \n",
    "## add helpers to python path\n",
    "if os.path.join(proj_dir,'analysis') not in sys.path:\n",
    "    sys.path.append(os.path.join(proj_dir,'analysis'))        \n",
    "    \n",
    "# Assign variables within imported analysis helpers\n",
    "import analysis_helpers as h\n",
    "if sys.version_info[0]>=3:\n",
    "    from importlib import reload\n",
    "reload(h)"
   ]
  },
  {
   "cell_type": "markdown",
   "metadata": {},
   "source": [
    "#### helpers"
   ]
  },
  {
   "cell_type": "code",
   "execution_count": 142,
   "metadata": {
    "collapsed": true
   },
   "outputs": [],
   "source": [
    "def cleanup_df(X):\n",
    "    if 'Unnamed: 0' in X.columns:\n",
    "        X = X.drop(columns=['Unnamed: 0'])\n",
    "    return X\n",
    "\n",
    "def flatten(x):\n",
    "    return [item for sublist in x for item in sublist]"
   ]
  },
  {
   "cell_type": "code",
   "execution_count": 215,
   "metadata": {
    "collapsed": true
   },
   "outputs": [],
   "source": [
    "## helper dictionaries \n",
    "OBJECT_TO_CATEGORY = {\n",
    "    'basset': 'dog', 'beetle': 'car', 'bloodhound': 'dog', 'bluejay': 'bird',\n",
    "    'bluesedan': 'car', 'bluesport': 'car', 'brown': 'car', 'bullmastiff': 'dog',\n",
    "    'chihuahua': 'dog', 'crow': 'bird', 'cuckoo': 'bird', 'doberman': 'dog',\n",
    "    'goldenretriever': 'dog', 'hatchback': 'car', 'inlay': 'chair', 'knob': 'chair',\n",
    "    'leather': 'chair', 'nightingale': 'bird', 'pigeon': 'bird', 'pug': 'dog',\n",
    "    'redantique': 'car', 'redsport': 'car', 'robin': 'bird', 'sling': 'chair',\n",
    "    'sparrow': 'bird', 'squat': 'chair', 'straight': 'chair', 'tomtit': 'bird',\n",
    "    'waiting': 'chair', 'weimaraner': 'dog', 'white': 'car', 'woven': 'chair',\n",
    "}\n",
    "CATEGORY_TO_OBJECT = {\n",
    "    'dog': ['basset', 'bloodhound', 'bullmastiff', 'chihuahua', 'doberman', 'goldenretriever', 'pug', 'weimaraner'],\n",
    "    'car': ['beetle', 'bluesedan', 'bluesport', 'brown', 'hatchback', 'redantique', 'redsport', 'white'],\n",
    "    'bird': ['bluejay', 'crow', 'cuckoo', 'nightingale', 'pigeon', 'robin', 'sparrow', 'tomtit'],\n",
    "    'chair': ['inlay', 'knob', 'leather', 'sling', 'squat', 'straight', 'waiting', 'woven'],\n",
    "}"
   ]
  },
  {
   "cell_type": "markdown",
   "metadata": {},
   "source": [
    "#### load in data"
   ]
  },
  {
   "cell_type": "code",
   "execution_count": 163,
   "metadata": {
    "collapsed": false
   },
   "outputs": [],
   "source": [
    "## loading in files we need\n",
    "feature_df = cleanup_df(pd.read_csv(os.path.join(features_dir,'semantic_parts_sketch_features_compressed.csv')))\n",
    "meta_df = cleanup_df(pd.read_csv(os.path.join(features_dir,'semantic_parts_sketch_meta.csv')))"
   ]
  },
  {
   "cell_type": "code",
   "execution_count": 164,
   "metadata": {
    "collapsed": false
   },
   "outputs": [],
   "source": [
    "## concatenate meta and features to enable easy subsetting of dataframe\n",
    "F = pd.concat((meta_df,feature_df),axis=1)"
   ]
  },
  {
   "cell_type": "code",
   "execution_count": 165,
   "metadata": {
    "collapsed": false
   },
   "outputs": [],
   "source": [
    "## aggregate by target and condition and take the mean across rows within each group\n",
    "F2 = F.groupby(['target','condition']).mean().reset_index()"
   ]
  },
  {
   "cell_type": "code",
   "execution_count": 183,
   "metadata": {
    "collapsed": false
   },
   "outputs": [],
   "source": [
    "## construct dictionary of object to part labels\n",
    "\n",
    "## version where each part label within category is treated distinctly\n",
    "part_dict_expanded = {'bird': ['beak', 'body', 'eye', 'feet', 'head', 'leg', 'tail', 'wing'], \\\n",
    "                     'car': ['body.1', 'bumper', 'door', 'headlight', 'hood', 'trunk', 'wheel', 'window', 'windshield'],\\\n",
    "                     'chair': ['armrest', 'backrest', 'leg.1', 'seat'], \\\n",
    "                     'dog': ['body.2', 'ear', 'eye.1', 'head.1', 'leg.2', 'mouth', 'neck', 'paw', 'tail.1']}\n",
    "\n",
    "## version where each repeating part labels within category are not distinguished\n",
    "part_dict_compressed = {'bird': ['beak', 'body', 'eye', 'feet', 'head', 'leg', 'tail', 'wing'], \\\n",
    "                     'car': ['body', 'bumper', 'door', 'headlight', 'hood', 'trunk', 'wheel', 'window', 'windshield'],\\\n",
    "                     'chair': ['armrest', 'backrest', 'leg', 'seat'], \\\n",
    "                     'dog': ['body', 'ear', 'eye', 'head', 'leg', 'mouth', 'neck', 'paw', 'tail']}\n",
    "\n",
    "## abbreviated handles \n",
    "pde = part_dict_expanded\n",
    "pdc = part_dict_compressed"
   ]
  },
  {
   "cell_type": "code",
   "execution_count": 184,
   "metadata": {
    "collapsed": true
   },
   "outputs": [],
   "source": [
    "## re-label the columns feature df that represent numstrokes to contain word 'numstrokes'\n",
    "part_list = []\n",
    "for key in pdc.keys():\n",
    "    part_list.append(pdc[key])\n",
    "part_list = list(np.unique(flatten(part_list)))"
   ]
  },
  {
   "cell_type": "code",
   "execution_count": 185,
   "metadata": {
    "collapsed": false
   },
   "outputs": [],
   "source": [
    "## rename numstroke columns \n",
    "for this_part in part_list:\n",
    "    F2.rename(columns={this_part:'{}_numstrokes'.format(this_part)}, inplace=True)"
   ]
  },
  {
   "cell_type": "code",
   "execution_count": 186,
   "metadata": {
    "collapsed": false
   },
   "outputs": [],
   "source": [
    "## add arclength feature to set of columns associated with this category\n",
    "def add_arclength_cols(part_dict):    \n",
    "    for category in part_dict.keys():\n",
    "        part_dict[category] = [i + '_numstrokes' for i in part_dict[category]] + \\\n",
    "                              [i + '_total_arclength' for i in part_dict[category]]\n",
    "    return part_dict"
   ]
  },
  {
   "cell_type": "code",
   "execution_count": 187,
   "metadata": {
    "collapsed": false
   },
   "outputs": [],
   "source": [
    "## now actually add arc length columns to the list of columns considered by the \n",
    "pdc = add_arclength_cols(pdc)\n",
    "pde = add_arclength_cols(pde)"
   ]
  },
  {
   "cell_type": "code",
   "execution_count": 220,
   "metadata": {
    "collapsed": false
   },
   "outputs": [],
   "source": [
    "## re-add category back to the F2 dataframe so we can subset on that later\n",
    "F2['category'] = F2['target'].apply(lambda x: OBJECT_TO_CATEGORY[x])"
   ]
  },
  {
   "cell_type": "code",
   "execution_count": null,
   "metadata": {
    "collapsed": false
   },
   "outputs": [],
   "source": []
  },
  {
   "cell_type": "code",
   "execution_count": 221,
   "metadata": {
    "collapsed": false
   },
   "outputs": [],
   "source": [
    "## get inds for subsetting dataframe\n",
    "close_inds = F2['condition'] == 'closer'\n",
    "far_inds = F2['condition'] == 'further'\n",
    "\n",
    "category_inds = F2['category']=='bird'\n",
    "\n",
    "obj_list = np.unique(F2.target.values)\n",
    "obj_inds = F2['target']=='tomtit'"
   ]
  },
  {
   "cell_type": "code",
   "execution_count": null,
   "metadata": {
    "collapsed": true
   },
   "outputs": [],
   "source": []
  },
  {
   "cell_type": "code",
   "execution_count": 193,
   "metadata": {
    "collapsed": false
   },
   "outputs": [],
   "source": [
    "## extract particular row corresponding to this object in each condition\n",
    "f = F2[(far_inds) & obj_inds][pdc['bird']].reset_index(drop=True)\n",
    "c = F2[(close_inds) & obj_inds][pdc['bird']].reset_index(drop=True)"
   ]
  },
  {
   "cell_type": "code",
   "execution_count": 231,
   "metadata": {
    "collapsed": false
   },
   "outputs": [],
   "source": [
    "## extract particular row corresponding to this object in each condition\n",
    "f = F2[(category_inds) & (far_inds)][pdc['bird']].reset_index(drop=True)\n",
    "c = F2[(category_inds) & (close_inds)][pdc['bird']].reset_index(drop=True)"
   ]
  },
  {
   "cell_type": "code",
   "execution_count": 234,
   "metadata": {
    "collapsed": false
   },
   "outputs": [],
   "source": [
    "diff = c.sub(f)"
   ]
  },
  {
   "cell_type": "code",
   "execution_count": 235,
   "metadata": {
    "collapsed": false
   },
   "outputs": [
    {
     "data": {
      "text/html": [
       "<div>\n",
       "<style scoped>\n",
       "    .dataframe tbody tr th:only-of-type {\n",
       "        vertical-align: middle;\n",
       "    }\n",
       "\n",
       "    .dataframe tbody tr th {\n",
       "        vertical-align: top;\n",
       "    }\n",
       "\n",
       "    .dataframe thead th {\n",
       "        text-align: right;\n",
       "    }\n",
       "</style>\n",
       "<table border=\"1\" class=\"dataframe\">\n",
       "  <thead>\n",
       "    <tr style=\"text-align: right;\">\n",
       "      <th></th>\n",
       "      <th>beak_numstrokes</th>\n",
       "      <th>body_numstrokes</th>\n",
       "      <th>eye_numstrokes</th>\n",
       "      <th>feet_numstrokes</th>\n",
       "      <th>head_numstrokes</th>\n",
       "      <th>leg_numstrokes</th>\n",
       "      <th>tail_numstrokes</th>\n",
       "      <th>wing_numstrokes</th>\n",
       "      <th>beak_total_arclength</th>\n",
       "      <th>body_total_arclength</th>\n",
       "      <th>eye_total_arclength</th>\n",
       "      <th>feet_total_arclength</th>\n",
       "      <th>head_total_arclength</th>\n",
       "      <th>leg_total_arclength</th>\n",
       "      <th>tail_total_arclength</th>\n",
       "      <th>wing_total_arclength</th>\n",
       "    </tr>\n",
       "  </thead>\n",
       "  <tbody>\n",
       "    <tr>\n",
       "      <th>0</th>\n",
       "      <td>1.330882</td>\n",
       "      <td>0.812500</td>\n",
       "      <td>0.507353</td>\n",
       "      <td>-0.069853</td>\n",
       "      <td>1.099265</td>\n",
       "      <td>-0.187500</td>\n",
       "      <td>0.165441</td>\n",
       "      <td>0.279412</td>\n",
       "      <td>77.797794</td>\n",
       "      <td>35.327206</td>\n",
       "      <td>11.687500</td>\n",
       "      <td>-15.621324</td>\n",
       "      <td>101.647059</td>\n",
       "      <td>-67.794118</td>\n",
       "      <td>32.102941</td>\n",
       "      <td>40.216912</td>\n",
       "    </tr>\n",
       "    <tr>\n",
       "      <th>1</th>\n",
       "      <td>1.070588</td>\n",
       "      <td>-0.129412</td>\n",
       "      <td>0.141176</td>\n",
       "      <td>-0.400000</td>\n",
       "      <td>0.282353</td>\n",
       "      <td>1.000000</td>\n",
       "      <td>0.282353</td>\n",
       "      <td>0.082353</td>\n",
       "      <td>65.188235</td>\n",
       "      <td>-150.082353</td>\n",
       "      <td>1.294118</td>\n",
       "      <td>141.988235</td>\n",
       "      <td>164.258824</td>\n",
       "      <td>46.200000</td>\n",
       "      <td>22.717647</td>\n",
       "      <td>-7.270588</td>\n",
       "    </tr>\n",
       "    <tr>\n",
       "      <th>2</th>\n",
       "      <td>-0.009524</td>\n",
       "      <td>1.114286</td>\n",
       "      <td>-0.038095</td>\n",
       "      <td>0.266667</td>\n",
       "      <td>0.133333</td>\n",
       "      <td>0.542857</td>\n",
       "      <td>0.180952</td>\n",
       "      <td>0.600000</td>\n",
       "      <td>3.180952</td>\n",
       "      <td>12.704762</td>\n",
       "      <td>4.200000</td>\n",
       "      <td>-62.123810</td>\n",
       "      <td>-0.314286</td>\n",
       "      <td>19.990476</td>\n",
       "      <td>28.752381</td>\n",
       "      <td>184.723810</td>\n",
       "    </tr>\n",
       "    <tr>\n",
       "      <th>3</th>\n",
       "      <td>0.445378</td>\n",
       "      <td>0.542017</td>\n",
       "      <td>0.613445</td>\n",
       "      <td>0.466387</td>\n",
       "      <td>1.218487</td>\n",
       "      <td>-0.352941</td>\n",
       "      <td>0.663866</td>\n",
       "      <td>0.386555</td>\n",
       "      <td>13.747899</td>\n",
       "      <td>52.516807</td>\n",
       "      <td>-4.554622</td>\n",
       "      <td>25.529412</td>\n",
       "      <td>160.861345</td>\n",
       "      <td>-46.201681</td>\n",
       "      <td>63.163866</td>\n",
       "      <td>56.063025</td>\n",
       "    </tr>\n",
       "    <tr>\n",
       "      <th>4</th>\n",
       "      <td>0.441558</td>\n",
       "      <td>0.889610</td>\n",
       "      <td>1.331169</td>\n",
       "      <td>0.785714</td>\n",
       "      <td>-0.103896</td>\n",
       "      <td>0.168831</td>\n",
       "      <td>0.402597</td>\n",
       "      <td>2.857143</td>\n",
       "      <td>26.461039</td>\n",
       "      <td>142.428571</td>\n",
       "      <td>66.584416</td>\n",
       "      <td>59.766234</td>\n",
       "      <td>-42.493506</td>\n",
       "      <td>-121.779221</td>\n",
       "      <td>40.974026</td>\n",
       "      <td>164.168831</td>\n",
       "    </tr>\n",
       "    <tr>\n",
       "      <th>5</th>\n",
       "      <td>-0.238095</td>\n",
       "      <td>0.126984</td>\n",
       "      <td>-0.095238</td>\n",
       "      <td>0.595238</td>\n",
       "      <td>1.007937</td>\n",
       "      <td>-0.095238</td>\n",
       "      <td>-0.063492</td>\n",
       "      <td>1.190476</td>\n",
       "      <td>-6.047619</td>\n",
       "      <td>-83.023810</td>\n",
       "      <td>-6.761905</td>\n",
       "      <td>33.928571</td>\n",
       "      <td>412.642857</td>\n",
       "      <td>72.214286</td>\n",
       "      <td>-9.865079</td>\n",
       "      <td>227.849206</td>\n",
       "    </tr>\n",
       "    <tr>\n",
       "      <th>6</th>\n",
       "      <td>0.578947</td>\n",
       "      <td>1.322368</td>\n",
       "      <td>-0.098684</td>\n",
       "      <td>0.325658</td>\n",
       "      <td>0.434211</td>\n",
       "      <td>0.171053</td>\n",
       "      <td>0.039474</td>\n",
       "      <td>1.049342</td>\n",
       "      <td>58.480263</td>\n",
       "      <td>17.842105</td>\n",
       "      <td>-1.190789</td>\n",
       "      <td>-32.407895</td>\n",
       "      <td>98.115132</td>\n",
       "      <td>33.898026</td>\n",
       "      <td>21.148026</td>\n",
       "      <td>44.723684</td>\n",
       "    </tr>\n",
       "    <tr>\n",
       "      <th>7</th>\n",
       "      <td>0.523810</td>\n",
       "      <td>1.349206</td>\n",
       "      <td>0.079365</td>\n",
       "      <td>0.507937</td>\n",
       "      <td>1.460317</td>\n",
       "      <td>-0.841270</td>\n",
       "      <td>0.222222</td>\n",
       "      <td>1.666667</td>\n",
       "      <td>34.253968</td>\n",
       "      <td>1.142857</td>\n",
       "      <td>3.000000</td>\n",
       "      <td>16.079365</td>\n",
       "      <td>132.984127</td>\n",
       "      <td>-50.968254</td>\n",
       "      <td>47.746032</td>\n",
       "      <td>126.746032</td>\n",
       "    </tr>\n",
       "  </tbody>\n",
       "</table>\n",
       "</div>"
      ],
      "text/plain": [
       "   beak_numstrokes  body_numstrokes  eye_numstrokes  feet_numstrokes  \\\n",
       "0         1.330882         0.812500        0.507353        -0.069853   \n",
       "1         1.070588        -0.129412        0.141176        -0.400000   \n",
       "2        -0.009524         1.114286       -0.038095         0.266667   \n",
       "3         0.445378         0.542017        0.613445         0.466387   \n",
       "4         0.441558         0.889610        1.331169         0.785714   \n",
       "5        -0.238095         0.126984       -0.095238         0.595238   \n",
       "6         0.578947         1.322368       -0.098684         0.325658   \n",
       "7         0.523810         1.349206        0.079365         0.507937   \n",
       "\n",
       "   head_numstrokes  leg_numstrokes  tail_numstrokes  wing_numstrokes  \\\n",
       "0         1.099265       -0.187500         0.165441         0.279412   \n",
       "1         0.282353        1.000000         0.282353         0.082353   \n",
       "2         0.133333        0.542857         0.180952         0.600000   \n",
       "3         1.218487       -0.352941         0.663866         0.386555   \n",
       "4        -0.103896        0.168831         0.402597         2.857143   \n",
       "5         1.007937       -0.095238        -0.063492         1.190476   \n",
       "6         0.434211        0.171053         0.039474         1.049342   \n",
       "7         1.460317       -0.841270         0.222222         1.666667   \n",
       "\n",
       "   beak_total_arclength  body_total_arclength  eye_total_arclength  \\\n",
       "0             77.797794             35.327206            11.687500   \n",
       "1             65.188235           -150.082353             1.294118   \n",
       "2              3.180952             12.704762             4.200000   \n",
       "3             13.747899             52.516807            -4.554622   \n",
       "4             26.461039            142.428571            66.584416   \n",
       "5             -6.047619            -83.023810            -6.761905   \n",
       "6             58.480263             17.842105            -1.190789   \n",
       "7             34.253968              1.142857             3.000000   \n",
       "\n",
       "   feet_total_arclength  head_total_arclength  leg_total_arclength  \\\n",
       "0            -15.621324            101.647059           -67.794118   \n",
       "1            141.988235            164.258824            46.200000   \n",
       "2            -62.123810             -0.314286            19.990476   \n",
       "3             25.529412            160.861345           -46.201681   \n",
       "4             59.766234            -42.493506          -121.779221   \n",
       "5             33.928571            412.642857            72.214286   \n",
       "6            -32.407895             98.115132            33.898026   \n",
       "7             16.079365            132.984127           -50.968254   \n",
       "\n",
       "   tail_total_arclength  wing_total_arclength  \n",
       "0             32.102941             40.216912  \n",
       "1             22.717647             -7.270588  \n",
       "2             28.752381            184.723810  \n",
       "3             63.163866             56.063025  \n",
       "4             40.974026            164.168831  \n",
       "5             -9.865079            227.849206  \n",
       "6             21.148026             44.723684  \n",
       "7             47.746032            126.746032  "
      ]
     },
     "execution_count": 235,
     "metadata": {},
     "output_type": "execute_result"
    }
   ],
   "source": [
    "diff"
   ]
  },
  {
   "cell_type": "code",
   "execution_count": 263,
   "metadata": {
    "collapsed": false
   },
   "outputs": [],
   "source": [
    "assert np.vstack((np.array(c),np.array(f))).shape == (16, 16)"
   ]
  },
  {
   "cell_type": "code",
   "execution_count": 264,
   "metadata": {
    "collapsed": false
   },
   "outputs": [],
   "source": [
    "fmat = np.vstack((np.array(c),np.array(f)))"
   ]
  },
  {
   "cell_type": "code",
   "execution_count": 265,
   "metadata": {
    "collapsed": true
   },
   "outputs": [],
   "source": [
    "def normalize(X):\n",
    "    X = X - X.mean(0)\n",
    "    X = X / np.maximum(X.std(0), 1e-5)\n",
    "    return X"
   ]
  },
  {
   "cell_type": "code",
   "execution_count": 266,
   "metadata": {
    "collapsed": true
   },
   "outputs": [],
   "source": [
    "fmat = normalize(fmat)"
   ]
  },
  {
   "cell_type": "code",
   "execution_count": 267,
   "metadata": {
    "collapsed": false
   },
   "outputs": [
    {
     "data": {
      "text/plain": [
       "<matplotlib.colorbar.Colorbar at 0x11f0c5390>"
      ]
     },
     "execution_count": 267,
     "metadata": {},
     "output_type": "execute_result"
    },
    {
     "data": {
      "image/png": "[encoded data removed]",
      "text/plain": [
       "<Figure size 288x288 with 2 Axes>"
      ]
     },
     "metadata": {},
     "output_type": "display_data"
    }
   ],
   "source": [
    "from sklearn.metrics import *\n",
    "sns.set_style('white')\n",
    "D = pairwise_distances(fmat,metric='euclidean')\n",
    "plt.matshow(D)\n",
    "plt.colorbar()"
   ]
  },
  {
   "cell_type": "code",
   "execution_count": 262,
   "metadata": {
    "collapsed": false
   },
   "outputs": [
    {
     "data": {
      "text/plain": [
       "array([0.9128148 , 1.37886504, 1.09996825, 1.03772605, 1.22489882,\n",
       "       1.12874522, 0.79791233, 1.15215666, 0.51056247, 0.46126497,\n",
       "       0.81097176, 0.70506223, 0.86181085, 0.53817208, 0.58134567,\n",
       "       0.46828113])"
      ]
     },
     "execution_count": 262,
     "metadata": {},
     "output_type": "execute_result"
    }
   ],
   "source": [
    "fmat.std(1)"
   ]
  },
  {
   "cell_type": "code",
   "execution_count": null,
   "metadata": {
    "collapsed": true
   },
   "outputs": [],
   "source": []
  }
 ],
 "metadata": {
  "kernelspec": {
   "display_name": "Python 2",
   "language": "python",
   "name": "python2"
  },
  "language_info": {
   "codemirror_mode": {
    "name": "ipython",
    "version": 2
   },
   "file_extension": ".py",
   "mimetype": "text/x-python",
   "name": "python",
   "nbconvert_exporter": "python",
   "pygments_lexer": "ipython2",
   "version": "2.7.13"
  }
 },
 "nbformat": 4,
 "nbformat_minor": 1
}
