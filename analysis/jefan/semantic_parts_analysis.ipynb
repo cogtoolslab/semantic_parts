{
 "cells": [
  {
   "cell_type": "code",
   "execution_count": 1,
   "metadata": {
    "collapsed": true
   },
   "outputs": [],
   "source": [
    "from __future__ import absolute_import, division\n",
    "\n",
    "import os\n",
    "import urllib, cStringIO\n",
    "\n",
    "import pymongo as pm\n",
    "\n",
    "import numpy as np\n",
    "import scipy.stats as stats\n",
    "import pandas as pd\n",
    "import json\n",
    "import re\n",
    "\n",
    "from PIL import Image\n",
    "import base64\n",
    "import sys\n",
    "\n",
    "import matplotlib\n",
    "from matplotlib import pylab, mlab, pyplot\n",
    "%matplotlib inline\n",
    "from IPython.core.pylabtools import figsize, getfigs\n",
    "plt = pyplot\n",
    "import seaborn as sns\n",
    "sns.set_context('talk')\n",
    "sns.set_style('darkgrid')\n",
    "\n",
    "from IPython.display import clear_output\n",
    "\n",
    "import warnings\n",
    "warnings.filterwarnings(\"ignore\", category=DeprecationWarning)\n",
    "warnings.filterwarnings(\"ignore\", message=\"numpy.dtype size changed\")\n",
    "warnings.filterwarnings(\"ignore\", message=\"numpy.ufunc size changed\")"
   ]
  },
  {
   "cell_type": "markdown",
   "metadata": {},
   "source": [
    "### setting up paths\n"
   ]
  },
  {
   "cell_type": "code",
   "execution_count": 2,
   "metadata": {
    "collapsed": false
   },
   "outputs": [
    {
     "data": {
      "text/plain": [
       "<module 'analysis_helpers' from '/Users/judithfan/semantic_parts/analysis/analysis_helpers.pyc'>"
      ]
     },
     "execution_count": 2,
     "metadata": {},
     "output_type": "execute_result"
    }
   ],
   "source": [
    "# directory & file hierarchy\n",
    "proj_dir = os.path.abspath('../..')\n",
    "analysis_dir = os.getcwd()\n",
    "results_dir = os.path.join(proj_dir,'results')\n",
    "plot_dir = os.path.join(results_dir,'plots')\n",
    "csv_dir = os.path.join(results_dir,'csv')\n",
    "features_dir= os.path.join(results_dir,'features')\n",
    "exp_dir = os.path.abspath(os.path.join(proj_dir,'experiments'))\n",
    "sketch_dir = os.path.abspath(os.path.join(proj_dir,'sketches'))\n",
    "\n",
    "## add helpers to python path\n",
    "if os.path.join(proj_dir,'analysis') not in sys.path:\n",
    "    sys.path.append(os.path.join(proj_dir,'analysis'))\n",
    "\n",
    "if not os.path.exists(results_dir):\n",
    "    os.makedirs(results_dir)  \n",
    "\n",
    "if not os.path.exists(plot_dir):\n",
    "    os.makedirs(plot_dir)   \n",
    "    \n",
    "if not os.path.exists(csv_dir):\n",
    "    os.makedirs(csv_dir)  \n",
    "\n",
    "if not os.path.exists(features_dir):\n",
    "    os.makedirs(features_dir)\n",
    "    \n",
    "## add helpers to python path\n",
    "if os.path.join(proj_dir,'analysis') not in sys.path:\n",
    "    sys.path.append(os.path.join(proj_dir,'analysis'))        \n",
    "    \n",
    "# Assign variables within imported analysis helpers\n",
    "import analysis_helpers as h\n",
    "if sys.version_info[0]>=3:\n",
    "    from importlib import reload\n",
    "reload(h)"
   ]
  },
  {
   "cell_type": "markdown",
   "metadata": {},
   "source": [
    "#### helpers"
   ]
  },
  {
   "cell_type": "code",
   "execution_count": 14,
   "metadata": {
    "collapsed": true
   },
   "outputs": [],
   "source": [
    "def cleanup_df(X):\n",
    "    if 'Unnamed: 0' in X.columns:\n",
    "        X = X.drop(columns=['Unnamed: 0'])\n",
    "    return X"
   ]
  },
  {
   "cell_type": "markdown",
   "metadata": {},
   "source": [
    "#### load in data"
   ]
  },
  {
   "cell_type": "code",
   "execution_count": 15,
   "metadata": {
    "collapsed": false
   },
   "outputs": [],
   "source": [
    "## loading in files we need\n",
    "feature_vec = np.load(os.path.join(features_dir,'semantic_parts_sketch_features.npy'))\n",
    "feature_df = cleanup_df(pd.read_csv(os.path.join(csv_dir,'semantic_parts_sketch_features_key.csv')))\n",
    "meta_df = cleanup_df(pd.read_csv(os.path.join(csv_dir,'semantic_parts_sketch_features_meta.csv')))"
   ]
  },
  {
   "cell_type": "code",
   "execution_count": 30,
   "metadata": {
    "collapsed": false
   },
   "outputs": [],
   "source": [
    "## concatenate meta and features to enable easy subsetting of dataframe\n",
    "F = pd.concat((meta_df,feature_df),axis=1)"
   ]
  },
  {
   "cell_type": "code",
   "execution_count": null,
   "metadata": {
    "collapsed": false
   },
   "outputs": [],
   "source": [
    "## aggregate by target and condition and take the mean across rows within each group\n",
    "F2 = F.groupby(['target','condition']).mean().reset_index()"
   ]
  },
  {
   "cell_type": "code",
   "execution_count": 60,
   "metadata": {
    "collapsed": false
   },
   "outputs": [],
   "source": [
    "## construct dictionary of object to part labels\n",
    "\n",
    "## version where each part label within category is treated distinctly\n",
    "part_dict_expanded = {'bird': ['beak', 'body', 'eye', 'feet', 'head', 'leg', 'tail', 'wing'], \\\n",
    "                     'car': ['body.1', 'bumper', 'door', 'headlight', 'hood', 'trunk', 'wheel', 'window', 'windshield'],\\\n",
    "                     'chair': ['armrest', 'backrest', 'leg.1', 'seat'], \\\n",
    "                     'dog': ['body.2', 'ear', 'eye.1', 'head.1', 'leg.2', 'mouth', 'neck', 'paw', 'tail.1']}\n",
    "\n",
    "## version where each repeating part labels within category are not distinguished\n",
    "part_dict_compressed = {'bird': ['beak', 'body', 'eye', 'feet', 'head', 'leg', 'tail', 'wing'], \\\n",
    "                     'car': ['body', 'bumper', 'door', 'headlight', 'hood', 'trunk', 'wheel', 'window', 'windshield'],\\\n",
    "                     'chair': ['armrest', 'backrest', 'leg', 'seat'], \\\n",
    "                     'dog': ['body', 'ear', 'eye', 'head', 'leg', 'mouth', 'neck', 'paw', 'tail']}\n",
    "\n",
    "## abbreviated handles \n",
    "pde = part_dict_expanded\n",
    "pdc = part_dict_compressed"
   ]
  },
  {
   "cell_type": "code",
   "execution_count": 91,
   "metadata": {
    "collapsed": false
   },
   "outputs": [],
   "source": [
    "## add arclength feature to set of columns associated with this category\n",
    "def add_arclength_cols(category):\n",
    "    \n",
    "\n",
    "pde['bird'] = pde['bird'] + [i + '_total_arclength' for i in pde['bird']]"
   ]
  },
  {
   "cell_type": "code",
   "execution_count": 93,
   "metadata": {
    "collapsed": false
   },
   "outputs": [
    {
     "data": {
      "text/plain": [
       "['body.2', 'ear', 'eye.1', 'head.1', 'leg.2', 'mouth', 'neck', 'paw', 'tail.1']"
      ]
     },
     "execution_count": 93,
     "metadata": {},
     "output_type": "execute_result"
    }
   ],
   "source": [
    "for i in pde['dog']:\n",
    "    if len(i.split('.'))>1:\n",
    "        print i.split('.')[0] + '_total_arclength' + i.split('.')[1] \n",
    "    else:\n",
    "        "
   ]
  },
  {
   "cell_type": "code",
   "execution_count": 76,
   "metadata": {
    "collapsed": false
   },
   "outputs": [],
   "source": [
    "## get inds for subsetting dataframe\n",
    "close_inds = F2['condition'] == 'closer'\n",
    "far_inds = F2['condition'] == 'further'\n",
    "\n",
    "obj_inds = F2['target']=='tomtit'"
   ]
  },
  {
   "cell_type": "code",
   "execution_count": 81,
   "metadata": {
    "collapsed": false
   },
   "outputs": [],
   "source": [
    "## extract particular row corresponding to this object in each condition\n",
    "f = F2[(far_inds) & obj_inds][pde['bird']].reset_index(drop=True)\n",
    "c = F2[(close_inds) & obj_inds][pde['bird']].reset_index(drop=True)"
   ]
  },
  {
   "cell_type": "code",
   "execution_count": 89,
   "metadata": {
    "collapsed": false
   },
   "outputs": [
    {
     "data": {
      "text/plain": [
       "['beak_total_arclength',\n",
       " 'body_total_arclength',\n",
       " 'eye_total_arclength',\n",
       " 'feet_total_arclength',\n",
       " 'head_total_arclength',\n",
       " 'leg_total_arclength',\n",
       " 'tail_total_arclength',\n",
       " 'wing_total_arclength']"
      ]
     },
     "execution_count": 89,
     "metadata": {},
     "output_type": "execute_result"
    }
   ],
   "source": [
    "[i + '_total_arclength' for i in pde['bird']]"
   ]
  },
  {
   "cell_type": "code",
   "execution_count": 83,
   "metadata": {
    "collapsed": false
   },
   "outputs": [
    {
     "data": {
      "text/html": [
       "<div>\n",
       "<style scoped>\n",
       "    .dataframe tbody tr th:only-of-type {\n",
       "        vertical-align: middle;\n",
       "    }\n",
       "\n",
       "    .dataframe tbody tr th {\n",
       "        vertical-align: top;\n",
       "    }\n",
       "\n",
       "    .dataframe thead th {\n",
       "        text-align: right;\n",
       "    }\n",
       "</style>\n",
       "<table border=\"1\" class=\"dataframe\">\n",
       "  <thead>\n",
       "    <tr style=\"text-align: right;\">\n",
       "      <th></th>\n",
       "      <th>beak</th>\n",
       "      <th>body</th>\n",
       "      <th>eye</th>\n",
       "      <th>feet</th>\n",
       "      <th>head</th>\n",
       "      <th>leg</th>\n",
       "      <th>tail</th>\n",
       "      <th>wing</th>\n",
       "    </tr>\n",
       "  </thead>\n",
       "  <tbody>\n",
       "    <tr>\n",
       "      <th>0</th>\n",
       "      <td>0.52381</td>\n",
       "      <td>1.349206</td>\n",
       "      <td>0.079365</td>\n",
       "      <td>0.507937</td>\n",
       "      <td>1.460317</td>\n",
       "      <td>-0.84127</td>\n",
       "      <td>0.222222</td>\n",
       "      <td>1.666667</td>\n",
       "    </tr>\n",
       "  </tbody>\n",
       "</table>\n",
       "</div>"
      ],
      "text/plain": [
       "      beak      body       eye      feet      head      leg      tail  \\\n",
       "0  0.52381  1.349206  0.079365  0.507937  1.460317 -0.84127  0.222222   \n",
       "\n",
       "       wing  \n",
       "0  1.666667  "
      ]
     },
     "execution_count": 83,
     "metadata": {},
     "output_type": "execute_result"
    }
   ],
   "source": [
    "diff = c.sub(f,fill_value=0)"
   ]
  },
  {
   "cell_type": "code",
   "execution_count": 84,
   "metadata": {
    "collapsed": false
   },
   "outputs": [
    {
     "data": {
      "text/html": [
       "<div>\n",
       "<style scoped>\n",
       "    .dataframe tbody tr th:only-of-type {\n",
       "        vertical-align: middle;\n",
       "    }\n",
       "\n",
       "    .dataframe tbody tr th {\n",
       "        vertical-align: top;\n",
       "    }\n",
       "\n",
       "    .dataframe thead th {\n",
       "        text-align: right;\n",
       "    }\n",
       "</style>\n",
       "<table border=\"1\" class=\"dataframe\">\n",
       "  <thead>\n",
       "    <tr style=\"text-align: right;\">\n",
       "      <th></th>\n",
       "      <th>beak</th>\n",
       "      <th>body</th>\n",
       "      <th>eye</th>\n",
       "      <th>feet</th>\n",
       "      <th>head</th>\n",
       "      <th>leg</th>\n",
       "      <th>tail</th>\n",
       "      <th>wing</th>\n",
       "    </tr>\n",
       "  </thead>\n",
       "  <tbody>\n",
       "    <tr>\n",
       "      <th>0</th>\n",
       "      <td>0.47619</td>\n",
       "      <td>1.428571</td>\n",
       "      <td>0.142857</td>\n",
       "      <td>3.047619</td>\n",
       "      <td>0.428571</td>\n",
       "      <td>1.285714</td>\n",
       "      <td>0.333333</td>\n",
       "      <td>0.333333</td>\n",
       "    </tr>\n",
       "  </tbody>\n",
       "</table>\n",
       "</div>"
      ],
      "text/plain": [
       "      beak      body       eye      feet      head       leg      tail  \\\n",
       "0  0.47619  1.428571  0.142857  3.047619  0.428571  1.285714  0.333333   \n",
       "\n",
       "       wing  \n",
       "0  0.333333  "
      ]
     },
     "execution_count": 84,
     "metadata": {},
     "output_type": "execute_result"
    }
   ],
   "source": [
    "f"
   ]
  },
  {
   "cell_type": "code",
   "execution_count": 85,
   "metadata": {
    "collapsed": false
   },
   "outputs": [
    {
     "data": {
      "text/html": [
       "<div>\n",
       "<style scoped>\n",
       "    .dataframe tbody tr th:only-of-type {\n",
       "        vertical-align: middle;\n",
       "    }\n",
       "\n",
       "    .dataframe tbody tr th {\n",
       "        vertical-align: top;\n",
       "    }\n",
       "\n",
       "    .dataframe thead th {\n",
       "        text-align: right;\n",
       "    }\n",
       "</style>\n",
       "<table border=\"1\" class=\"dataframe\">\n",
       "  <thead>\n",
       "    <tr style=\"text-align: right;\">\n",
       "      <th></th>\n",
       "      <th>beak</th>\n",
       "      <th>body</th>\n",
       "      <th>eye</th>\n",
       "      <th>feet</th>\n",
       "      <th>head</th>\n",
       "      <th>leg</th>\n",
       "      <th>tail</th>\n",
       "      <th>wing</th>\n",
       "    </tr>\n",
       "  </thead>\n",
       "  <tbody>\n",
       "    <tr>\n",
       "      <th>0</th>\n",
       "      <td>1.0</td>\n",
       "      <td>2.777778</td>\n",
       "      <td>0.222222</td>\n",
       "      <td>3.555556</td>\n",
       "      <td>1.888889</td>\n",
       "      <td>0.444444</td>\n",
       "      <td>0.555556</td>\n",
       "      <td>2.0</td>\n",
       "    </tr>\n",
       "  </tbody>\n",
       "</table>\n",
       "</div>"
      ],
      "text/plain": [
       "   beak      body       eye      feet      head       leg      tail  wing\n",
       "0   1.0  2.777778  0.222222  3.555556  1.888889  0.444444  0.555556   2.0"
      ]
     },
     "execution_count": 85,
     "metadata": {},
     "output_type": "execute_result"
    }
   ],
   "source": [
    "c"
   ]
  },
  {
   "cell_type": "code",
   "execution_count": 88,
   "metadata": {
    "collapsed": false
   },
   "outputs": [
    {
     "data": {
      "text/plain": [
       "Index([u'target', u'condition', u'outcome', u'None', u'beak', u'body', u'eye',\n",
       "       u'feet', u'head', u'leg', u'tail', u'unknown', u'wing', u'None.1',\n",
       "       u'body.1', u'bumper', u'door', u'headlight', u'hood', u'trunk',\n",
       "       u'unknown.1', u'wheel', u'window', u'windshield', u'None.2', u'armrest',\n",
       "       u'backrest', u'leg.1', u'seat', u'unknown.2', u'None.3', u'body.2',\n",
       "       u'ear', u'eye.1', u'head.1', u'leg.2', u'mouth', u'neck', u'paw',\n",
       "       u'tail.1', u'unknown.3', u'None_total_arclength',\n",
       "       u'beak_total_arclength', u'body_total_arclength',\n",
       "       u'eye_total_arclength', u'feet_total_arclength',\n",
       "       u'head_total_arclength', u'leg_total_arclength',\n",
       "       u'tail_total_arclength', u'unknown_total_arclength',\n",
       "       u'wing_total_arclength', u'None_total_arclength.1',\n",
       "       u'body_total_arclength.1', u'bumper_total_arclength',\n",
       "       u'door_total_arclength', u'headlight_total_arclength',\n",
       "       u'hood_total_arclength', u'trunk_total_arclength',\n",
       "       u'unknown_total_arclength.1', u'wheel_total_arclength',\n",
       "       u'window_total_arclength', u'windshield_total_arclength',\n",
       "       u'None_total_arclength.2', u'armrest_total_arclength',\n",
       "       u'backrest_total_arclength', u'leg_total_arclength.1',\n",
       "       u'seat_total_arclength', u'unknown_total_arclength.2',\n",
       "       u'None_total_arclength.3', u'body_total_arclength.2',\n",
       "       u'ear_total_arclength', u'eye_total_arclength.1',\n",
       "       u'head_total_arclength.1', u'leg_total_arclength.2',\n",
       "       u'mouth_total_arclength', u'neck_total_arclength',\n",
       "       u'paw_total_arclength', u'tail_total_arclength.1',\n",
       "       u'unknown_total_arclength.3'],\n",
       "      dtype='object')"
      ]
     },
     "execution_count": 88,
     "metadata": {},
     "output_type": "execute_result"
    }
   ],
   "source": [
    "F2.columns"
   ]
  },
  {
   "cell_type": "code",
   "execution_count": null,
   "metadata": {
    "collapsed": true
   },
   "outputs": [],
   "source": []
  }
 ],
 "metadata": {
  "kernelspec": {
   "display_name": "Python 2",
   "language": "python",
   "name": "python2"
  },
  "language_info": {
   "codemirror_mode": {
    "name": "ipython",
    "version": 2
   },
   "file_extension": ".py",
   "mimetype": "text/x-python",
   "name": "python",
   "nbconvert_exporter": "python",
   "pygments_lexer": "ipython2",
   "version": "2.7.13"
  }
 },
 "nbformat": 4,
 "nbformat_minor": 1
}
