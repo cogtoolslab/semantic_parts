{
 "cells": [
  {
   "cell_type": "code",
   "execution_count": 2,
   "metadata": {
    "collapsed": true
   },
   "outputs": [],
   "source": [
    "#%matplotlib inline\n",
    "import os\n",
    "import numpy as np\n",
    "from PIL import Image\n",
    "import urllib, cStringIO\n",
    "import matplotlib as mp\n",
    "from matplotlib import pyplot,pylab\n",
    "plt = pyplot\n",
    "import scipy\n",
    "import PIL\n",
    "import base64\n",
    "import sys\n",
    "from matplotlib.pyplot import imshow\n",
    "from __future__ import division\n",
    "\n",
    "import seaborn as sns\n",
    "sns.set_context('poster')\n",
    "sns.set_style('white')\n",
    "import string\n",
    "import pandas as pd\n",
    "from scipy import stats\n",
    "\n",
    "\n",
    "%matplotlib inline\n",
    "from IPython.core.pylabtools import figsize, getfigs\n",
    "\n",
    "import json\n",
    "import pymongo as pm\n",
    "\n",
    "from svgpathtools import parse_path, wsvg, svg2paths\n",
    "\n",
    "\n",
    "import warnings\n",
    "warnings.filterwarnings(\"ignore\", category=DeprecationWarning)\n",
    "warnings.filterwarnings(\"ignore\", message=\"numpy.dtype size changed\")\n",
    "warnings.filterwarnings(\"ignore\", message=\"numpy.ufunc size changed\")"
   ]
  },
  {
   "cell_type": "markdown",
   "metadata": {},
   "source": [
    "## purpose"
   ]
  },
  {
   "cell_type": "markdown",
   "metadata": {},
   "source": [
    "#### upload sketches to S3 [maybe do this later]\n",
    "#### build stimulus dictionary and write to database"
   ]
  },
  {
   "cell_type": "markdown",
   "metadata": {},
   "source": [
    "## upload sketches to S3 [todo later]"
   ]
  },
  {
   "cell_type": "markdown",
   "metadata": {},
   "source": [
    "## build stimulus dictionary"
   ]
  },
  {
   "cell_type": "code",
   "execution_count": 3,
   "metadata": {
    "collapsed": true
   },
   "outputs": [],
   "source": [
    "## read in experimental metadata file (CSV)\n",
    "path_to_metadata = 'sketchpad_basic_allcats.csv'\n",
    "_meta = pd.read_csv(path_to_metadata)   ### raw meta with all categories\n"
   ]
  },
  {
   "cell_type": "code",
   "execution_count": 4,
   "metadata": {
    "collapsed": false
   },
   "outputs": [
    {
     "data": {
      "text/html": [
       "<div>\n",
       "<style scoped>\n",
       "    .dataframe tbody tr th:only-of-type {\n",
       "        vertical-align: middle;\n",
       "    }\n",
       "\n",
       "    .dataframe tbody tr th {\n",
       "        vertical-align: top;\n",
       "    }\n",
       "\n",
       "    .dataframe thead th {\n",
       "        text-align: right;\n",
       "    }\n",
       "</style>\n",
       "<table border=\"1\" class=\"dataframe\">\n",
       "  <thead>\n",
       "    <tr style=\"text-align: right;\">\n",
       "      <th></th>\n",
       "      <th>gameID</th>\n",
       "      <th>trialNum</th>\n",
       "      <th>condition</th>\n",
       "      <th>target</th>\n",
       "      <th>drawDuration</th>\n",
       "      <th>outcome</th>\n",
       "      <th>response</th>\n",
       "      <th>numStrokes</th>\n",
       "      <th>Distractor1</th>\n",
       "      <th>Distractor2</th>\n",
       "      <th>Distractor3</th>\n",
       "      <th>pose</th>\n",
       "      <th>iteration</th>\n",
       "      <th>svg</th>\n",
       "      <th>viewerRT</th>\n",
       "      <th>mean_intensity</th>\n",
       "      <th>category</th>\n",
       "    </tr>\n",
       "  </thead>\n",
       "  <tbody>\n",
       "    <tr>\n",
       "      <th>0</th>\n",
       "      <td>7004-6ff0964c-ff95-40f9-8696-d6a8931c94d5</td>\n",
       "      <td>1</td>\n",
       "      <td>further</td>\n",
       "      <td>knob</td>\n",
       "      <td>18.389</td>\n",
       "      <td>True</td>\n",
       "      <td>knob</td>\n",
       "      <td>7</td>\n",
       "      <td>crow</td>\n",
       "      <td>redsport</td>\n",
       "      <td>basset</td>\n",
       "      <td>35</td>\n",
       "      <td>pilot2</td>\n",
       "      <td>[u'M69,167c0,27.13435 5,54.84972 5,81c0,1.8150...</td>\n",
       "      <td>6.656</td>\n",
       "      <td>0.0347</td>\n",
       "      <td>chair</td>\n",
       "    </tr>\n",
       "    <tr>\n",
       "      <th>1</th>\n",
       "      <td>7004-6ff0964c-ff95-40f9-8696-d6a8931c94d5</td>\n",
       "      <td>2</td>\n",
       "      <td>further</td>\n",
       "      <td>redsport</td>\n",
       "      <td>2.820</td>\n",
       "      <td>True</td>\n",
       "      <td>redsport</td>\n",
       "      <td>3</td>\n",
       "      <td>crow</td>\n",
       "      <td>knob</td>\n",
       "      <td>basset</td>\n",
       "      <td>35</td>\n",
       "      <td>pilot2</td>\n",
       "      <td>[u'M51,224c0,-65.25556 75.24654,-35.24654 83,-...</td>\n",
       "      <td>5.607</td>\n",
       "      <td>0.0320</td>\n",
       "      <td>car</td>\n",
       "    </tr>\n",
       "    <tr>\n",
       "      <th>2</th>\n",
       "      <td>7004-6ff0964c-ff95-40f9-8696-d6a8931c94d5</td>\n",
       "      <td>3</td>\n",
       "      <td>closer</td>\n",
       "      <td>bluesport</td>\n",
       "      <td>22.093</td>\n",
       "      <td>False</td>\n",
       "      <td>beetle</td>\n",
       "      <td>5</td>\n",
       "      <td>beetle</td>\n",
       "      <td>hatchback</td>\n",
       "      <td>bluesedan</td>\n",
       "      <td>35</td>\n",
       "      <td>pilot2</td>\n",
       "      <td>[u'M34,212c5.3353,-10.6706 6.56215,-22.81075 9...</td>\n",
       "      <td>6.695</td>\n",
       "      <td>0.0466</td>\n",
       "      <td>car</td>\n",
       "    </tr>\n",
       "    <tr>\n",
       "      <th>3</th>\n",
       "      <td>7004-6ff0964c-ff95-40f9-8696-d6a8931c94d5</td>\n",
       "      <td>4</td>\n",
       "      <td>closer</td>\n",
       "      <td>chihuahua</td>\n",
       "      <td>24.122</td>\n",
       "      <td>True</td>\n",
       "      <td>chihuahua</td>\n",
       "      <td>14</td>\n",
       "      <td>weimaraner</td>\n",
       "      <td>doberman</td>\n",
       "      <td>pug</td>\n",
       "      <td>35</td>\n",
       "      <td>pilot2</td>\n",
       "      <td>[u'M99,157c-26.4479,17.63193 -2.9121,54.60807 ...</td>\n",
       "      <td>3.133</td>\n",
       "      <td>0.0371</td>\n",
       "      <td>dog</td>\n",
       "    </tr>\n",
       "    <tr>\n",
       "      <th>4</th>\n",
       "      <td>7004-6ff0964c-ff95-40f9-8696-d6a8931c94d5</td>\n",
       "      <td>5</td>\n",
       "      <td>closer</td>\n",
       "      <td>pug</td>\n",
       "      <td>34.260</td>\n",
       "      <td>False</td>\n",
       "      <td>chihuahua</td>\n",
       "      <td>12</td>\n",
       "      <td>weimaraner</td>\n",
       "      <td>doberman</td>\n",
       "      <td>chihuahua</td>\n",
       "      <td>35</td>\n",
       "      <td>pilot2</td>\n",
       "      <td>[u'M69,172c0,4.72338 -5.37528,22.62472 -2,26c9...</td>\n",
       "      <td>5.739</td>\n",
       "      <td>0.0381</td>\n",
       "      <td>dog</td>\n",
       "    </tr>\n",
       "  </tbody>\n",
       "</table>\n",
       "</div>"
      ],
      "text/plain": [
       "                                      gameID  trialNum condition     target  \\\n",
       "0  7004-6ff0964c-ff95-40f9-8696-d6a8931c94d5         1   further       knob   \n",
       "1  7004-6ff0964c-ff95-40f9-8696-d6a8931c94d5         2   further   redsport   \n",
       "2  7004-6ff0964c-ff95-40f9-8696-d6a8931c94d5         3    closer  bluesport   \n",
       "3  7004-6ff0964c-ff95-40f9-8696-d6a8931c94d5         4    closer  chihuahua   \n",
       "4  7004-6ff0964c-ff95-40f9-8696-d6a8931c94d5         5    closer        pug   \n",
       "\n",
       "   drawDuration  outcome   response  numStrokes Distractor1 Distractor2  \\\n",
       "0        18.389     True       knob           7        crow    redsport   \n",
       "1         2.820     True   redsport           3        crow        knob   \n",
       "2        22.093    False     beetle           5      beetle   hatchback   \n",
       "3        24.122     True  chihuahua          14  weimaraner    doberman   \n",
       "4        34.260    False  chihuahua          12  weimaraner    doberman   \n",
       "\n",
       "  Distractor3  pose iteration  \\\n",
       "0      basset    35    pilot2   \n",
       "1      basset    35    pilot2   \n",
       "2   bluesedan    35    pilot2   \n",
       "3         pug    35    pilot2   \n",
       "4   chihuahua    35    pilot2   \n",
       "\n",
       "                                                 svg  viewerRT  \\\n",
       "0  [u'M69,167c0,27.13435 5,54.84972 5,81c0,1.8150...     6.656   \n",
       "1  [u'M51,224c0,-65.25556 75.24654,-35.24654 83,-...     5.607   \n",
       "2  [u'M34,212c5.3353,-10.6706 6.56215,-22.81075 9...     6.695   \n",
       "3  [u'M99,157c-26.4479,17.63193 -2.9121,54.60807 ...     3.133   \n",
       "4  [u'M69,172c0,4.72338 -5.37528,22.62472 -2,26c9...     5.739   \n",
       "\n",
       "   mean_intensity category  \n",
       "0          0.0347    chair  \n",
       "1          0.0320      car  \n",
       "2          0.0466      car  \n",
       "3          0.0371      dog  \n",
       "4          0.0381      dog  "
      ]
     },
     "execution_count": 4,
     "metadata": {},
     "output_type": "execute_result"
    }
   ],
   "source": [
    "# print first few rows of meta\n",
    "_meta.head()"
   ]
  },
  {
   "cell_type": "code",
   "execution_count": 5,
   "metadata": {
    "collapsed": true
   },
   "outputs": [],
   "source": [
    "## TODO: what we actually want Make sure that the data we're excluding from annotation \n",
    "## really the come from the trials where we had the shift-key artifact. \n",
    "## Right now, we are excluding sketches with numStrokes > mu + 3*sd, which is an imperfect proxy for that.\n",
    "#mu = np.mean(_meta['numStrokes'])\n",
    "#sd = np.std(_meta['numStrokes'])\n",
    "#thresh = mu + 3*sd\n",
    "#_meta = _meta[_meta['numStrokes']<thresh]\n",
    "#_meta.reset_index(inplace=True) ## reset index on meta_chairs\n",
    "\n",
    "## subset by chairs\n",
    "meta_chairs = _meta[_meta['category']=='chair'] ### subsetted meta with just chairs\n",
    "\n",
    "## sub-select good 4 chairs\n",
    "## inlay>waiting>straight>leather\n",
    "chairs4_list = ['inlay','waiting','straight','leather']\n",
    "meta_chairs4 = meta_chairs[meta_chairs['target'].isin(chairs4_list)]\n",
    "meta_chairs4.reset_index(inplace=True)\n",
    "\n",
    "## assign which meta we will actually upload to mongo in this session\n",
    "category_flag = 'allcats' ## options: ['allcats','chairs','chairs4']\n",
    "\n",
    "if category_flag == 'chairs':\n",
    "    meta = meta_chairs\n",
    "elif category_flag == 'chairs4':\n",
    "    meta = meta_chairs4\n",
    "elif category_flag == 'allcats':\n",
    "    meta = _meta"
   ]
  },
  {
   "cell_type": "code",
   "execution_count": 6,
   "metadata": {
    "collapsed": true
   },
   "outputs": [],
   "source": [
    "## add parts list\n",
    "parts =[]\n",
    "for i in range(meta.shape[0]-1):\n",
    "    if meta.category[i]==\"chair\":\n",
    "        parts.append([\"backrest,armrest,seat,leg\"])        \n",
    "    if meta.category[i]==\"dog\":\n",
    "        parts.append([\"eye,mouth,ear,head,neck,body,leg,paw,tail\"])\n",
    "    if meta.category[i] == \"bird\":\n",
    "        parts.append([\"eye,beak,head,body,wing,leg,feet,tail\"])\n",
    "    if meta.category[i] == \"car\":\n",
    "        parts.append([\"bumper,headlight,hood,windshield,window,body,door,trunk,wheel\"])\n",
    "meta = meta.assign(parts=pd.Series(parts))"
   ]
  },
  {
   "cell_type": "code",
   "execution_count": 7,
   "metadata": {
    "collapsed": true
   },
   "outputs": [],
   "source": [
    "## add iteration name information\n",
    "_iterationName = 'sketchpad_basic_{}'.format(category_flag)\n",
    "iterationName = [_iterationName]*len(meta)\n",
    "meta = meta.assign(iterationName=pd.Series(iterationName))"
   ]
  },
  {
   "cell_type": "code",
   "execution_count": 8,
   "metadata": {
    "collapsed": false
   },
   "outputs": [
    {
     "name": "stdout",
     "output_type": "stream",
     "text": [
      "Index([u'gameID', u'trialNum', u'condition', u'target', u'drawDuration',\n",
      "       u'outcome', u'response', u'numStrokes', u'Distractor1', u'Distractor2',\n",
      "       u'Distractor3', u'pose', u'iteration', u'svg', u'viewerRT',\n",
      "       u'mean_intensity', u'category', u'parts', u'iterationName'],\n",
      "      dtype='object')\n"
     ]
    }
   ],
   "source": [
    "print meta.columns"
   ]
  },
  {
   "cell_type": "code",
   "execution_count": 9,
   "metadata": {
    "collapsed": true,
    "scrolled": true
   },
   "outputs": [],
   "source": [
    "## svg string formatting\n",
    "svg = []\n",
    "for i,d in meta.iterrows():    \n",
    "    splitted = d['svg'].split(\"'\") ## parse string to re-split up into strokes\n",
    "    svgString = [i for i in splitted if i[0]=='M'] ## check to make sure it is a real start of a spline\n",
    "    svg.append(svgString)\n",
    "meta = meta.assign(svg=pd.Series(svg)) "
   ]
  },
  {
   "cell_type": "code",
   "execution_count": null,
   "metadata": {
    "collapsed": true
   },
   "outputs": [],
   "source": []
  },
  {
   "cell_type": "code",
   "execution_count": 10,
   "metadata": {
    "collapsed": true
   },
   "outputs": [],
   "source": [
    "## add numSplines to the meta data\n",
    "numSplines = []\n",
    "for sk_ind, sketch in enumerate(meta.svg.values):\n",
    "    num_splines = 0\n",
    "    for stroke_ind,stroke in enumerate(sketch):\n",
    "        parsed = parse_path(stroke)\n",
    "        num_splines += len(parsed)\n",
    "    numSplines.append(num_splines)\n",
    "meta = meta.assign(numSplines=pd.Series(numSplines))     "
   ]
  },
  {
   "cell_type": "code",
   "execution_count": 11,
   "metadata": {
    "collapsed": true
   },
   "outputs": [],
   "source": [
    "## add empty games list\n",
    "games = [[] for i in np.arange(len(meta))]\n",
    "meta = meta.assign(games=pd.Series(games))"
   ]
  },
  {
   "cell_type": "code",
   "execution_count": 12,
   "metadata": {
    "collapsed": false
   },
   "outputs": [
    {
     "name": "stdout",
     "output_type": "stream",
     "text": [
      "The mean number of splines per sketch is 39.6307123656.\n"
     ]
    }
   ],
   "source": [
    "print 'The mean number of splines per sketch is {}.'.format(meta['numSplines'].mean())"
   ]
  },
  {
   "cell_type": "code",
   "execution_count": 13,
   "metadata": {
    "collapsed": false
   },
   "outputs": [
    {
     "name": "stdout",
     "output_type": "stream",
     "text": [
      "We expect to pay out approx. $1.61 per session, including commission.\n",
      "We have enough money to run approx. 310 sessions.\n",
      "We can afford to annotate approx. 1033 sketches 3 times each.\n",
      "That means we can fully annotate approx. 32 games' worth of sketches.\n"
     ]
    }
   ],
   "source": [
    "## filter so we can cover all the sketches multiple times with a budget of around $500 \n",
    "budget_cap = 500\n",
    "base_pay = 0.35\n",
    "spline_bonus = 0.002\n",
    "completion_bonus = 0.02 \n",
    "num_trials_per_hit = 10\n",
    "num_splines_per_sketch = meta['numSplines'].mean()\n",
    "expected_bonus = 0.02*num_trials_per_hit + 0.002*num_trials_per_hit*num_splines_per_sketch\n",
    "amt_commission = 1.2\n",
    "mean_cost_single_session = (base_pay + expected_bonus) * amt_commission\n",
    "print 'We expect to pay out approx. ${:.2f} per session, including commission.'.format(mean_cost_single_session)\n",
    "num_sessions = int(np.floor(budget_cap/mean_cost_single_session))\n",
    "print 'We have enough money to run approx. {} sessions.'.format(num_sessions)\n",
    "num_total_annotation_trials_in_budget = num_sessions * 10\n",
    "num_times_per_sketch = 3\n",
    "num_unique_sketches_annotatable = num_total_annotation_trials_in_budget/3\n",
    "print 'We can afford to annotate approx. {} sketches {} times each.'.format(int(num_unique_sketches_annotatable), num_times_per_sketch)\n",
    "num_sketches_per_game = 32\n",
    "print \"That means we can fully annotate approx. {} games' worth of sketches.\".format(int(num_unique_sketches_annotatable/num_sketches_per_game))"
   ]
  },
  {
   "cell_type": "code",
   "execution_count": null,
   "metadata": {
    "collapsed": true
   },
   "outputs": [],
   "source": []
  },
  {
   "cell_type": "code",
   "execution_count": 14,
   "metadata": {
    "collapsed": true
   },
   "outputs": [],
   "source": [
    "### maybe filter on games that had both high accuracy and big context effect (big diff in num strokes between close & far)\n",
    "## get list of games sorted by accuracy\n",
    "games_sorted_by_accuracy = meta.groupby(['gameID'])['outcome'].mean().reset_index().sort_values('outcome',ascending=False).gameID.values\n",
    "\n",
    "## get list of games sorted by how many more strokes were used in close condition than far condition\n",
    "# reshape dataframe that computes mean strokes for each condition for each game\n",
    "mean_strokes_in_condition_per_game = meta.groupby(['gameID','condition'])['numStrokes'].mean().reset_index().sort_values('gameID',ascending=True)\n",
    "mscg = mean_strokes_in_condition_per_game\n",
    "# pivots table to make two columns for each condition\n",
    "msg = mscg.pivot(index='gameID', columns='condition')['numStrokes'].reset_index()\n",
    "# assigns new column with close vs. far diff, then sorts\n",
    "msg['diff'] = msg.apply(lambda x: x['closer'] - x['further'],axis=1)\n",
    "msg = msg.sort_values('diff',ascending=False).reset_index()\n",
    "# get list of games sorted by difference in num strokes used in each condition\n",
    "games_sorted_by_contextDiff = msg['gameID'].values"
   ]
  },
  {
   "cell_type": "code",
   "execution_count": 15,
   "metadata": {
    "collapsed": false
   },
   "outputs": [],
   "source": [
    "## compute a composite rank measure that integrates accuracy rank and contextDiff Rank\n",
    "game_list = games_sorted_by_accuracy\n",
    "acc_rank = []\n",
    "con_rank = []\n",
    "composite_rank = []\n",
    "for this_game in game_list:\n",
    "    gsa = games_sorted_by_accuracy\n",
    "    gsc = games_sorted_by_contextDiff\n",
    "\n",
    "    a = np.where(gsa==this_game)[0][0] # rank of this game in accuracy-ranked list\n",
    "    b = np.where(gsc==this_game)[0][0] # rank of this game in contextDiff-ranked list\n",
    "    c = a + b # composite rank score\n",
    "    acc_rank.append(a)\n",
    "    con_rank.append(b)\n",
    "    composite_rank.append(c)\n",
    "\n",
    "## an optional visualization interlude to see what the relationship is between\n",
    "## accuracy and contextDiff is across games        \n",
    "reallyRun = 0\n",
    "if reallyRun:\n",
    "    ## plot acc_rank against con_rank -- are they related at all?\n",
    "    plt.scatter(acc_rank,con_rank)\n",
    "    stats.pearsonr(acc_rank,con_rank)\n",
    "    plt.xlabel('rank by accuracy')\n",
    "    plt.ylabel('rank by context diff')\n",
    "    thresh = 70\n",
    "    plt.plot([0,thresh],[thresh,0],'k:')\n",
    "    plt.xlim(0,93)\n",
    "    plt.ylim(0,93)\n",
    "    plt.show()  \n",
    "    print 'There were {} games that had composite rank score < {}.'.format(len([i for i in composite_rank if i<thresh]),thresh)"
   ]
  },
  {
   "cell_type": "code",
   "execution_count": 16,
   "metadata": {
    "collapsed": true
   },
   "outputs": [],
   "source": [
    "##Choose a filter mode: accuracy or composite\n",
    "filter_mode = 'accuracy'\n",
    "\n",
    "if filter_mode == 'composite':\n",
    "##extract the list of \"good games\" with lowest composite score\n",
    "    good_games = [i for (i,j) in zip(game_list,composite_rank) if j<70]\n",
    "elif filter_mode == 'accuracy':\n",
    "##extract the list of top 40 \"good games\" with lowest accuracy rank   \n",
    "    good_games = [i for (i,j) in zip(game_list, acc_rank) if j<40]\n",
    "\n",
    "## now define a meta2 dataframe that ONLY contains data from the \"good games\"\n",
    "meta2 = meta[meta['gameID'].isin(good_games)]"
   ]
  },
  {
   "cell_type": "code",
   "execution_count": 17,
   "metadata": {
    "collapsed": true
   },
   "outputs": [],
   "source": [
    "## toggle whether we want to use the full dataset or the subset\n",
    "subsetted = True\n",
    "if subsetted:\n",
    "    meta = meta2"
   ]
  },
  {
   "cell_type": "code",
   "execution_count": 18,
   "metadata": {
    "collapsed": false
   },
   "outputs": [
    {
     "name": "stdout",
     "output_type": "stream",
     "text": [
      "40 unique games worth of data.\n",
      "1280 unique sketches.\n"
     ]
    }
   ],
   "source": [
    "## how many games worth of data do we have?\n",
    "print '{} unique games worth of data.'.format(len(np.unique(meta.gameID.values)))\n",
    "print '{} unique sketches.'.format(len(meta))"
   ]
  },
  {
   "cell_type": "markdown",
   "metadata": {},
   "source": [
    "### interlude to examine detailed statistics on constituent splines"
   ]
  },
  {
   "cell_type": "code",
   "execution_count": 19,
   "metadata": {
    "collapsed": true
   },
   "outputs": [],
   "source": [
    "## svg is a list of sketches\n",
    "## each entry contains a list of strokes\n",
    "## first let's convert into absolute coordinates\n",
    "## then let's convert these into a list of splines that are \"long enough\""
   ]
  },
  {
   "cell_type": "code",
   "execution_count": 20,
   "metadata": {
    "collapsed": true
   },
   "outputs": [],
   "source": [
    "def convert_relative_spline_to_absolute(parsed):\n",
    "    svg_abs = ''\n",
    "    for i,p in enumerate(parsed):\n",
    "        if len(p)==4: ## cubic bezier\n",
    "            svg_abs += ' M '\n",
    "            svg_abs += '{},{}'.format(str(p.start.real),str(p.start.imag))\n",
    "            svg_abs += ' C'\n",
    "            svg_abs += ' {},{}'.format(str(p.control1.real),str(p.control1.imag))\n",
    "            svg_abs += ' {},{}'.format(str(p.control2.real),str(p.control2.imag))\n",
    "            svg_abs += ' {},{}'.format(str(p.end.real),str(p.end.imag)) \n",
    "        if len(p)==2: ## line segment\n",
    "            svg_abs += ' M '\n",
    "            svg_abs += '{},{}'.format(str(p.start.real),str(p.start.imag))\n",
    "            svg_abs += ' L'\n",
    "            svg_abs += ' {},{}'.format(str(p.end.real),str(p.end.imag))          \n",
    "#     assert np.all(np.round(parsed)==np.round(parse_path(svg_abs)))==True\n",
    "    return svg_abs"
   ]
  },
  {
   "cell_type": "code",
   "execution_count": null,
   "metadata": {
    "collapsed": true
   },
   "outputs": [],
   "source": []
  },
  {
   "cell_type": "code",
   "execution_count": 21,
   "metadata": {
    "collapsed": true
   },
   "outputs": [],
   "source": [
    "## get list of sketch svg converted to absolute coordinates\n",
    "## grouped into **strokes**\n",
    "svg_abs_strokes = []\n",
    "for this_sketch in svg:\n",
    "    sketch_abs = []\n",
    "    for this_stroke in this_sketch:  \n",
    "        this_stroke = this_stroke.replace('v0','') ## eliminate single points\n",
    "        this_stroke = this_stroke.replace('h0','') ## eliminate single points\n",
    "        parsed = parse_path(this_stroke)\n",
    "        parsed_abs = convert_relative_spline_to_absolute(parsed)\n",
    "        sketch_abs.append(parsed_abs)\n",
    "    svg_abs_strokes.append(sketch_abs)"
   ]
  },
  {
   "cell_type": "code",
   "execution_count": 22,
   "metadata": {
    "collapsed": true
   },
   "outputs": [],
   "source": [
    "## get list of sketch svg converted to absolute coordinates\n",
    "## grouped into **splines**\n",
    "from IPython.display import clear_output\n",
    "svg_abs_splines = [] \n",
    "stroke_num_within_sketch = [] ## get stroke num within sketch\n",
    "for skind,this_sketch in enumerate(svg_abs_strokes):\n",
    "    print 'Analyzing sketch {} of {}'.format(skind,len(svg_abs_strokes))\n",
    "    clear_output(wait=True)\n",
    "    sketch_abs = []\n",
    "    _stroke_num_within_sketch = []    \n",
    "    for stroke_id,this_stroke in enumerate(this_sketch):\n",
    "        this_path = parse_path(this_stroke)\n",
    "        for i,p in enumerate(this_path):\n",
    "            _svg_abs = ''\n",
    "            if len(p)==4: ## cubic bezier\n",
    "                _svg_abs += ' M '\n",
    "                _svg_abs += '{},{}'.format(str(p.start.real),str(p.start.imag))\n",
    "                _svg_abs += ' C'\n",
    "                _svg_abs += ' {},{}'.format(str(p.control1.real),str(p.control1.imag))\n",
    "                _svg_abs += ' {},{}'.format(str(p.control2.real),str(p.control2.imag))\n",
    "                _svg_abs += ' {},{}'.format(str(p.end.real),str(p.end.imag)) \n",
    "            if len(p)==2: ## line segment\n",
    "                _svg_abs += ' M '\n",
    "                _svg_abs += '{},{}'.format(str(p.start.real),str(p.start.imag))\n",
    "                _svg_abs += ' L'\n",
    "                _svg_abs += ' {},{}'.format(str(p.end.real),str(p.end.imag))  \n",
    "            sketch_abs.append(_svg_abs)\n",
    "            _stroke_num_within_sketch.append(stroke_id)\n",
    "    svg_abs_splines.append(sketch_abs)\n",
    "    stroke_num_within_sketch.append(_stroke_num_within_sketch)"
   ]
  },
  {
   "cell_type": "code",
   "execution_count": 23,
   "metadata": {
    "collapsed": true
   },
   "outputs": [],
   "source": [
    "## create list of spline arc lengths nested in the same way as svg_abs_splines\n",
    "svg_abs_spline_lengths = []\n",
    "for sketch_ind,this_sketch in enumerate(svg_abs_splines):\n",
    "    sketch_abs_length = []\n",
    "    for spline_ind,spline in enumerate(this_sketch):\n",
    "        curr_stroke_ind = stroke_num_within_sketch[sketch_ind][spline_ind]    \n",
    "        curr_spline_length = parse_path(spline).length()\n",
    "        sketch_abs_length.append(curr_spline_length)\n",
    "    svg_abs_spline_lengths.append(sketch_abs_length)"
   ]
  },
  {
   "cell_type": "code",
   "execution_count": 24,
   "metadata": {
    "collapsed": true
   },
   "outputs": [],
   "source": [
    "def flatten(x):\n",
    "    return [item for sublist in x for item in sublist]"
   ]
  },
  {
   "cell_type": "code",
   "execution_count": 25,
   "metadata": {
    "collapsed": false
   },
   "outputs": [
    {
     "data": {
      "text/plain": [
       "(0, 200)"
      ]
     },
     "execution_count": 25,
     "metadata": {},
     "output_type": "execute_result"
    },
    {
     "data": {
      "image/png": "[encoded data removed]",
      "text/plain": [
       "<Figure size 864x288 with 1 Axes>"
      ]
     },
     "metadata": {},
     "output_type": "display_data"
    }
   ],
   "source": [
    "## get all spline lengths\n",
    "flat_spline_lengths = flatten(svg_abs_spline_lengths)\n",
    "\n",
    "## make figure\n",
    "plt.figure(figsize=(12,4))\n",
    "sns.set_context('paper')\n",
    "plt.title('Distribution of spline arc lengths across all sketches')\n",
    "plt.hist(flat_spline_lengths,200)\n",
    "plt.xticks(np.linspace(0,200,51))\n",
    "plt.xlim(0,200)"
   ]
  },
  {
   "cell_type": "code",
   "execution_count": 26,
   "metadata": {
    "collapsed": false
   },
   "outputs": [
    {
     "data": {
      "text/plain": [
       "117934"
      ]
     },
     "execution_count": 26,
     "metadata": {},
     "output_type": "execute_result"
    }
   ],
   "source": [
    "flat_spline_lengths_arr = np.array(flat_spline_lengths)\n",
    "len(flat_spline_lengths_arr[flat_spline_lengths_arr>np.mean(flat_spline_lengths_arr)-np.std(flat_spline_lengths_arr)*3])"
   ]
  },
  {
   "cell_type": "markdown",
   "metadata": {},
   "source": [
    "### Identifying sketches with shift key error"
   ]
  },
  {
   "cell_type": "code",
   "execution_count": 82,
   "metadata": {
    "collapsed": false
   },
   "outputs": [],
   "source": [
    "## count up splines per sketch that are among the 20% shortest of splines, and we will call these \"short splines\"\n",
    "short_spline_pct_threshold = 20\n",
    "spline_length_threshold = np.percentile(flat_spline_lengths,short_spline_pct_threshold)\n",
    "## spline_length_threshold = 6 #### hardcoded threshold\n",
    "\n",
    "##We want to find out how many sketches have a large number of short splines to diagnose the shift-key error\n",
    "num_short_splines=[]\n",
    "for i,sketch in meta.iterrows():\n",
    "    _num_short_splines=0\n",
    "    for j in range(0,min(sketch['numSplines'],len(svg_abs_spline_lengths[i]))):\n",
    "        if svg_abs_spline_lengths[i][j]<spline_length_threshold: \n",
    "            _num_short_splines+=1 \n",
    "    num_short_splines.append(_num_short_splines)\n",
    "        \n",
    "## create copy of meta data frame where we add some extra info about the number of short splines        \n",
    "ts_df = meta\n",
    "ts_df['num_short_splines'] = num_short_splines"
   ]
  },
  {
   "cell_type": "code",
   "execution_count": 83,
   "metadata": {
    "collapsed": false
   },
   "outputs": [
    {
     "name": "stdout",
     "output_type": "stream",
     "text": [
      "Our threshold for num_short_splines = 21.0, and our threshold for num_all_splines is 92.1\n",
      "After filtering, the number of sketches in our dataset = 1198\n"
     ]
    }
   ],
   "source": [
    "## define thresholds\n",
    "retention_threshold = 95\n",
    "num_short_spline_thresh = np.percentile(ts_df['num_short_splines'],retention_threshold)\n",
    "num_all_splines_thresh = np.percentile(ts_df['numSplines'],retention_threshold)\n",
    "print 'Our threshold for num_short_splines = {}, and our threshold for num_all_splines is {}'.\\\n",
    "        format(num_short_spline_thresh,num_all_splines_thresh)\n",
    "\n",
    "## actually filter out the sketches with too many short splines (top 5%) AND too many splines overall (top 5%)\n",
    "ts_df_2 = ts_df[(ts_df['num_short_splines']<num_short_spline_thresh) & (ts_df['numSplines']<num_all_splines_thresh)] \n",
    "ts_df_2 = ts_df_2.reset_index()\n",
    "\n",
    "print 'After filtering, the number of sketches in our dataset = {}'.format(ts_df_2.shape[0])"
   ]
  },
  {
   "cell_type": "code",
   "execution_count": 87,
   "metadata": {
    "collapsed": false
   },
   "outputs": [
    {
     "name": "stdout",
     "output_type": "stream",
     "text": [
      "mean= 34.46577629382304\n",
      "std= 15.898595137361244\n",
      "max= 92\n"
     ]
    },
    {
     "data": {
      "image/png": "[encoded data removed]",
      "text/plain": [
       "<Figure size 576x360 with 1 Axes>"
      ]
     },
     "metadata": {},
     "output_type": "display_data"
    }
   ],
   "source": [
    "sns.set_context('talk')\n",
    "plt.figure(figsize=(8,5))\n",
    "plt.title('Distribution of number of splines across all sketches')\n",
    "h = plt.hist(ts_df_2['numSplines'],30)\n",
    "\n",
    "print \"mean=\", ts_df_2['numSplines'].mean()\n",
    "print \"std=\", ts_df_2['numSplines'].std()\n",
    "print \"max=\", ts_df_2['numSplines'].max()"
   ]
  },
  {
   "cell_type": "code",
   "execution_count": 90,
   "metadata": {
    "collapsed": false
   },
   "outputs": [],
   "source": [
    "## now re-assign the content of ts_df_2 back to meta, so we can upload this \"troubleshot dataframe\"\n",
    "meta = ts_df_2"
   ]
  },
  {
   "cell_type": "markdown",
   "metadata": {},
   "source": [
    "### upload stim dictionary to mongo (db = 'stimuli', collection='sketchpad_basic_recog')"
   ]
  },
  {
   "cell_type": "code",
   "execution_count": 91,
   "metadata": {
    "collapsed": true
   },
   "outputs": [],
   "source": [
    "## toggle whether we want to filter\n",
    "filtered = True\n",
    "    \n",
    "## write out metadata to json file\n",
    "\n",
    "## for example:\n",
    "stimdict = meta.to_dict(orient='records')\n",
    "stimdict\n",
    "import json\n",
    "with open('annotation_meta_{}.js'.format(category_flag), 'w') as fout:\n",
    "     json.dump(stimdict, fout)"
   ]
  },
  {
   "cell_type": "code",
   "execution_count": 105,
   "metadata": {
    "collapsed": true
   },
   "outputs": [],
   "source": [
    "## load in the JSON that contains the svgData, object labels, and part labels\n",
    "J = json.loads(open('annotation_meta_{}.js'.format(category_flag),mode='ru').read())\n",
    "assert len(J)==len(meta)"
   ]
  },
  {
   "cell_type": "code",
   "execution_count": 106,
   "metadata": {
    "collapsed": true
   },
   "outputs": [],
   "source": [
    "# set vars \n",
    "auth = pd.read_csv('auth.txt', header = None) # this auth.txt file contains the password for the sketchloop user\n",
    "pswd = auth.values[0][0]\n",
    "user = 'sketchloop'\n",
    "host = 'rxdhawkins.me' ## cocolab ip address\n",
    "\n",
    "# have to fix this to be able to analyze from local\n",
    "conn = pm.MongoClient('mongodb://sketchloop:' + pswd + '@127.0.0.1')"
   ]
  },
  {
   "cell_type": "code",
   "execution_count": 111,
   "metadata": {
    "collapsed": false
   },
   "outputs": [
    {
     "data": {
      "text/plain": [
       "u'svg_annotation_sketchpad_basic_allcats'"
      ]
     },
     "execution_count": 111,
     "metadata": {},
     "output_type": "execute_result"
    }
   ],
   "source": []
  },
  {
   "cell_type": "code",
   "execution_count": 108,
   "metadata": {
    "collapsed": false
   },
   "outputs": [
    {
     "name": "stdout",
     "output_type": "stream",
     "text": [
      "We have 1198 sketches in our dataset to upload.\n"
     ]
    }
   ],
   "source": [
    "print 'We have {} sketches in our dataset to upload.'.format(len(J)) "
   ]
  },
  {
   "cell_type": "code",
   "execution_count": 119,
   "metadata": {
    "collapsed": false
   },
   "outputs": [
    {
     "name": "stdout",
     "output_type": "stream",
     "text": [
      "Collection currently being uploaded is svg_annotation_sketchpad_basic_allcats_dev\n",
      "0 of 1198\n",
      "250 of 1198\n",
      "500 of 1198\n",
      "750 of 1198\n",
      "1000 of 1198\n",
      "Collection currently being uploaded is svg_annotation_sketchpad_basic_allcats\n",
      "0 of 1198\n",
      "250 of 1198\n",
      "500 of 1198\n",
      "750 of 1198\n",
      "1000 of 1198\n"
     ]
    }
   ],
   "source": [
    "## actually add data now to the database \n",
    "reallyRun = True\n",
    "\n",
    "## upload two versions of the stim dataset, a \"dev mode\" version and production version\n",
    "dev_modes = [True,False]\n",
    "\n",
    "if reallyRun:\n",
    "    for dev_mode in dev_modes:\n",
    "        ## define the dbname and collection name\n",
    "        db = conn['stimuli']\n",
    "        if dev_mode:\n",
    "            coll = db['svg_annotation_sketchpad_basic_{}_dev'.format(category_flag)]\n",
    "        else:\n",
    "            coll = db['svg_annotation_sketchpad_basic_{}'.format(category_flag)]\n",
    "        print 'Collection currently being uploaded is {}'.format(coll.name)\n",
    "        for (i,j) in enumerate(J):\n",
    "            if i%250==0:\n",
    "                print ('%d of %d' % (i,len(J)))\n",
    "            coll.insert_one(j)\n",
    "            \n",
    "print 'All done uploading!'            "
   ]
  },
  {
   "cell_type": "code",
   "execution_count": 120,
   "metadata": {
    "collapsed": false
   },
   "outputs": [
    {
     "name": "stdout",
     "output_type": "stream",
     "text": [
      "We have 1198 sketches.\n",
      "We have these kinds: [u'chair', u'dog', u'bird', u'car']\n"
     ]
    }
   ],
   "source": [
    "## How many sketches do we have in the database?\n",
    "print 'We have {} sketches.'.format(coll.count())\n",
    "\n",
    "## What kind of sketches do we have in the database?\n",
    "print 'We have these kinds: {}'.format(str(coll.distinct('category')))"
   ]
  },
  {
   "cell_type": "code",
   "execution_count": null,
   "metadata": {
    "collapsed": false
   },
   "outputs": [],
   "source": []
  },
  {
   "cell_type": "markdown",
   "metadata": {
    "scrolled": false
   },
   "source": [
    "### check how many sketches have been tagged in the collection how many times"
   ]
  },
  {
   "cell_type": "code",
   "execution_count": 121,
   "metadata": {
    "collapsed": false
   },
   "outputs": [
    {
     "name": "stdout",
     "output_type": "stream",
     "text": [
      "There are: \n",
      "1198 sketches that have been retrieved 0 times from the database.\n",
      "0 sketches that have been retrieved 1 times from the database.\n",
      "0 sketches that have been retrieved 2 times from the database.\n",
      "0 sketches that have been retrieved 3 times from the database.\n",
      "0 sketches that have been retrieved 4 times from the database.\n",
      "0 sketches that have been retrieved 5 times from the database.\n",
      "0 sketches that have been retrieved 6 times from the database.\n",
      "0 sketches that have been retrieved 7 times from the database.\n",
      "0 sketches that have been retrieved 8 times from the database.\n",
      "0 sketches that have been retrieved 9 times from the database.\n",
      "While not guaranteed, sketches retrieved from the database are usually annotated, so this is a reasonable proxy for how many sketches have been annotated.\n"
     ]
    }
   ],
   "source": [
    "cumulative = []\n",
    "print 'There are: '\n",
    "for i in np.arange(10):\n",
    "    print '{} sketches that have been retrieved {} times from the database.'.format(coll.find({'games': {'$size': i}}).count(),i)\n",
    "    cumulative.append(coll.find({'games': {'$size': i}}).count())\n",
    "print 'While not guaranteed, sketches retrieved from the database are usually annotated, so this is a reasonable proxy for how many sketches have been annotated.'"
   ]
  },
  {
   "cell_type": "code",
   "execution_count": null,
   "metadata": {
    "collapsed": true
   },
   "outputs": [],
   "source": []
  },
  {
   "cell_type": "code",
   "execution_count": null,
   "metadata": {
    "collapsed": true
   },
   "outputs": [],
   "source": []
  },
  {
   "cell_type": "code",
   "execution_count": null,
   "metadata": {
    "collapsed": true
   },
   "outputs": [],
   "source": []
  }
 ],
 "metadata": {
  "kernelspec": {
   "display_name": "Python 2",
   "language": "python",
   "name": "python2"
  },
  "language_info": {
   "codemirror_mode": {
    "name": "ipython",
    "version": 2
   },
   "file_extension": ".py",
   "mimetype": "text/x-python",
   "name": "python",
   "nbconvert_exporter": "python",
   "pygments_lexer": "ipython2",
   "version": "2.7.13"
  }
 },
 "nbformat": 4,
 "nbformat_minor": 1
}
