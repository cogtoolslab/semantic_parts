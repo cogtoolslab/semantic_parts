{
 "cells": [
  {
   "cell_type": "code",
   "execution_count": 13,
   "metadata": {},
   "outputs": [],
   "source": [
    "from __future__ import division\n",
    "\n",
    "import os\n",
    "import urllib, cStringIO\n",
    "\n",
    "import pymongo as pm\n",
    "from collections import Counter\n",
    "import matplotlib\n",
    "import matplotlib.patheffects as PathEffects\n",
    "from matplotlib import pylab, mlab, pyplot\n",
    "%matplotlib inline\n",
    "from IPython.core.pylabtools import figsize, getfigs\n",
    "plt = pyplot\n",
    "import seaborn as sns\n",
    "sns.set_context('poster')\n",
    "sns.set_style('white')\n",
    "\n",
    "import numpy as np\n",
    "import scipy.stats as stats\n",
    "import pandas as pd\n",
    "import json\n",
    "import re\n",
    "from svgpathtools import parse_path\n",
    "import svgpathtools\n",
    "\n",
    "from PIL import Image\n",
    "import base64\n",
    "import sys\n",
    "\n",
    "from svgpathtools import parse_path\n",
    "from IPython.display import clear_output\n",
    "\n",
    "\n",
    "\n",
    "import warnings\n",
    "warnings.filterwarnings(\"ignore\", category=DeprecationWarning)\n",
    "warnings.filterwarnings(\"ignore\", message=\"numpy.dtype size changed\")\n",
    "warnings.filterwarnings(\"ignore\", message=\"numpy.ufunc size changed\")\n",
    "\n",
    "\n"
   ]
  },
  {
   "cell_type": "code",
   "execution_count": 14,
   "metadata": {},
   "outputs": [
    {
     "data": {
      "text/plain": [
       "<module 'analysis_helpers' from '/Users/kushin/Documents/GitHub/semantic_parts/analysis/analysis_helpers.pyc'>"
      ]
     },
     "execution_count": 14,
     "metadata": {},
     "output_type": "execute_result"
    }
   ],
   "source": [
    "# directory & file hierarchy\n",
    "proj_dir = os.path.abspath('../..')\n",
    "analysis_dir = os.getcwd()\n",
    "results_dir = os.path.join(proj_dir,'results')\n",
    "plot_dir = os.path.join(results_dir,'plots')\n",
    "csv_dir = os.path.join(results_dir,'csv')\n",
    "features_dir= os.path.join(results_dir,'features')\n",
    "exp_dir = os.path.abspath(os.path.join(proj_dir,'experiments'))\n",
    "sketch_dir = os.path.abspath(os.path.join(proj_dir,'sketches'))\n",
    "\n",
    "## add helpers to python path\n",
    "if os.path.join(proj_dir,'analysis') not in sys.path:\n",
    "    sys.path.append(os.path.join(proj_dir,'analysis'))\n",
    "\n",
    "if not os.path.exists(results_dir):\n",
    "    os.makedirs(results_dir)  \n",
    "\n",
    "if not os.path.exists(plot_dir):\n",
    "    os.makedirs(plot_dir)   \n",
    "    \n",
    "if not os.path.exists(csv_dir):\n",
    "    os.makedirs(csv_dir)  \n",
    "\n",
    "if not os.path.exists(features_dir):\n",
    "    os.makedirs(features_dir)\n",
    "    \n",
    "## add helpers to python path\n",
    "if os.path.join(proj_dir,'analysis') not in sys.path:\n",
    "    sys.path.append(os.path.join(proj_dir,'analysis'))        \n",
    "    \n",
    "# Assign variables within imported analysis helpers\n",
    "import analysis_helpers as h\n",
    "if sys.version_info[0]>=3:\n",
    "    from importlib import reload\n",
    "reload(h)"
   ]
  },
  {
   "cell_type": "code",
   "execution_count": 15,
   "metadata": {},
   "outputs": [],
   "source": [
    "## helper dictionaries \n",
    "OBJECT_TO_CATEGORY = {\n",
    "    'basset': 'dog', 'beetle': 'car', 'bloodhound': 'dog', 'bluejay': 'bird',\n",
    "    'bluesedan': 'car', 'bluesport': 'car', 'brown': 'car', 'bullmastiff': 'dog',\n",
    "    'chihuahua': 'dog', 'crow': 'bird', 'cuckoo': 'bird', 'doberman': 'dog',\n",
    "    'goldenretriever': 'dog', 'hatchback': 'car', 'inlay': 'chair', 'knob': 'chair',\n",
    "    'leather': 'chair', 'nightingale': 'bird', 'pigeon': 'bird', 'pug': 'dog',\n",
    "    'redantique': 'car', 'redsport': 'car', 'robin': 'bird', 'sling': 'chair',\n",
    "    'sparrow': 'bird', 'squat': 'chair', 'straight': 'chair', 'tomtit': 'bird',\n",
    "    'waiting': 'chair', 'weimaraner': 'dog', 'white': 'car', 'woven': 'chair',\n",
    "}\n",
    "CATEGORY_TO_OBJECT = {\n",
    "    'dog': ['basset', 'bloodhound', 'bullmastiff', 'chihuahua', 'doberman', 'goldenretriever', 'pug', 'weimaraner'],\n",
    "    'car': ['beetle', 'bluesedan', 'bluesport', 'brown', 'hatchback', 'redantique', 'redsport', 'white'],\n",
    "    'bird': ['bluejay', 'crow', 'cuckoo', 'nightingale', 'pigeon', 'robin', 'sparrow', 'tomtit'],\n",
    "    'chair': ['inlay', 'knob', 'leather', 'sling', 'squat', 'straight', 'waiting', 'woven'],\n",
    "}"
   ]
  },
  {
   "cell_type": "code",
   "execution_count": 16,
   "metadata": {},
   "outputs": [],
   "source": [
    "##helpers\n",
    "\n",
    "def cleanup_df(X):\n",
    "    if 'Unnamed: 0' in X.columns:\n",
    "        X = X.drop(columns=['Unnamed: 0'])\n",
    "    return X\n",
    "\n",
    "def flatten(x):\n",
    "    return [item for sublist in x for item in sublist]\n",
    "\n",
    "def normalize(X):\n",
    "    X = X - X.mean(0)\n",
    "    X = X / np.maximum(X.std(0), 1e-5)\n",
    "    return X\n",
    "def entropy(probs):    \n",
    "    return - 1 * sum(map(lambda x: x * np.log(x),probs))\n",
    "\n",
    "def KL_div_uniform(probs):\n",
    "    unif_p = 1/len(probs)\n",
    "    return sum(map(lambda x: unif_p * np.log(unif_p/x),probs))\n",
    "\n",
    "def softmax(X):\n",
    "    '''\n",
    "    input: X is a (1 x N) array\n",
    "    output: 1 x N array\n",
    "    '''\n",
    "    return np.exp(X)/np.sum(np.exp(X))\n",
    "\n",
    "def minmaxscale(X):\n",
    "\n",
    "    return (X-np.min(X))/(np.max(X)-np.min(X))\n",
    "\n",
    "def calculate_CI(data, confidence=0.95):\n",
    "    a = 1.0 * np.array(data)\n",
    "    n = len(a)\n",
    "    m, se = np.mean(a), stats.sem(a)\n",
    "    h = se * stats.t.ppf((1 + confidence) / 2., n-1)\n",
    "    return m.round(3), (m-h).round(3), (m+h).round(3)\n",
    "\n",
    "def get_ordered_objs_list_by_category(F):\n",
    "    objs_list = []\n",
    "    close_inds = F['condition'] == 'closer'\n",
    "    far_inds = F['condition'] == 'further'\n",
    "    categories = ['bird','car','chair','dog']\n",
    "    for this_category in categories:\n",
    "        category_inds = F['category'] == this_category\n",
    "        objs_list.append(list(F[(category_inds) & (far_inds)].reset_index(drop=True).target.values))\n",
    "    return flatten(objs_list)\n",
    "\n",
    "\n",
    "def aggregate_sketches(F,OBJECT_TO_CATEGORY=OBJECT_TO_CATEGORY):\n",
    "    '''\n",
    "    F is full num sketches x num features matrix\n",
    "    OBJECT_TO_CATEGORY is a dictionary that maps from object to category\n",
    "    '''\n",
    "    ## aggregate by target and condition and take the mean across rows within each group\n",
    "    F2 = F.groupby(['target','condition']).mean().reset_index()\n",
    "\n",
    "    ## re-add category back to the F dataframe so we can subset on that later \n",
    "    ##( taking mean above removes it b/c it is a string)\n",
    "    F2['category'] = F2['target'].apply(lambda x: OBJECT_TO_CATEGORY[x])    \n",
    "    \n",
    "    return F2\n",
    "\n",
    "def resample_sketches(F0,\n",
    "                      groupby=['target','condition'],\n",
    "                      random_state=0):    \n",
    "    Fboot = F0.groupby(groupby).apply(lambda x: x.sample(n=len(x), replace=True, random_state=random_state))\n",
    "    cols = Fboot.columns\n",
    "    Fboot = Fboot.xs(cols, axis=1, drop_level=True).reset_index(drop=True)\n",
    "    return Fboot\n",
    "\n",
    "def get_context_difference_mat(F2):\n",
    "    to_inspect = 'category'\n",
    "    categories = ['bird','car','chair','dog']\n",
    "    d = []\n",
    "    for i, this_category in enumerate(categories):\n",
    "        c,f, obj_listc, obj_listf = subset_dataframe_by_condition(F2,\n",
    "                                            to_inspect=to_inspect,\n",
    "                                            this_category=this_category) ## get subset of features\n",
    "\n",
    "        _d = c.sub(f)\n",
    "        if len(d)==0:\n",
    "            d = _d\n",
    "        else:\n",
    "            d = pd.concat((d,_d),axis=0) \n",
    "    return d\n",
    "\n",
    "def get_sparsity(vec):\n",
    "    '''\n",
    "    see: https://math.stackexchange.com/questions/117860/how-to-define-sparseness-of-a-vector\n",
    "    maximally sparse = 1\n",
    "    minimally sparse = 0\n",
    "    '''\n",
    "    k = len(vec)\n",
    "    L1norm = np.linalg.norm(vec,ord=1)\n",
    "    L2norm = np.linalg.norm(vec,ord=2)\n",
    "    s = (np.sqrt(k) - (L1norm/L2norm))/(np.sqrt(k) - 1)\n",
    "    return s\n",
    "\n",
    "def subset_dataframe_by_condition(F,to_inspect='all',this_category='bird',this_object='bluejay'):\n",
    "    '''\n",
    "    input: F: dataframe (num_sketches x num_features)\n",
    "           to_inspect: a string indicating whether to subset by ['object','category','all']\n",
    "           this_category: IF to_inspect == 'category', then we define this to subset by that category only\n",
    "           this_object: IF to_inspect == 'object', then we define this to subset by that object only\n",
    "           \n",
    "    returns: two feature matrices, c and f, corresponding to the close and far subsetted feature matrices\n",
    "           \n",
    "    '''\n",
    "        \n",
    "    F = F.sort_values(by=['category','target'])\n",
    "\n",
    "    ## get context condition inds for subsetting dataframe\n",
    "    close_inds = F['condition'] == 'closer'\n",
    "    far_inds = F['condition'] == 'further'\n",
    "\n",
    "    ## if we want to inspect particular category\n",
    "    category_inds = F['category']==this_category\n",
    "\n",
    "    ## if we want to inspect particular object\n",
    "    obj_list = np.unique(F.target.values)\n",
    "    obj_inds = F['target']==this_object  \n",
    "    \n",
    "    ## get names of columns that contain stroke-count & arclength information\n",
    "    numstrokes_cols = [i for i in F.columns if i.split('_')[-1]=='numstrokes']\n",
    "    arclength_cols = [i for i in F.columns if i.split('_')[-1]=='arclength']\n",
    "    feat_cols = numstrokes_cols + arclength_cols\n",
    "    \n",
    "    if to_inspect == 'object':    \n",
    "        ## extract particular row corresponding to this OBJECT in each condition\n",
    "        f = F[(far_inds) & obj_inds][feat_cols].reset_index(drop=True)\n",
    "        c = F[(close_inds) & obj_inds][feat_cols].reset_index(drop=True)\n",
    "        obj_listf = F[(far_inds) & obj_inds]['target'].values\n",
    "        obj_listc = F[(close_inds) & obj_inds]['target'].values\n",
    "    elif to_inspect == 'category':\n",
    "        ## extract particular rows corresponding to this CATEGORY in each condition\n",
    "        f = F[(category_inds) & (far_inds)][feat_cols].reset_index(drop=True)\n",
    "        c = F[(category_inds) & (close_inds)][feat_cols].reset_index(drop=True)\n",
    "        obj_listf = F[(category_inds) & (far_inds)]['target'].values\n",
    "        obj_listc = F[(category_inds) & (close_inds)]['target'].values\n",
    "    elif to_inspect == 'all':\n",
    "        ## extract particular rows corresponding to each condition\n",
    "        f = F[far_inds][feat_cols].reset_index(drop=True)\n",
    "        c = F[close_inds][feat_cols].reset_index(drop=True) \n",
    "        obj_listf = F[far_inds]['target'].values\n",
    "        obj_listc = F[close_inds]['target'].values\n",
    "        \n",
    "    return c, f, obj_listc, obj_listf"
   ]
  },
  {
   "cell_type": "code",
   "execution_count": 17,
   "metadata": {},
   "outputs": [
    {
     "data": {
      "text/plain": [
       "(58947, 28)"
      ]
     },
     "execution_count": 17,
     "metadata": {},
     "output_type": "execute_result"
    }
   ],
   "source": [
    "#Load in annotated sketch dataset| subsetted for sketches with 3 annotations\n",
    "D=cleanup_df(pd.read_pickle(os.path.join(csv_dir, 'semantic_parts_annotated_data_pckl')))\n",
    "D.shape"
   ]
  },
  {
   "cell_type": "markdown",
   "metadata": {},
   "source": [
    "## Creating spline and stroke level dataframes for further analysis"
   ]
  },
  {
   "cell_type": "code",
   "execution_count": 18,
   "metadata": {},
   "outputs": [
    {
     "name": "stdout",
     "output_type": "stream",
     "text": [
      "we have 24 unique labels\n"
     ]
    }
   ],
   "source": [
    "## get the list of unique labels applied to sketches\n",
    "unique_labels = np.unique(D.label.values)\n",
    "\n",
    "## Removing Nones and obviously wrong super long lables\n",
    "unique_labels = [i for i in unique_labels if i is not None]\n",
    "unique_labels = [i for i in unique_labels if len(i)<900]\n",
    "\n",
    "print 'we have {} unique labels'.format(len(unique_labels))"
   ]
  },
  {
   "cell_type": "code",
   "execution_count": 19,
   "metadata": {},
   "outputs": [],
   "source": [
    "unique_cats= np.unique(D['category'])\n",
    "##Create empty dictionary with categories as keys. We will use this to store part occurrence data for our categories\n",
    "label_vect_dict = {unique_cats[0]:None,unique_cats[1]:None,unique_cats[2]:None,unique_cats[3]:None}"
   ]
  },
  {
   "cell_type": "code",
   "execution_count": 20,
   "metadata": {},
   "outputs": [],
   "source": [
    "##Create vectors that contain the number of part instances in each sketch\n",
    "num_annots=3\n",
    "\n",
    "for category in unique_cats:\n",
    "    DS= D[D['category']==category]\n",
    "    unique_sketches_in_cat = np.unique(DS['sketch_id'])\n",
    "    unique_labels_in_cat = np.unique(DS['label'])\n",
    "    ## initialize matrix that has the correct dimensions\n",
    "    Label_Vec = np.zeros((len(unique_sketches_in_cat),len(unique_labels_in_cat)), dtype=int)\n",
    "    unique_labels_in_cat= np.array(unique_labels_in_cat)\n",
    "    for s,this_sketch in enumerate(unique_sketches_in_cat):\n",
    "        label_vec = np.zeros(len(unique_labels_in_cat),dtype=int)\n",
    "        DSS = DS[DS['sketch_id']==this_sketch]\n",
    "        annotation_ids = np.unique(DSS['annotation_id'].values)    \n",
    "        for this_annotation in annotation_ids:\n",
    "            DSA = DSS[DSS['annotation_id']==this_annotation]\n",
    "            label_list = DSA.label.values\n",
    "            for this_label in label_list:\n",
    "                label_ind = unique_labels_in_cat==this_label\n",
    "                label_vec[label_ind] += 1\n",
    "            \n",
    "        Label_Vec[s,:]=label_vec/num_annots\n",
    "    label_vect_dict[category]= Label_Vec"
   ]
  },
  {
   "cell_type": "code",
   "execution_count": 21,
   "metadata": {},
   "outputs": [],
   "source": [
    "valid_labels=[]\n",
    "valid_labels_dict={}\n",
    "for category in unique_cats:\n",
    "    vect = label_vect_dict[category]\n",
    "    thresh = 50\n",
    "    #print 'These are the labels that appear at least {} times:'.format(thresh)\n",
    "    #print unique_labels[np.sum(Label_Vec,0)>thresh]\n",
    "    unique_labels_in_cat = np.unique(D[D['category']==category]['label'])\n",
    "    plot_labels= unique_labels_in_cat[np.sum(vect,0)>thresh]\n",
    "    valid_labels_dict[category]=plot_labels\n",
    "    valid_labels.append(plot_labels)\n",
    "\n",
    "\n",
    "    prop_labels=[]\n",
    "    for part in plot_labels:\n",
    "        DS=D[D['category']==category]\n",
    "        prop_labels.append(DS[DS['label']==part]['annotation_id'].nunique()/DS['annotation_id'].nunique())\n",
    "    \n",
    "    \n",
    "#     sns.set_context('talk')\n",
    "#     plt.figure(figsize=(12,7))\n",
    "#     plt.ylim(0,1)\n",
    "#     h = plt.bar(plot_labels,prop_labels)\n",
    "#     plt.title('Proportion of {} annotations with labels'.format(category))\n",
    "#     plt.ylabel('proportion of annotations')\n",
    "#     plt.xlabel('Part')\n",
    "    \n",
    "##flattening valid labels\n",
    "valid_labels = [item for sublist in valid_labels for item in sublist]\n"
   ]
  },
  {
   "cell_type": "code",
   "execution_count": 22,
   "metadata": {},
   "outputs": [],
   "source": [
    "#Creating a spline-level df where the modal label is set as the 'true' label for any given spline\n",
    "spline_df= D.groupby('spline_id').agg(lambda x: Counter(x).most_common(1)[0][0])\n",
    "spline_df.reset_index(level=0, inplace=True)"
   ]
  },
  {
   "cell_type": "code",
   "execution_count": 23,
   "metadata": {},
   "outputs": [],
   "source": [
    "##Creating a stroke-level dataframe that takes the mode value of annotation for its children splines to set as its\n",
    "##label value\n",
    "\n",
    "from collections import Counter\n",
    "\n",
    "\n",
    "from collections import OrderedDict\n",
    "stroke_svgs=OrderedDict()\n",
    "for category in unique_cats:\n",
    "    DS=D[D['category']==category]\n",
    "    for sketch in np.unique(DS['sketch_id']):\n",
    "        DSS=DS[DS['sketch_id']==sketch]\n",
    "        for stroke in np.unique(DSS['stroke_num']):\n",
    "            DSA=DSS[DSS['stroke_num']==stroke]\n",
    "            DSA=DSA.reset_index()\n",
    "            stroke_svgs[DSA['stroke_id'][0]] = DSA['sketch_svg_string'][0][stroke]\n",
    "\n",
    "            \n",
    "            \n",
    "stroke_svg_df= pd.DataFrame.from_dict(stroke_svgs, orient='index')    \n",
    "stroke_group_data= D.groupby('stroke_id').agg(lambda x: Counter(x).most_common(1)[0][0])\n",
    "labels= pd.DataFrame(stroke_group_data[['sketch_id','label','stroke_num','condition','target','category','outcome']])\n",
    "stroke_df=pd.merge(stroke_svg_df,labels,left_index=True, right_index =True)\n",
    "stroke_df.reset_index(level=0, inplace=True)\n",
    "stroke_df=stroke_df.rename(index=str, columns={\"index\": \"stroke_id\", 0: \"svg\"})\n"
   ]
  },
  {
   "cell_type": "code",
   "execution_count": 24,
   "metadata": {},
   "outputs": [],
   "source": [
    "##Adding total arclength information to stroke dataframe\n",
    "\n",
    "def calculate_arclength(svg):\n",
    "    try:\n",
    "        arclength= parse_path(svg).length()\n",
    "    except ZeroDivisionError:\n",
    "        print 'zero div error'\n",
    "        arclength = 0\n",
    "    return arclength\n",
    "        \n",
    "                    "
   ]
  },
  {
   "cell_type": "code",
   "execution_count": 25,
   "metadata": {},
   "outputs": [],
   "source": [
    "stroke_df['arc_length'] = stroke_df['svg'].apply(calculate_arclength)"
   ]
  },
  {
   "cell_type": "code",
   "execution_count": 26,
   "metadata": {},
   "outputs": [
    {
     "data": {
      "text/plain": [
       "stroke_id     4164\n",
       "svg           4164\n",
       "sketch_id      391\n",
       "label           24\n",
       "stroke_num      37\n",
       "condition        1\n",
       "target          32\n",
       "category         4\n",
       "outcome          2\n",
       "arc_length    4075\n",
       "dtype: int64"
      ]
     },
     "execution_count": 26,
     "metadata": {},
     "output_type": "execute_result"
    }
   ],
   "source": [
    "stroke_df[stroke_df['condition']=='closer'].nunique()"
   ]
  },
  {
   "cell_type": "code",
   "execution_count": 27,
   "metadata": {},
   "outputs": [
    {
     "data": {
      "text/plain": [
       "2592"
      ]
     },
     "execution_count": 27,
     "metadata": {},
     "output_type": "execute_result"
    }
   ],
   "source": [
    "D.annotation_id.nunique()"
   ]
  },
  {
   "cell_type": "markdown",
   "metadata": {},
   "source": [
    "### Inter-annotator reliability"
   ]
  },
  {
   "cell_type": "code",
   "execution_count": 28,
   "metadata": {},
   "outputs": [],
   "source": [
    "## Getting the number of unique labels assigned to a given spline across annotations\n",
    "a=[]\n",
    "num_diff_annots = []\n",
    "for this_cat in unique_cats:\n",
    "    DS=D[D['category']==this_cat]\n",
    "    labels = valid_labels_dict[this_cat]\n",
    "    unique_sketches_in_cat=np.unique(DS['sketch_id'])\n",
    "    \n",
    "\n",
    "   \n",
    "    for this_sketch_id in unique_sketches_in_cat:\n",
    "        DSA=DS[DS['sketch_id']==this_sketch_id]\n",
    "        unique_splines = np.unique(DSA['cumulative_spline_num'])\n",
    "        for i,this_spline in enumerate(unique_splines):\n",
    "            DSB =DSA[DSA['cumulative_spline_num']==this_spline]\n",
    "            numannots= 4-len(np.unique(DSB['label']))\n",
    "            if len(np.unique(DSB['label'])) == 3:\n",
    "                a.append(this_sketch_id)\n",
    "            if numannots==0:\n",
    "                numannots=1\n",
    "            num_diff_annots.append(numannots)"
   ]
  },
  {
   "cell_type": "code",
   "execution_count": 29,
   "metadata": {},
   "outputs": [
    {
     "data": {
      "image/png": "[encoded data removed]",
      "text/plain": [
       "<Figure size 576x576 with 1 Axes>"
      ]
     },
     "metadata": {},
     "output_type": "display_data"
    }
   ],
   "source": [
    "#plotting variability in spline annots\n",
    "plt.figure(figsize=(8,8))\n",
    "plt.hist(num_diff_annots, bins= range(1,5), align='left', density='True')\n",
    "plt.title('Inter-annotator reliability')\n",
    "plt.ylabel('proportion of splines')\n",
    "plt.xlabel('Annotator agreement on label')\n",
    "plt.xticks([1,2,3],['0/3','2/3','3/3'])\n",
    "plt.show()"
   ]
  },
  {
   "cell_type": "markdown",
   "metadata": {},
   "source": [
    "### Stroke-part relationships"
   ]
  },
  {
   "cell_type": "code",
   "execution_count": 30,
   "metadata": {},
   "outputs": [],
   "source": [
    "spline_dfs = spline_df\n",
    "stroke_dfs = stroke_df\n",
    "spline_annots_per_stroke = []\n",
    "for this_cat in unique_cats:\n",
    "    labels = valid_labels_dict[this_cat]\n",
    "    DS=spline_dfs[spline_dfs['category']==this_cat]\n",
    "    unique_sketches_in_cat= np.unique(DS['sketch_id'])\n",
    "    for this_sketch_id in unique_sketches_in_cat:\n",
    "        DSA=DS[DS['sketch_id']==this_sketch_id]\n",
    "        unique_strokes = np.unique(DSA['stroke_num'])\n",
    "        for i,this_stroke in enumerate(unique_strokes):\n",
    "            DSB =DSA[DSA['stroke_num']==this_stroke]\n",
    "            numlabels= DSB['label'].nunique()\n",
    "            spline_annots_per_stroke.append(numlabels)\n",
    "h= plt.hist(spline_annots_per_stroke, bins =[1,2,3,4,5,6], align='left', density=\"True\", color='grey')\n",
    "pps_series = pd.Series(np.array([h[0][0],h[0][1],h[0][2:].sum()]), index=['1', '2', '3+'], \\\n",
    "                     )\n",
    "\n",
    "strokes_per_part = []\n",
    "for this_cat in unique_cats:\n",
    "    DS=stroke_dfs[stroke_dfs['category']==this_cat]\n",
    "    unique_sketches_in_cat= np.unique(DS['sketch_id'])\n",
    "    for this_sketch_id in unique_sketches_in_cat:\n",
    "        DSA=DS[DS['sketch_id']==this_sketch_id]\n",
    "        parts_in_sketch = np.unique(DSA['label'])\n",
    "        for i,this_part in enumerate(parts_in_sketch):\n",
    "            DSB =DSA[DSA['label']==this_part]\n",
    "            numstrokes= DSB['stroke_num'].nunique()\n",
    "            strokes_per_part.append(numstrokes)\n",
    "h= plt.hist(strokes_per_part, bins =[1,2,3,4,5,6,7,8,9,10], align='left', density=\"True\", color ='grey')\n",
    "spp_series = pd.Series(np.array([h[0][0],h[0][1],h[0][2:].sum()]), index=['1', '2', '3+'], \\\n",
    "                     )\n",
    "plt.close()"
   ]
  },
  {
   "cell_type": "code",
   "execution_count": 31,
   "metadata": {},
   "outputs": [
    {
     "data": {
      "image/png": "[encoded data removed]",
      "text/plain": [
       "<Figure size 1800x1080 with 2 Axes>"
      ]
     },
     "metadata": {},
     "output_type": "display_data"
    }
   ],
   "source": [
    "fig = plt.figure(figsize=(25,15))\n",
    "colors = sns.color_palette('tab20c')\n",
    "\n",
    "ax1 = fig.add_subplot(212) # Create matplotlib axes\n",
    "ax2 = fig.add_subplot(211)\n",
    "\n",
    "\n",
    "# pd.DataFrame(spp_series).T.plot(ax=axes[0,1]).bar(stacked=True,legend=False, width =0.2)\n",
    "# pd.DataFrame(pps_series).T.plot(ax=axes[0,0]).bar(stacked=True,legend=False, width =0.2)\n",
    "\n",
    "\n",
    "b1=pd.DataFrame(spp_series).T.plot.barh(stacked=True,legend=False, width =0.25,ax=ax1, color=[colors[0],colors[1],colors[2]])\n",
    "b2=pd.DataFrame(pps_series).T.plot.barh(stacked=True,legend=False, width =0.25,ax=ax2, color=[colors[4],colors[5],colors[6]])\n",
    "\n",
    "\n",
    "\n",
    "\n",
    "for item in b1.get_xticklabels():\n",
    "     item.set_rotation(0)\n",
    "\n",
    "for item in b2.get_xticklabels():\n",
    "     item.set_rotation(0)\n",
    "\n",
    "ax1.spines['right'].set_visible(False)\n",
    "ax1.spines['top'].set_visible(False)\n",
    "ax2.spines['right'].set_visible(False)\n",
    "ax2.spines['top'].set_visible(False)\n",
    "\n",
    "ax1.set_ylabel('')\n",
    "ax2.set_ylabel('')\n",
    "ax1.set_xlabel('',labelpad = 15)\n",
    "ax2.set_xlabel('',labelpad= 15)\n",
    "ax1.set_yticks([])\n",
    "ax2.set_yticks([])\n",
    "plt.subplots_adjust(wspace=1)\n",
    "\n",
    "\n",
    "\n",
    "#plt.savefig(os.path.join(plot_dir,'stroke_part_relationship'),edgecolor='w',bbox_inches='tight',dpi=500)\n",
    "\n"
   ]
  },
  {
   "cell_type": "code",
   "execution_count": null,
   "metadata": {},
   "outputs": [],
   "source": []
  },
  {
   "cell_type": "code",
   "execution_count": 32,
   "metadata": {},
   "outputs": [
    {
     "name": "stdout",
     "output_type": "stream",
     "text": [
      "iteration 0\n",
      "iteration 0\n"
     ]
    }
   ],
   "source": [
    "from collections import Counter\n",
    "iters=1\n",
    "c_pps=[]\n",
    "f_pps=[]\n",
    "c_spp=[]\n",
    "f_spp=[]\n",
    "for this_cond in np.unique(D.condition):\n",
    "    for i in range(iters):\n",
    "        if i%100==0:\n",
    "            print(\"iteration {}\".format(i))\n",
    "        spline_dfs = spline_df[spline_df['condition']==this_cond]\n",
    "        stroke_dfs = stroke_df[stroke_df['condition']==this_cond]\n",
    "        spline_annots_per_stroke = []\n",
    "\n",
    "\n",
    "        unique_sketches_in_cond= np.unique(spline_dfs['sketch_id'])\n",
    "        sample_sketches = np.random.choice(unique_sketches_in_cond,len(unique_sketches_in_cond),replace=True)\n",
    "        for this_sketch_id in sample_sketches:\n",
    "            DSA=spline_dfs[spline_dfs['sketch_id']==this_sketch_id]\n",
    "            unique_strokes = np.unique(DSA['stroke_num'])\n",
    "            for i,this_stroke in enumerate(unique_strokes):\n",
    "                DSB =DSA[DSA['stroke_num']==this_stroke]\n",
    "                numlabels= DSB['label'].nunique()\n",
    "                spline_annots_per_stroke.append(numlabels)\n",
    "\n",
    "        h= np.array(Counter(spline_annots_per_stroke).values())    \n",
    "        pps_series = np.array([h[0],h[1],h[2:].sum()])\n",
    "        if this_cond=='closer':\n",
    "            c_pps.append(pps_series)\n",
    "        elif this_cond == 'further':\n",
    "            f_pps.append(pps_series)\n",
    "\n",
    "\n",
    "\n",
    "        strokes_per_part = []\n",
    "\n",
    "        unique_sketches_in_cond= np.unique(stroke_dfs['sketch_id'])\n",
    "        sample_sketches = np.random.choice(unique_sketches_in_cond,len(unique_sketches_in_cond),replace=True)\n",
    "        for this_sketch_id in sample_sketches:\n",
    "            DSA=stroke_dfs[stroke_dfs['sketch_id']==this_sketch_id]\n",
    "            parts_in_sketch = np.unique(DSA['label'])\n",
    "            for i,this_part in enumerate(parts_in_sketch):\n",
    "                DSB =DSA[DSA['label']==this_part]\n",
    "                numstrokes= DSB['stroke_num'].nunique()\n",
    "                strokes_per_part.append(numstrokes)\n",
    "        h= np.array(Counter(strokes_per_part).values())    \n",
    "        spp_series = np.array([h[0],h[1],h[2:].sum()])\n",
    "        if this_cond=='closer':\n",
    "            c_spp.append(spp_series)\n",
    "        elif this_cond == 'further':\n",
    "            f_spp.append(spp_series)\n",
    "\n",
    "c_pps=np.vstack(c_pps)\n",
    "\n",
    "f_pps=np.vstack(f_pps)\n",
    "\n",
    "c_spp=np.vstack(c_spp)\n",
    "\n",
    "f_spp=np.vstack(f_spp)"
   ]
  },
  {
   "cell_type": "code",
   "execution_count": 71,
   "metadata": {},
   "outputs": [],
   "source": [
    "#load arrays for 1000 bootstrap iters\n",
    "\n",
    "c_pps= np.load(os.path.join(features_dir,'c_pps.npy'))\n",
    "c_spp= np.load(os.path.join(features_dir,'c_spp.npy'))\n",
    "f_pps= np.load(os.path.join(features_dir,'f_pps.npy'))\n",
    "f_spp= np.load(os.path.join(features_dir,'f_spp.npy'))\n"
   ]
  },
  {
   "cell_type": "code",
   "execution_count": 72,
   "metadata": {},
   "outputs": [],
   "source": [
    "#compute proportions from counts\n",
    "\n",
    "# c_pps= np.load(os.path.join(features_dir,'c_pps.npy'))\n",
    "c_pps = c_pps/c_pps.sum(axis=1)[:,None]\n",
    "# c_spp= np.load(os.path.join(features_dir,'c_spp.npy'))\n",
    "c_spp = c_spp/c_spp.sum(axis=1)[:,None]\n",
    "# f_pps= np.load(os.path.join(features_dir,'f_pps.npy'))\n",
    "f_pps = f_pps/f_pps.sum(axis=1)[:,None]\n",
    "# f_spp= np.load(os.path.join(features_dir,'f_spp.npy'))\n",
    "f_spp = f_spp/f_spp.sum(axis=1)[:,None]\n"
   ]
  },
  {
   "cell_type": "code",
   "execution_count": 73,
   "metadata": {},
   "outputs": [],
   "source": [
    "## do some collapsing \n",
    "\n",
    "c_pps[:,1]=c_pps[:,1]+c_pps[:,2]\n",
    "c_pps=np.delete(c_pps,2,1)\n",
    "f_pps[:,1]=f_pps[:,1]+f_pps[:,2]\n",
    "f_pps=np.delete(f_pps,2,1)\n",
    "\n",
    "\n",
    "\n",
    "c_spp[:,1]=c_spp[:,1]+c_spp[:,2]\n",
    "c_spp=np.delete(c_spp,2,1)\n",
    "f_spp[:,1]=f_spp[:,1]+f_spp[:,2]\n",
    "f_spp=np.delete(f_spp,2,1)\n"
   ]
  },
  {
   "cell_type": "code",
   "execution_count": 36,
   "metadata": {},
   "outputs": [],
   "source": [
    "pps_diff = f_pps[:,1]-c_pps[:,1]\n",
    "spp_diff = c_spp[:,1]-f_spp[:,1]"
   ]
  },
  {
   "cell_type": "code",
   "execution_count": 37,
   "metadata": {},
   "outputs": [
    {
     "data": {
      "text/plain": [
       "0.066"
      ]
     },
     "execution_count": 37,
     "metadata": {},
     "output_type": "execute_result"
    }
   ],
   "source": [
    "###pval for spp diff\n",
    "(sum(pps_diff<0)/len(pps_diff))*2"
   ]
  },
  {
   "cell_type": "code",
   "execution_count": 38,
   "metadata": {},
   "outputs": [
    {
     "data": {
      "text/plain": [
       "0.018"
      ]
     },
     "execution_count": 38,
     "metadata": {},
     "output_type": "execute_result"
    }
   ],
   "source": [
    "###pval for spp diff\n",
    "(sum(spp_diff<0)/len(spp_diff))*2"
   ]
  },
  {
   "cell_type": "code",
   "execution_count": 76,
   "metadata": {},
   "outputs": [
    {
     "data": {
      "text/plain": [
       "1000"
      ]
     },
     "execution_count": 76,
     "metadata": {},
     "output_type": "execute_result"
    }
   ],
   "source": [
    "len(spp_diff)"
   ]
  },
  {
   "cell_type": "code",
   "execution_count": null,
   "metadata": {},
   "outputs": [],
   "source": []
  },
  {
   "cell_type": "code",
   "execution_count": 39,
   "metadata": {},
   "outputs": [
    {
     "name": "stdout",
     "output_type": "stream",
     "text": [
      "(0.161, 0.188) (0.179, 0.209)\n"
     ]
    }
   ],
   "source": [
    "#Parts per stroke\n",
    "\n",
    "c_pps_CI = np.percentile(c_pps[:,1],2.5).round(3),np.percentile(c_pps[:,1],97.5).round(3)\n",
    "f_pps_CI = np.percentile(f_pps[:,1],2.5).round(3),np.percentile(f_pps[:,1],97.5).round(3)\n",
    "print c_pps_CI, f_pps_CI"
   ]
  },
  {
   "cell_type": "code",
   "execution_count": 40,
   "metadata": {},
   "outputs": [
    {
     "name": "stdout",
     "output_type": "stream",
     "text": [
      "(0.537, 0.586) (0.499, 0.546)\n"
     ]
    }
   ],
   "source": [
    "#Strokes per part\n",
    "\n",
    "c_spp_CI = np.percentile(c_spp[:,1],2.5).round(3),np.percentile(c_spp[:,1],97.5).round(3)\n",
    "f_spp_CI = np.percentile(f_spp[:,1],2.5).round(3),np.percentile(f_spp[:,1],97.5).round(3)\n",
    "print c_spp_CI, f_spp_CI"
   ]
  },
  {
   "cell_type": "code",
   "execution_count": null,
   "metadata": {},
   "outputs": [],
   "source": []
  },
  {
   "cell_type": "markdown",
   "metadata": {},
   "source": [
    "### Part-streak analysis"
   ]
  },
  {
   "cell_type": "code",
   "execution_count": 41,
   "metadata": {},
   "outputs": [],
   "source": [
    "dataset = 'normalized'\n",
    "##Creating a dictionary of sketch_id with associated part sequences\n",
    "seq_dict={}\n",
    "for this_sketch in np.unique(stroke_df['sketch_id']):\n",
    "    parts_list=[]\n",
    "    DS=stroke_df[stroke_df['sketch_id']==this_sketch]\n",
    "    for i, row in DS.iterrows():\n",
    "        parts_list.append(stroke_df['label'][i])\n",
    "    seq_dict[this_sketch]=parts_list"
   ]
  },
  {
   "cell_type": "code",
   "execution_count": 42,
   "metadata": {},
   "outputs": [],
   "source": [
    "##functions for getting 'mean streak_length' from a particular sketch for ground truth and scrambled part orders\n",
    "\n",
    "import random\n",
    "\n",
    "def get_mean_streak(sketch_id):\n",
    "    parts = seq_dict[sketch_id]\n",
    "    streak_counter=1\n",
    "    list_of_streaks=[]\n",
    "    for obj in range(len(parts)-1):\n",
    "        if parts[obj]==parts[obj+1]:\n",
    "            streak_counter+=1\n",
    "        else:\n",
    "            list_of_streaks.append(streak_counter)\n",
    "            streak_counter=1 \n",
    "    list_of_streaks.append(streak_counter)\n",
    "    return np.mean(list_of_streaks)\n",
    "\n",
    "def get_scramble_mean_streak(sketch_id):\n",
    "    parts = seq_dict[sketch_id]\n",
    "    scram_parts=random.sample(parts,len(parts))\n",
    "    streak_counter=1\n",
    "    list_of_streaks=[]\n",
    "    for obj in range(len(scram_parts)-1):\n",
    "        if scram_parts[obj]==scram_parts[obj+1]:\n",
    "            streak_counter+=1\n",
    "        else:\n",
    "            list_of_streaks.append(streak_counter)\n",
    "            streak_counter=1 \n",
    "    list_of_streaks.append(streak_counter)\n",
    "    return np.mean(list_of_streaks)"
   ]
  },
  {
   "cell_type": "code",
   "execution_count": 43,
   "metadata": {},
   "outputs": [],
   "source": [
    "#Iterating over all sketches to get mean streakiness for each sketch_id\n",
    "\n",
    "gt_streak_mean={}\n",
    "for this_cat in unique_cats:\n",
    "    DS= stroke_df[stroke_df['category']==this_cat]\n",
    "    streak_mean_list=[]\n",
    "    for this_sketch in np.unique(DS['sketch_id']):\n",
    "        streak_mean_list.append(get_mean_streak(this_sketch))\n",
    "    gt_streak_mean[this_cat]=np.mean(streak_mean_list)"
   ]
  },
  {
   "cell_type": "code",
   "execution_count": 44,
   "metadata": {},
   "outputs": [],
   "source": [
    "##Creating a list of exception sketches\n",
    "single_stroke_sketches=[]\n",
    "single_label_sketches=[]\n",
    "strokes_equal_labels_sketches=[]\n",
    "for this_sketch in stroke_df.sketch_id.unique():\n",
    "    stroke_df_s= stroke_df[stroke_df['sketch_id']==this_sketch]\n",
    "    if stroke_df_s.stroke_num.nunique()==1:\n",
    "        single_stroke_sketches.append(this_sketch)\n",
    "    if stroke_df_s.label.nunique()==1:\n",
    "        single_label_sketches.append(this_sketch)\n",
    "    if stroke_df_s.label.nunique()== stroke_df_s.stroke_num.nunique():\n",
    "        strokes_equal_labels_sketches.append(this_sketch)\n",
    "ss_sketches_labels={}\n",
    "sl_sketches_numstrokes={}\n",
    "sel_sketches_labels={}\n",
    "for this_sketch in single_stroke_sketches:\n",
    "    ss_sketches_labels[this_sketch] = stroke_df[stroke_df['sketch_id']==this_sketch].label\n",
    "for this_sketch in single_label_sketches:\n",
    "    sl_sketches_numstrokes[this_sketch]=stroke_df[stroke_df['sketch_id']==this_sketch].stroke_num.nunique()\n",
    "for this_sketch in strokes_equal_labels_sketches:\n",
    "    sel_sketches_labels[this_sketch]=stroke_df[stroke_df['sketch_id']==this_sketch].label.unique()\n",
    "\n",
    "    \n",
    "_donotpermute=single_stroke_sketches + single_label_sketches + strokes_equal_labels_sketches\n",
    "donotpermute=np.unique(_donotpermute).tolist()"
   ]
  },
  {
   "cell_type": "code",
   "execution_count": 45,
   "metadata": {},
   "outputs": [],
   "source": [
    "##z-score of gt\n",
    "#scrambled_higher_prop={}\n",
    "gt_streak_zscore={}\n",
    "true_streak_means = {}\n",
    "permuted_streak_means = {}\n",
    "for this_target in stroke_df.target.unique():\n",
    "    DA=stroke_df[stroke_df['target']==this_target]\n",
    "    for this_sketch in DA.sketch_id.unique():\n",
    "        if this_sketch not in donotpermute:\n",
    "            prop_counter=0\n",
    "            intact_mean_streak = get_mean_streak(this_sketch)\n",
    "            permuted_streak_list = []\n",
    "            for i in range(1000):\n",
    "                scrambled_mean_streak=get_scramble_mean_streak(this_sketch)\n",
    "                permuted_streak_list.append(scrambled_mean_streak)\n",
    "#                 if intact_mean_streak<scrambled_mean_streak:\n",
    "#                     prop_counter+=1\n",
    "            try:  \n",
    "                assert np.isnan((get_mean_streak(this_sketch)-np.mean(permuted_streak_list))/np.std(permuted_streak_list)) == False\n",
    "                true_streak_means[this_sketch] = get_mean_streak(this_sketch)\n",
    "                permuted_streak_means[this_sketch] = np.mean(permuted_streak_list)\n",
    "                gt_streak_zscore[this_sketch]=(get_mean_streak(this_sketch)-np.mean(permuted_streak_list))/np.std(permuted_streak_list)\n",
    "            except AssertionError:\n",
    "                print stroke_df[stroke_df.sketch_id==this_sketch].stroke_num.nunique(),stroke_df[stroke_df.sketch_id==this_sketch].label.nunique()\n",
    "#             scrambled_higher_prop[this_sketch]=prop_counter/1000\n",
    "            \n",
    "            \n",
    "            \n",
    "            "
   ]
  },
  {
   "cell_type": "code",
   "execution_count": 46,
   "metadata": {},
   "outputs": [],
   "source": [
    "tls=[]\n",
    "objs=[]\n",
    "cond=[]\n",
    "cat=[]\n",
    "for this_target in stroke_df.target.unique():\n",
    "    DA=stroke_df[stroke_df['target']==this_target]\n",
    "    _sketch_ids = DA.sketch_id.unique()\n",
    "    _sketch_ids = [x for x in _sketch_ids if x not in donotpermute]\n",
    "    true_streaks_sub=dict((k, true_streak_means[k]) for k in _sketch_ids)\n",
    "    perm_streaks_sub = dict((k, permuted_streak_means[k]) for k in _sketch_ids)\n",
    "    tls.append(true_streaks_sub.values())\n",
    "    cond.append([\"Intact\"]*len(true_streaks_sub.values()))\n",
    "    objs.append([this_target]*len(true_streaks_sub.values()))\n",
    "    cat.append([OBJECT_TO_CATEGORY[this_target]]*len(true_streaks_sub.values()))\n",
    "    \n",
    "    tls.append(perm_streaks_sub.values())\n",
    "    cond.append([\"Scrambled\"]*len(true_streaks_sub.values()))\n",
    "    objs.append([this_target]*len(true_streaks_sub.values()))\n",
    "    cat.append([OBJECT_TO_CATEGORY[this_target]]*len(true_streaks_sub.values()))\n",
    "    "
   ]
  },
  {
   "cell_type": "code",
   "execution_count": 47,
   "metadata": {},
   "outputs": [],
   "source": [
    "tls = [item for sublist in tls for item in sublist]\n",
    "objs= [item for sublist in objs for item in sublist]\n",
    "cond= [item for sublist in cond for item in sublist]\n",
    "cat= [item for sublist in cat for item in sublist]\n",
    "assert len(tls)==len(objs)==len(cond)==len(cat)"
   ]
  },
  {
   "cell_type": "code",
   "execution_count": 48,
   "metadata": {},
   "outputs": [],
   "source": [
    "_data= { 'objects':objs,'Mean Streak Length':tls, \"Condition\":cond, \"category\":cat}\n",
    "data= pd.DataFrame(data = _data)\n",
    "\n",
    "colors = sns.color_palette(\"husl\", 5)\n",
    "C0=colors[0]\n",
    "C1=colors[1]\n",
    "C2=colors[2]\n",
    "C3=colors[3]"
   ]
  },
  {
   "cell_type": "code",
   "execution_count": 49,
   "metadata": {},
   "outputs": [
    {
     "data": {
      "text/plain": [
       "Text(0,0.5,'')"
      ]
     },
     "execution_count": 49,
     "metadata": {},
     "output_type": "execute_result"
    },
    {
     "data": {
      "image/png": "[encoded data removed]",
      "text/plain": [
       "<Figure size 864x864 with 1 Axes>"
      ]
     },
     "metadata": {},
     "output_type": "display_data"
    }
   ],
   "source": [
    "from matplotlib.lines import Line2D\n",
    "palette= {\n",
    "    'basset': C3, 'beetle': C1, 'bloodhound': C3, 'bluejay': C0,\n",
    "    'bluesedan': C1, 'bluesport': C1, 'brown': C1, 'bullmastiff': C3,\n",
    "    'chihuahua': C3, 'crow': C0, 'cuckoo': C0, 'doberman': C3,\n",
    "    'goldenretriever': C3, 'hatchback': C1, 'inlay': C2, 'knob': C2,\n",
    "    'leather': C2, 'nightingale': C0, 'pigeon': C0, 'pug': C3,\n",
    "    'redantique': C1, 'redsport': C1, 'robin': C0, 'sling': C2,\n",
    "    'sparrow': C0, 'squat': C2, 'straight': C2, 'tomtit': C0,\n",
    "    'waiting': C2, 'weimaraner': C3, 'white': C1, 'woven': C2,\n",
    "}\n",
    "\n",
    "\n",
    "plt.figure(figsize=(12,12))\n",
    "\n",
    "p = sns.pointplot(x=\"Condition\", hue=\"objects\", y= \"Mean Streak Length\",data=data,ci=95\\\n",
    "                  ,dodge= 0.2, palette = palette)\n",
    "p.set(ylim=(1, 3.5))\n",
    "plt.setp([p.get_children()[0],p.get_children()],alpha=0.4)\n",
    "\n",
    "leg_elements = [Line2D([0], [0], marker='o', color='w', label='bird',\n",
    "                          markerfacecolor=C0, markersize=15),\n",
    "                Line2D([0], [0], marker='o', color='w', label='car',\n",
    "                          markerfacecolor=C1, markersize=15),\n",
    "                Line2D([0], [0], marker='o', color='w', label='chair',\n",
    "                          markerfacecolor=C2, markersize=15),\n",
    "                Line2D([0], [0], marker='o', color='w', label='dog',\n",
    "                          markerfacecolor=C3, markersize=15),\n",
    "               ]\n",
    "\n",
    "plt.legend(handles= leg_elements, prop={'size': 35})\n",
    "plt.tick_params(labelsize=35)\n",
    "plt.xlabel('', fontsize=35)\n",
    "plt.ylabel('', fontsize=35)\n",
    "#plt.savefig(os.path.join(plot_dir,'streak_length_pp'),edgecolor='w',bbox_inches='tight',dpi=500)\n",
    "\n",
    "\n",
    "\n",
    "\n",
    "#plt.legend(bbox_to_anchor=(1.05, 1), loc=2, borderaxespad=0.0)"
   ]
  },
  {
   "cell_type": "code",
   "execution_count": 50,
   "metadata": {},
   "outputs": [
    {
     "name": "stdout",
     "output_type": "stream",
     "text": [
      "mean and CI for all objs (2.068, 1.899, 2.236)\n",
      "Intact and CI for closer condition (2.591, 2.299, 2.883)\n",
      "Intact and CI for further condition (1.614, 1.437, 1.791)\n"
     ]
    },
    {
     "data": {
      "image/png": "[encoded data removed]",
      "text/plain": [
       "<Figure size 432x288 with 1 Axes>"
      ]
     },
     "metadata": {},
     "output_type": "display_data"
    },
    {
     "data": {
      "image/png": "[encoded data removed]",
      "text/plain": [
       "<Figure size 432x288 with 1 Axes>"
      ]
     },
     "metadata": {},
     "output_type": "display_data"
    }
   ],
   "source": [
    "DA=D\n",
    "_sketch_ids= DA.sketch_id.unique()\n",
    "_sketch_ids = [x for x in _sketch_ids if x not in donotpermute]\n",
    "z_scores_sub=dict((k, gt_streak_zscore[k]) for k in _sketch_ids)\n",
    "plt.figure()\n",
    "plt.title('Intact mean streak Z-score Distribution for all sketches')\n",
    "h=sns.distplot(z_scores_sub.values(),kde=False,hist=True,norm_hist=False)\n",
    "plt.close()\n",
    "print 'mean and CI for all objs', calculate_CI(z_scores_sub.values())\n",
    "\n",
    "##broken out by condition\n",
    "for this_cond in stroke_df.condition.unique():\n",
    "    DA=stroke_df[stroke_df['condition']==this_cond]\n",
    "    _sketch_ids= DA.sketch_id.unique()\n",
    "    _sketch_ids = [x for x in _sketch_ids if x not in donotpermute]\n",
    "    z_scores_sub=dict((k, gt_streak_zscore[k]) for k in _sketch_ids)\n",
    "    plt.figure()\n",
    "    plt.title('Intact mean streak Z-score Distribution for {}'.format(this_cond))\n",
    "    h=sns.distplot(z_scores_sub.values(),kde=False,hist=True,norm_hist=False)\n",
    "    #plt.close()\n",
    "    print 'Intact and CI for {} condition'.format(this_cond), calculate_CI(z_scores_sub.values())"
   ]
  },
  {
   "cell_type": "markdown",
   "metadata": {},
   "source": [
    "## Creating feature vectors and normalizing "
   ]
  },
  {
   "cell_type": "code",
   "execution_count": 51,
   "metadata": {},
   "outputs": [
    {
     "name": "stdout",
     "output_type": "stream",
     "text": [
      "24 34\n"
     ]
    }
   ],
   "source": [
    "###This is where we make a num unique labels * 2 X number of sketches vector \n",
    "\n",
    "feature_vec = np.zeros((len(stroke_df.sketch_id.unique()),len(valid_labels)*2), dtype=int)\n",
    "ind=0\n",
    "start_pos=0\n",
    "end_pos=0\n",
    "meta_list=[]\n",
    "cols = ['sketch_id','target','condition','category','outcome']\n",
    "\n",
    "for cat in unique_cats:\n",
    "  \n",
    "    DS= stroke_df[stroke_df['category']==cat]\n",
    "    unique_labels_in_cat=valid_labels_dict[cat]\n",
    "    unique_sketches_in_cat=DS['sketch_id'].unique()\n",
    "    start_pos = end_pos\n",
    "    end_pos+= len(unique_labels_in_cat)\n",
    "    print start_pos, end_pos\n",
    "    clear_output(wait=True)\n",
    "    Label_Vec = np.zeros((len(unique_sketches_in_cat),len(unique_labels_in_cat)*2), dtype=int)\n",
    "    arc_length_vec = np.zeros((len(unique_sketches_in_cat),len(valid_labels_dict[cat])), dtype=int)\n",
    "    for s,sketch in enumerate(unique_sketches_in_cat):\n",
    "        \n",
    "        label_vec = np.zeros(len(unique_labels_in_cat),dtype=int)\n",
    "        arc_vec = np.zeros(len(unique_labels_in_cat),dtype=int)\n",
    "        DSA=DS[DS['sketch_id']==sketch]\n",
    "      \n",
    "        meta_list.append(pd.Series([DSA['sketch_id'].unique(),DSA['target'].unique(),DSA['condition'].unique(),DSA['category'].unique(),DSA['outcome'].unique()], index=cols))\n",
    "        label_list = DSA.label.values        \n",
    "        for label in label_list:\n",
    "            if label in unique_labels_in_cat:\n",
    "                label_ind = unique_labels_in_cat==label\n",
    "                label_vec[label_ind] += 1\n",
    "        for label in unique_labels_in_cat:\n",
    "            DSB=DSA[DSA['label']==label]\n",
    "            label_ind = unique_labels_in_cat==label\n",
    "            arc_vec[label_ind] = DSB['arc_length'].sum()\n",
    "            \n",
    "        \n",
    "        feature_vec[ind,start_pos:end_pos]=label_vec\n",
    "        feature_vec[ind,start_pos+len(valid_labels):end_pos+len(valid_labels)]=arc_vec\n",
    "        ind+=1\n",
    "meta_df = pd.DataFrame(meta_list, columns=cols)\n",
    "\n",
    "    \n",
    "\n"
   ]
  },
  {
   "cell_type": "code",
   "execution_count": null,
   "metadata": {},
   "outputs": [],
   "source": []
  },
  {
   "cell_type": "code",
   "execution_count": 52,
   "metadata": {},
   "outputs": [],
   "source": [
    "##Changing column values from np arrays to strings/boolean\n",
    "\n",
    "def arr_to_str(arr):\n",
    "    return (arr[0])\n",
    "meta_df['sketch_id']=meta_df['sketch_id'].apply(arr_to_str)\n",
    "meta_df['target']=meta_df['target'].apply(arr_to_str)\n",
    "meta_df['condition']=meta_df['condition'].apply(arr_to_str)\n",
    "meta_df['category']=meta_df['category'].apply(arr_to_str)\n",
    "meta_df['outcome']=meta_df['outcome'].apply(arr_to_str)\n",
    "    \n",
    "\n",
    "\n",
    "    "
   ]
  },
  {
   "cell_type": "code",
   "execution_count": 53,
   "metadata": {},
   "outputs": [],
   "source": [
    "feature_df= pd.DataFrame(feature_vec, columns=[s + '_numstrokes' for s in valid_labels]+[s + '_total_arclength' for s in valid_labels])\n",
    "##creating a compressed version of the feature df with no duplicates for parts\n",
    "\n",
    "labs_numstrokes=[]\n",
    "labs_total_arclength=[]\n",
    "for lab in np.unique(valid_labels):\n",
    "    labs_numstrokes.append(lab +'_numstrokes')\n",
    "    labs_total_arclength.append(lab+'_total_arclength')\n",
    "feature_df_labs=labs_numstrokes+labs_total_arclength   \n",
    "feature_df_final= pd.DataFrame(columns=feature_df_labs)\n",
    "\n",
    "\n",
    "for this_lab in feature_df_labs:\n",
    "    duplicates=[col for col in feature_df if col.startswith(this_lab)]\n",
    "    feature_df_final[this_lab]= feature_df[duplicates].sum(axis=1)\n",
    "feature_df = feature_df_final"
   ]
  },
  {
   "cell_type": "code",
   "execution_count": 54,
   "metadata": {},
   "outputs": [
    {
     "data": {
      "text/html": [
       "<div>\n",
       "<style scoped>\n",
       "    .dataframe tbody tr th:only-of-type {\n",
       "        vertical-align: middle;\n",
       "    }\n",
       "\n",
       "    .dataframe tbody tr th {\n",
       "        vertical-align: top;\n",
       "    }\n",
       "\n",
       "    .dataframe thead th {\n",
       "        text-align: right;\n",
       "    }\n",
       "</style>\n",
       "<table border=\"1\" class=\"dataframe\">\n",
       "  <thead>\n",
       "    <tr style=\"text-align: right;\">\n",
       "      <th></th>\n",
       "      <th>armrest_numstrokes</th>\n",
       "      <th>backrest_numstrokes</th>\n",
       "      <th>beak_numstrokes</th>\n",
       "      <th>body_numstrokes</th>\n",
       "      <th>bumper_numstrokes</th>\n",
       "      <th>door_numstrokes</th>\n",
       "      <th>ear_numstrokes</th>\n",
       "      <th>eye_numstrokes</th>\n",
       "      <th>feet_numstrokes</th>\n",
       "      <th>head_numstrokes</th>\n",
       "      <th>...</th>\n",
       "      <th>neck_total_arclength</th>\n",
       "      <th>paw_total_arclength</th>\n",
       "      <th>seat_total_arclength</th>\n",
       "      <th>tail_total_arclength</th>\n",
       "      <th>trunk_total_arclength</th>\n",
       "      <th>unknown_total_arclength</th>\n",
       "      <th>wheel_total_arclength</th>\n",
       "      <th>window_total_arclength</th>\n",
       "      <th>windshield_total_arclength</th>\n",
       "      <th>wing_total_arclength</th>\n",
       "    </tr>\n",
       "  </thead>\n",
       "  <tbody>\n",
       "    <tr>\n",
       "      <th>0</th>\n",
       "      <td>0</td>\n",
       "      <td>0</td>\n",
       "      <td>1</td>\n",
       "      <td>9</td>\n",
       "      <td>0</td>\n",
       "      <td>0</td>\n",
       "      <td>0</td>\n",
       "      <td>2</td>\n",
       "      <td>2</td>\n",
       "      <td>0</td>\n",
       "      <td>...</td>\n",
       "      <td>0</td>\n",
       "      <td>0</td>\n",
       "      <td>0</td>\n",
       "      <td>188</td>\n",
       "      <td>0</td>\n",
       "      <td>0</td>\n",
       "      <td>0</td>\n",
       "      <td>0</td>\n",
       "      <td>0</td>\n",
       "      <td>0</td>\n",
       "    </tr>\n",
       "    <tr>\n",
       "      <th>1</th>\n",
       "      <td>0</td>\n",
       "      <td>0</td>\n",
       "      <td>1</td>\n",
       "      <td>27</td>\n",
       "      <td>0</td>\n",
       "      <td>0</td>\n",
       "      <td>0</td>\n",
       "      <td>0</td>\n",
       "      <td>8</td>\n",
       "      <td>6</td>\n",
       "      <td>...</td>\n",
       "      <td>0</td>\n",
       "      <td>0</td>\n",
       "      <td>0</td>\n",
       "      <td>304</td>\n",
       "      <td>0</td>\n",
       "      <td>0</td>\n",
       "      <td>0</td>\n",
       "      <td>0</td>\n",
       "      <td>0</td>\n",
       "      <td>0</td>\n",
       "    </tr>\n",
       "    <tr>\n",
       "      <th>2</th>\n",
       "      <td>0</td>\n",
       "      <td>0</td>\n",
       "      <td>0</td>\n",
       "      <td>12</td>\n",
       "      <td>0</td>\n",
       "      <td>0</td>\n",
       "      <td>0</td>\n",
       "      <td>0</td>\n",
       "      <td>2</td>\n",
       "      <td>0</td>\n",
       "      <td>...</td>\n",
       "      <td>0</td>\n",
       "      <td>0</td>\n",
       "      <td>0</td>\n",
       "      <td>76</td>\n",
       "      <td>0</td>\n",
       "      <td>0</td>\n",
       "      <td>0</td>\n",
       "      <td>0</td>\n",
       "      <td>0</td>\n",
       "      <td>0</td>\n",
       "    </tr>\n",
       "    <tr>\n",
       "      <th>3</th>\n",
       "      <td>0</td>\n",
       "      <td>0</td>\n",
       "      <td>1</td>\n",
       "      <td>9</td>\n",
       "      <td>0</td>\n",
       "      <td>0</td>\n",
       "      <td>0</td>\n",
       "      <td>0</td>\n",
       "      <td>6</td>\n",
       "      <td>0</td>\n",
       "      <td>...</td>\n",
       "      <td>0</td>\n",
       "      <td>0</td>\n",
       "      <td>0</td>\n",
       "      <td>0</td>\n",
       "      <td>0</td>\n",
       "      <td>0</td>\n",
       "      <td>0</td>\n",
       "      <td>0</td>\n",
       "      <td>0</td>\n",
       "      <td>0</td>\n",
       "    </tr>\n",
       "    <tr>\n",
       "      <th>4</th>\n",
       "      <td>0</td>\n",
       "      <td>0</td>\n",
       "      <td>0</td>\n",
       "      <td>3</td>\n",
       "      <td>0</td>\n",
       "      <td>0</td>\n",
       "      <td>0</td>\n",
       "      <td>4</td>\n",
       "      <td>5</td>\n",
       "      <td>0</td>\n",
       "      <td>...</td>\n",
       "      <td>0</td>\n",
       "      <td>0</td>\n",
       "      <td>0</td>\n",
       "      <td>0</td>\n",
       "      <td>0</td>\n",
       "      <td>0</td>\n",
       "      <td>0</td>\n",
       "      <td>0</td>\n",
       "      <td>0</td>\n",
       "      <td>0</td>\n",
       "    </tr>\n",
       "  </tbody>\n",
       "</table>\n",
       "<p>5 rows × 48 columns</p>\n",
       "</div>"
      ],
      "text/plain": [
       "   armrest_numstrokes  backrest_numstrokes  beak_numstrokes  body_numstrokes  \\\n",
       "0                   0                    0                1                9   \n",
       "1                   0                    0                1               27   \n",
       "2                   0                    0                0               12   \n",
       "3                   0                    0                1                9   \n",
       "4                   0                    0                0                3   \n",
       "\n",
       "   bumper_numstrokes  door_numstrokes  ear_numstrokes  eye_numstrokes  \\\n",
       "0                  0                0               0               2   \n",
       "1                  0                0               0               0   \n",
       "2                  0                0               0               0   \n",
       "3                  0                0               0               0   \n",
       "4                  0                0               0               4   \n",
       "\n",
       "   feet_numstrokes  head_numstrokes          ...           \\\n",
       "0                2                0          ...            \n",
       "1                8                6          ...            \n",
       "2                2                0          ...            \n",
       "3                6                0          ...            \n",
       "4                5                0          ...            \n",
       "\n",
       "   neck_total_arclength  paw_total_arclength  seat_total_arclength  \\\n",
       "0                     0                    0                     0   \n",
       "1                     0                    0                     0   \n",
       "2                     0                    0                     0   \n",
       "3                     0                    0                     0   \n",
       "4                     0                    0                     0   \n",
       "\n",
       "   tail_total_arclength  trunk_total_arclength  unknown_total_arclength  \\\n",
       "0                   188                      0                        0   \n",
       "1                   304                      0                        0   \n",
       "2                    76                      0                        0   \n",
       "3                     0                      0                        0   \n",
       "4                     0                      0                        0   \n",
       "\n",
       "   wheel_total_arclength  window_total_arclength  windshield_total_arclength  \\\n",
       "0                      0                       0                           0   \n",
       "1                      0                       0                           0   \n",
       "2                      0                       0                           0   \n",
       "3                      0                       0                           0   \n",
       "4                      0                       0                           0   \n",
       "\n",
       "   wing_total_arclength  \n",
       "0                     0  \n",
       "1                     0  \n",
       "2                     0  \n",
       "3                     0  \n",
       "4                     0  \n",
       "\n",
       "[5 rows x 48 columns]"
      ]
     },
     "execution_count": 54,
     "metadata": {},
     "output_type": "execute_result"
    }
   ],
   "source": [
    "##Check to make sure the df looks okay\n",
    "assert len(feature_df.columns)==len(np.unique(feature_df.columns))\n",
    "feature_df.head()"
   ]
  },
  {
   "cell_type": "code",
   "execution_count": 55,
   "metadata": {},
   "outputs": [],
   "source": [
    "## sanity check: make sure that the numstrokes and arclength features each add up to 1\n",
    "numstrokes_cols = [i for i in feature_df.columns if i.split('_')[-1]=='numstrokes']\n",
    "arclength_cols = [i for i in feature_df.columns if i.split('_')[-1]=='arclength']\n",
    "feat_cols = numstrokes_cols + arclength_cols\n",
    "if dataset=='rawcounts':\n",
    "    assert len(np.unique(feature_df[arclength_cols].sum(axis=1).round(10)))==1\n",
    "    assert len(np.unique(feature_df[numstrokes_cols].sum(axis=1).round(10)))==1"
   ]
  },
  {
   "cell_type": "code",
   "execution_count": 56,
   "metadata": {},
   "outputs": [
    {
     "name": "stdout",
     "output_type": "stream",
     "text": [
      "Applied whitening to raw feature matrix.\n"
     ]
    }
   ],
   "source": [
    "## normalize feature_df (apply whitening)? \n",
    "## Warning, this will make it so numstrokes and arclength features DO NOT add up to 1\n",
    "whitening = True\n",
    "if whitening:\n",
    "    feature_df = normalize(feature_df)\n",
    "    print 'Applied whitening to raw feature matrix.'\n",
    "else:\n",
    "    print 'Did not apply whitening to raw feature matrix.'"
   ]
  },
  {
   "cell_type": "code",
   "execution_count": 57,
   "metadata": {},
   "outputs": [],
   "source": [
    "## concatenate meta and features to enable easy subsetting of dataframe\n",
    "F = pd.concat((meta_df,feature_df),axis=1)\n",
    "\n",
    "## add category to F dataframe so we can subset on that later\n",
    "F['category'] = F['target'].apply(lambda x: OBJECT_TO_CATEGORY[x])\n",
    "\n",
    "\n",
    "# hacky way of guarding against accidentally over-writing F, have a copy here called F0\n",
    "F0 = F"
   ]
  },
  {
   "cell_type": "code",
   "execution_count": null,
   "metadata": {},
   "outputs": [],
   "source": []
  },
  {
   "cell_type": "code",
   "execution_count": 59,
   "metadata": {},
   "outputs": [],
   "source": [
    "## aggregate by target and condition and take the mean across rows within each group\n",
    "F2 = F.groupby(['target','condition']).mean().reset_index()\n",
    "F2['category'] = F2['target'].apply(lambda x: OBJECT_TO_CATEGORY[x])\n",
    "## get ordered list of all objects\n",
    "obj_list = np.unique(F.target.values)"
   ]
  },
  {
   "cell_type": "code",
   "execution_count": 60,
   "metadata": {},
   "outputs": [],
   "source": [
    "ordered_obj_list = ordered_objs = get_ordered_objs_list_by_category(F2)"
   ]
  },
  {
   "cell_type": "markdown",
   "metadata": {},
   "source": [
    "### Feature vector correlation"
   ]
  },
  {
   "cell_type": "code",
   "execution_count": 180,
   "metadata": {},
   "outputs": [
    {
     "data": {
      "text/plain": [
       "<Figure size 576x576 with 0 Axes>"
      ]
     },
     "metadata": {},
     "output_type": "display_data"
    },
    {
     "data": {
      "image/png": "[encoded data removed]",
      "text/plain": [
       "<Figure size 576x576 with 2 Axes>"
      ]
     },
     "metadata": {},
     "output_type": "display_data"
    }
   ],
   "source": [
    "##Empirical matrix\n",
    "c_means=[]\n",
    "f_means=[]\n",
    "\n",
    "for this_obj in ordered_objs:\n",
    "    c_obj,f_obj,c_obj_list,f_obj_list = subset_dataframe_by_condition(F0,to_inspect='object', this_object=this_obj )\n",
    "    c_mean = np.array(c_obj.mean())\n",
    "    c_means.append(c_mean)\n",
    "    f_mean = np.array(f_obj.mean())\n",
    "    f_means.append(f_mean)\n",
    "    \n",
    "# c_means = np.apply_along_axis(softmax,1,np.vstack(c_means))  \n",
    "# f_means = np.apply_along_axis(softmax,1,np.vstack(f_means))  \n",
    "all_means = np.vstack((c_means,f_means))\n",
    "#dmat = pdist(all_sample_means, 'correlation')\n",
    "#dmat = squareform(dmat)\n",
    "dmat = np.corrcoef(all_means)\n",
    "plt.rcParams[\"axes.grid\"] = False\n",
    "\n",
    "plt.figure(figsize(8,8))\n",
    "plt.matshow(dmat, cmap=plt.cm.Spectral,vmin=-1.,vmax=1.)\n",
    "plt.colorbar(fraction=0.045)\n",
    "#t = plt.xticks(range(len(ordered_objs)*2), close_far_labels, fontsize=10,rotation='vertical')\n",
    "#t = plt.yticks(range(len(ordered_objs)*2), close_far_labels, fontsize=10)\n",
    "plt.xticks([])\n",
    "plt.yticks([])\n",
    "plt.xlabel('bird car chair dog bird car chair dog\\n  close                      far    ',\\\n",
    "          fontsize=25)\n",
    "plt.ylabel('    far                     close\\ndog chair car bird dog chair car bird',\\\n",
    "          fontsize=25)\n",
    "plt.tick_params(axis='x',bottom=False,top=False,labelbottom=False)\n",
    "plt.tick_params(axis='x',bottom=False,top=False,labelbottom=False)"
   ]
  },
  {
   "cell_type": "code",
   "execution_count": null,
   "metadata": {},
   "outputs": [],
   "source": []
  },
  {
   "cell_type": "markdown",
   "metadata": {},
   "source": [
    "### Bootstrapping for CI"
   ]
  },
  {
   "cell_type": "code",
   "execution_count": 106,
   "metadata": {},
   "outputs": [],
   "source": [
    "mean_close_dists = []\n",
    "mean_far_dists = []\n",
    "mean_within_dists = []\n",
    "mean_between_dists = []\n",
    "cf_mean_diff = []\n",
    "wb_mean_diff=[]\n",
    "num_iters = 1000 #Temporary low sampling number"
   ]
  },
  {
   "cell_type": "code",
   "execution_count": 107,
   "metadata": {},
   "outputs": [],
   "source": [
    "for i in range(num_iters):\n",
    "    c_sample_means=[]\n",
    "    f_sample_means=[]\n",
    "\n",
    "    for this_obj in ordered_objs:\n",
    "        c_obj,f_obj,c_obj_list,f_obj_list = subset_dataframe_by_condition(F0,to_inspect='object', this_object=this_obj )\n",
    "        c_indices = np.random.choice(c_obj.shape[0],size=c_obj.shape[0],replace=True) #sample with replacement\n",
    "        c_sample = c_obj.iloc[c_indices]\n",
    "        c_sample.reset_index(drop=True)\n",
    "        f_indices= np.random.choice(f_obj.shape[0],size=f_obj.shape[0],replace=True) #sample with replacement\n",
    "        f_sample =f_obj.iloc[f_indices]\n",
    "        f_sample.reset_index(drop=True)\n",
    "\n",
    "\n",
    "        c_mean = np.array(c_sample.mean())\n",
    "        c_sample_means.append(c_mean)\n",
    "        f_mean = np.array(f_sample.mean())\n",
    "        f_sample_means.append(f_mean)\n",
    "\n",
    "#     c_sample_means = np.apply_along_axis(softmax,1,np.vstack(c_sample_means))  \n",
    "#     f_sample_means = np.apply_along_axis(softmax,1,np.vstack(f_sample_means))  \n",
    "    c_sample_means = np.apply_along_axis(minmaxscale,1,np.vstack(c_sample_means))  \n",
    "    f_sample_means = np.apply_along_axis(minmaxscale,1,np.vstack(f_sample_means))  \n",
    "    all_sample_means = np.vstack((c_sample_means,f_sample_means))\n",
    "    #dmat = pdist(all_sample_means, 'correlation')\n",
    "    #dmat = squareform(dmat)\n",
    "    dmat = np.corrcoef(all_sample_means)\n",
    "    # plt.rcParams[\"axes.grid\"] = False\n",
    "    # plt.figure(figsize(8,8))\n",
    "    # plt.matshow(dmat, cmap=plt.cm.Spectral,vmin=-1.,vmax=1.)\n",
    "    # plt.colorbar(fraction=0.05)\n",
    "    # t = plt.xticks(range(len(ordered_objs)*2), close_far_labels, fontsize=10,rotation='vertical')\n",
    "    # t = plt.yticks(range(len(ordered_objs)*2), close_far_labels, fontsize=10)\n",
    "    # plt.tick_params(axis='x',bottom=False,top=False,labelbottom=False)\n",
    "\n",
    "    half_dim = int(dmat.shape[0]/2)\n",
    "    cf_dmat= dmat[:half_dim,half_dim:]\n",
    "    cc_dmat = dmat[:half_dim,:half_dim]\n",
    "    ff_dmat = dmat[half_dim:,half_dim:]\n",
    "\n",
    "    cat_dim = half_dim/4\n",
    "    close_dists = []\n",
    "    far_dists = []\n",
    "    within_dists = []\n",
    "    between_dists = []\n",
    "    for catnum in range(len(unique_cats)):\n",
    "        start_ind = int(cat_dim*catnum)\n",
    "        end_ind = int(cat_dim*(catnum+1))\n",
    "        f_cat_dmat = ff_dmat[start_ind:end_ind,start_ind:end_ind]\n",
    "        c_cat_dmat = cc_dmat[start_ind:end_ind,start_ind:end_ind]\n",
    "        cf_cat_dmat = cf_dmat[start_ind:end_ind,start_ind:end_ind]\n",
    "\n",
    "        triu_inds = np.triu_indices(cat_dim,k=1)\n",
    "        c_cat_dist = np.mean(c_cat_dmat[triu_inds])\n",
    "        f_cat_dist = np.mean(f_cat_dmat[triu_inds])\n",
    "        close_dists.append(c_cat_dist)\n",
    "        far_dists.append(f_cat_dist)\n",
    "        \n",
    "         \n",
    "        within_dists.append(np.mean(np.diag(cf_cat_dmat)))\n",
    "        od_inds = np.where(~np.eye(cf_cat_dmat.shape[0],dtype=bool))\n",
    "        between_dists.append(np.mean(cf_cat_dmat[od_inds]))\n",
    "        \n",
    "    mean_close_dists.append(np.mean(close_dists))\n",
    "    mean_far_dists.append(np.mean(far_dists))\n",
    "    cf_mean_diff.append(np.mean(far_dists)-np.mean(close_dists))\n",
    "    mean_within_dists.append(np.mean(within_dists))\n",
    "    mean_between_dists.append(np.mean(between_dists))\n",
    "    wb_mean_diff.append(np.mean(within_dists)-np.mean(between_dists))\n",
    "                            \n",
    "                             "
   ]
  },
  {
   "cell_type": "code",
   "execution_count": 108,
   "metadata": {},
   "outputs": [
    {
     "data": {
      "text/plain": [
       "12"
      ]
     },
     "execution_count": 108,
     "metadata": {},
     "output_type": "execute_result"
    }
   ],
   "source": [
    "c_obj.shape[0]"
   ]
  },
  {
   "cell_type": "code",
   "execution_count": 109,
   "metadata": {},
   "outputs": [
    {
     "data": {
      "text/plain": [
       "0.004"
      ]
     },
     "execution_count": 109,
     "metadata": {},
     "output_type": "execute_result"
    }
   ],
   "source": [
    "sum(np.array(cf_mean_diff)<0)/len(cf_mean_diff)*2"
   ]
  },
  {
   "cell_type": "code",
   "execution_count": 110,
   "metadata": {},
   "outputs": [
    {
     "data": {
      "text/plain": [
       "1000"
      ]
     },
     "execution_count": 110,
     "metadata": {},
     "output_type": "execute_result"
    }
   ],
   "source": [
    "len(cf_mean_diff)"
   ]
  },
  {
   "cell_type": "code",
   "execution_count": 97,
   "metadata": {},
   "outputs": [
    {
     "data": {
      "text/plain": [
       "0.0"
      ]
     },
     "execution_count": 97,
     "metadata": {},
     "output_type": "execute_result"
    }
   ],
   "source": [
    "sum(np.array(wb_mean_diff)<0)/len(wb_mean_diff)*2"
   ]
  },
  {
   "cell_type": "code",
   "execution_count": null,
   "metadata": {},
   "outputs": [],
   "source": []
  },
  {
   "cell_type": "code",
   "execution_count": 112,
   "metadata": {},
   "outputs": [],
   "source": [
    "y_vals = [np.array(mean_close_dists).mean(),np.array(mean_far_dists).mean()]\n",
    "spreadclose= np.percentile(mean_close_dists, 2.5),np.percentile(mean_close_dists, 97.5)\n",
    "spreadfar = np.percentile(mean_far_dists,2.5),np.percentile(mean_far_dists, 97.5)\n",
    "lower_err = np.array(mean_far_dists).mean()-spreadfar[0],np.array(mean_close_dists).mean()-spreadclose[0]\n",
    "upper_err = spreadfar[1]-np.array(mean_far_dists).mean(),spreadclose[1]-np.array(mean_close_dists).mean()\n",
    "\n",
    "errs= np.vstack((lower_err, upper_err))\n"
   ]
  },
  {
   "cell_type": "code",
   "execution_count": 113,
   "metadata": {},
   "outputs": [
    {
     "data": {
      "text/plain": [
       "([<matplotlib.axis.XTick at 0x11e603c10>,\n",
       "  <matplotlib.axis.XTick at 0x11e6031d0>],\n",
       " <a list of 2 Text xticklabel objects>)"
      ]
     },
     "execution_count": 113,
     "metadata": {},
     "output_type": "execute_result"
    },
    {
     "data": {
      "image/png": "[encoded data removed]",
      "text/plain": [
       "<Figure size 288x576 with 1 Axes>"
      ]
     },
     "metadata": {},
     "output_type": "display_data"
    }
   ],
   "source": [
    "y_pos = np.arange(2)\n",
    "fig = plt.figure(figsize=(4,8))\n",
    "sns.set_context('poster')\n",
    "colors = sns.color_palette('tab20c')\n",
    "color_list = [colors[4],colors[6]]\n",
    "plt.bar(y_pos,y_vals, yerr=errs,  width= 0.8, capsize=0,color=color_list)\n",
    "plt.ylim((0.,1.))\n",
    "plt.xlim((-0.5,1.5))\n",
    "plt.ylabel('correlation')\n",
    "plt.xticks(y_pos,['close','far'])\n",
    "#plt.savefig(os.path.join(plot_dir,'close_far_dispersion.pdf'))"
   ]
  },
  {
   "cell_type": "code",
   "execution_count": 195,
   "metadata": {},
   "outputs": [],
   "source": [
    "spreaddiff= np.percentile(cf_mean_diff,2.5),np.percentile(cf_mean_diff,97.5)\n",
    "lower_err = np.array(cf_mean_diff).mean()-spreaddiff[0]\n",
    "upper_err = spreaddiff[1]-np.array(cf_mean_diff).mean()\n",
    "differrs = np.vstack((lower_err, upper_err))"
   ]
  },
  {
   "cell_type": "code",
   "execution_count": null,
   "metadata": {},
   "outputs": [],
   "source": []
  },
  {
   "cell_type": "code",
   "execution_count": 196,
   "metadata": {},
   "outputs": [
    {
     "data": {
      "text/plain": [
       "Text(0,0.5,'close-far difference')"
      ]
     },
     "execution_count": 196,
     "metadata": {},
     "output_type": "execute_result"
    },
    {
     "data": {
      "image/png": "[encoded data removed]",
      "text/plain": [
       "<Figure size 144x576 with 1 Axes>"
      ]
     },
     "metadata": {},
     "output_type": "display_data"
    }
   ],
   "source": [
    "y_pos = 1\n",
    "fig = plt.figure(figsize=(2,8))\n",
    "plt.bar(y_pos,np.mean(cf_mean_diff), yerr= differrs, width= 0.5,capsize=0)\n",
    "plt.ylim((0,0.4))\n",
    "plt.xlim(0.5, 1.5)\n",
    "plt.xticks([])\n",
    "plt.ylabel('close-far difference')"
   ]
  },
  {
   "cell_type": "code",
   "execution_count": 197,
   "metadata": {},
   "outputs": [
    {
     "name": "stdout",
     "output_type": "stream",
     "text": [
      "[0.7300771100819395, 0.6419179165124841]\n",
      "[[0.0305258  0.02734046]\n",
      " [0.03168381 0.02648351]]\n"
     ]
    },
    {
     "data": {
      "image/png": "[encoded data removed]",
      "text/plain": [
       "<Figure size 360x576 with 1 Axes>"
      ]
     },
     "metadata": {},
     "output_type": "display_data"
    }
   ],
   "source": [
    "spreadwithin= np.percentile(mean_within_dists, 2.5),np.percentile(mean_within_dists, 97.5)\n",
    "spreadbetween = np.percentile(mean_between_dists,2.5),np.percentile(mean_between_dists, 97.5)\n",
    "\n",
    "lower_err = np.array(mean_within_dists).mean()-spreadwithin[0],np.array(mean_between_dists).mean()-spreadbetween[0]\n",
    "upper_err = spreadwithin[1]-np.array(mean_within_dists).mean(),spreadbetween[1]-np.array(mean_between_dists).mean()\n",
    "\n",
    "errs= np.vstack((lower_err, upper_err))\n",
    "\n",
    "fig = plt.figure(figsize=(5,8))\n",
    "sns.set_context('poster')\n",
    "colors = sns.color_palette('tab20c')\n",
    "color_list = [colors[4],colors[6]]\n",
    "y_vals = [np.array(mean_within_dists).mean(),np.array(mean_between_dists).mean()]\n",
    "print y_vals\n",
    "print errs\n",
    "y_pos = np.arange(2)\n",
    "plt.bar(y_pos,y_vals, yerr= errs,  width= 0.8, capsize=0,color=color_list)\n",
    "plt.ylim((0,1))\n",
    "plt.xlim((-0.5,1.5))\n",
    "plt.ylabel('correlation')\n",
    "plt.xticks(y_pos,['within \\nobject','between \\nobjects'])\n",
    "plt.tight_layout()\n",
    "#plt.savefig(os.path.join(plot_dir,'within_object_btw_context_similarity.pdf'))\n"
   ]
  },
  {
   "cell_type": "code",
   "execution_count": null,
   "metadata": {},
   "outputs": [],
   "source": [
    "spreaddiff= np.percentile(wb_mean_diff,2.5),np.percentile(wb_mean_diff,97.5)\n",
    "lower_err = np.array(wb_mean_diff).mean()-spreaddiff[0]\n",
    "upper_err = spreaddiff[1]-np.array(wb_mean_diff).mean()\n",
    "differrs = np.vstack((lower_err, upper_err))\n",
    "\n",
    "y_pos = 1\n",
    "plt.bar(y_pos,np.mean(wb_mean_diff), yerr= differrs, width= 0.5,capsize=20)\n",
    "plt.ylim((0,0.5))\n",
    "plt.xlim(0, 2)\n",
    "plt.xticks([])\n",
    "plt.ylabel('Within-between difference')"
   ]
  },
  {
   "cell_type": "code",
   "execution_count": null,
   "metadata": {},
   "outputs": [],
   "source": []
  },
  {
   "cell_type": "code",
   "execution_count": null,
   "metadata": {},
   "outputs": [],
   "source": [
    "###get empirical sparsity difference for close and far\n",
    "##Get close and far vectors:\n",
    "co,fa,obc,obf = subset_dataframe_by_condition(F2,to_inspect='all')\n",
    "cs = [] #close sparsity\n",
    "fs = [] #far sparsity\n",
    "\n",
    "cs = co.apply(get_sparsity, axis = 1)\n",
    "fs = fa.apply(get_sparsity, axis = 1)\n",
    "\n",
    "print 'difference in sparsity between close and far = {}'.format(np.mean(cs.values) -  np.mean(fs.values))"
   ]
  },
  {
   "cell_type": "markdown",
   "metadata": {},
   "source": [
    "\n",
    "close  0.3460397682282061              far  0.2769144895890592"
   ]
  },
  {
   "cell_type": "code",
   "execution_count": null,
   "metadata": {},
   "outputs": [],
   "source": [
    "### bootstrap resample to get 95% CIs \n",
    "nIter = 5000\n",
    "sdiff=[]\n",
    "for currIter in np.arange(nIter):\n",
    "    print 'Running bootstrap iteration {} of {}'.format(currIter+1,nIter)\n",
    "    clear_output(wait=True)\n",
    "    Fboot = resample_sketches(F0,random_state=currIter)\n",
    "    F2boot = aggregate_sketches(Fboot,OBJECT_TO_CATEGORY=OBJECT_TO_CATEGORY)\n",
    "    c_boot,f_boot,obc,obf = subset_dataframe_by_condition(F2boot,to_inspect='all')\n",
    "       \n",
    "    csboot = c_boot.apply(get_sparsity,axis=1)\n",
    "    fsboot = f_boot.apply(get_sparsity,axis=1)\n",
    "    sdiff.append(np.mean(csboot.values)-np.mean(fsboot.values))"
   ]
  },
  {
   "cell_type": "code",
   "execution_count": null,
   "metadata": {},
   "outputs": [],
   "source": [
    "print np.mean(sdiff),np.percentile(sdiff,2.5), np.percentile(sdiff,97.5)"
   ]
  },
  {
   "cell_type": "code",
   "execution_count": null,
   "metadata": {},
   "outputs": [],
   "source": [
    "sdiffdf = pd.DataFrame(sdiff)\n",
    "sdiffdf.columns=['sparsity']"
   ]
  },
  {
   "cell_type": "code",
   "execution_count": null,
   "metadata": {},
   "outputs": [],
   "source": [
    "colors = sns.color_palette('tab20c')\n",
    "sns.set_context('poster')\n",
    "fig = plt.figure(figsize=(4,8))\n",
    "mu = np.mean(sdiff)\n",
    "lb = np.percentile(sdiff,2.5)\n",
    "ub = np.percentile(sdiff,97.5)\n",
    "plt.bar(0,mu,color=colors[4],width=0.3)\n",
    "plt.errorbar(0,mu,\n",
    "             yerr=np.vstack((mu-lb,ub-mu)),\n",
    "             color='black',elinewidth=3)\n",
    "wid = 0.3\n",
    "plt.xlim(-wid,wid)\n",
    "plt.ylim(0,1.)\n",
    "plt.ylabel('vector sparsity difference',fontsize=22)\n",
    "plt.xlabel(' ')\n",
    "plt.xticks([])\n",
    "plt.tight_layout()\n",
    "#plt.savefig(os.path.join(plot_dir,'difference_vector_sparsity.pdf'))"
   ]
  },
  {
   "cell_type": "code",
   "execution_count": null,
   "metadata": {},
   "outputs": [],
   "source": [
    "np.mean(sdiff).round(3)"
   ]
  },
  {
   "cell_type": "code",
   "execution_count": null,
   "metadata": {},
   "outputs": [],
   "source": [
    "print lb,ub"
   ]
  },
  {
   "cell_type": "markdown",
   "metadata": {},
   "source": [
    "### Apply PCA and visualize MDS plot"
   ]
  },
  {
   "cell_type": "code",
   "execution_count": null,
   "metadata": {},
   "outputs": [],
   "source": [
    "## aggregate by target and condition and take the mean across rows within each group\n",
    "F2 = F.groupby(['target','condition']).mean().reset_index()\n",
    "\n",
    "## re-add category back to the F dataframe so we can subset on that later \n",
    "##( taking mean above removes it b/c it is a string)\n",
    "F2['category'] = F2['target'].apply(lambda x: OBJECT_TO_CATEGORY[x])\n",
    "\n",
    "## sort into standard order\n",
    "F2 = F2.sort_values(['condition','category','target']).reset_index(drop=True)\n",
    "\n",
    "## extract just the feature columns and store as np array\n",
    "PF = np.array(F2[feat_cols])\n",
    "## do the same for the meta\n",
    "PM = F2.loc[:,['condition','category','target']]\n",
    "\n",
    "# optionally apply PCA\n",
    "apply_pca = True\n",
    "num_pcs = 3\n",
    "if apply_pca:\n",
    "    from sklearn.decomposition import PCA\n",
    "    pca = PCA(n_components=num_pcs)\n",
    "    pca.fit(PF)\n",
    "    print('Applying PCA and transforming data, using {} components'.format(num_pcs))\n",
    "    PF = pca.fit_transform(PF)\n",
    "\n",
    "PF = pd.DataFrame(PF)    \n",
    "\n",
    "## join into single dataframe for plotting\n",
    "P = pd.concat([PF,PM],axis=1)"
   ]
  },
  {
   "cell_type": "code",
   "execution_count": null,
   "metadata": {},
   "outputs": [],
   "source": []
  },
  {
   "cell_type": "code",
   "execution_count": null,
   "metadata": {},
   "outputs": [],
   "source": [
    "sns.set_style('white')\n",
    "sns.set_context('talk')\n",
    "colors = sns.color_palette(\"husl\", 5)\n",
    "sns.scatterplot(data=P,\n",
    "                x=0,\n",
    "                y=1,\n",
    "                hue='category',\n",
    "                style='condition',\n",
    "                palette=colors[:4])\n",
    "plt.xlabel(' ')\n",
    "plt.ylabel(' ')\n",
    "axlim =  7\n",
    "plt.xlim(-axlim,axlim)\n",
    "# plt.xticks(np.arange(-axlim,axlim), 1.)\n",
    "plt.ylim(-axlim,axlim)\n",
    "plt.legend(bbox_to_anchor=(1.,1.))\n",
    "plt.tick_params(axis='both', which='major', labelsize=20)\n",
    "plt.tight_layout()\n",
    "#plt.savefig(os.path.join(plot_dir,'MDS_part_vectors.pdf'))"
   ]
  },
  {
   "cell_type": "markdown",
   "metadata": {},
   "source": [
    "#### Some exploratory stuff\n"
   ]
  },
  {
   "cell_type": "code",
   "execution_count": 229,
   "metadata": {},
   "outputs": [],
   "source": [
    "CI= {    \n",
    "'arc_length':}\n",
    "        "
   ]
  },
  {
   "cell_type": "code",
   "execution_count": 240,
   "metadata": {},
   "outputs": [],
   "source": [
    "aggs = {'arc_length':{\n",
    "    \n",
    "    'Mean':'mean',\n",
    "    'Std Dev':'std',\n",
    "    '95CI': lambda x:([np.percentile([np.random.choice(x,size=len(x),replace=True)]*1000,[2.5,97.5])])\n",
    "}\n",
    "}\n",
    "\n",
    "\n",
    "#'95CI':lambda x:([np.percentile([np.random.choice(x,size=len(x),replace=True)]*1000,[2.5,97.5])])\n"
   ]
  },
  {
   "cell_type": "code",
   "execution_count": 245,
   "metadata": {},
   "outputs": [
    {
     "data": {
      "text/html": [
       "<div>\n",
       "<style scoped>\n",
       "    .dataframe tbody tr th:only-of-type {\n",
       "        vertical-align: middle;\n",
       "    }\n",
       "\n",
       "    .dataframe tbody tr th {\n",
       "        vertical-align: top;\n",
       "    }\n",
       "\n",
       "    .dataframe thead tr th {\n",
       "        text-align: left;\n",
       "    }\n",
       "\n",
       "    .dataframe thead tr:last-of-type th {\n",
       "        text-align: right;\n",
       "    }\n",
       "</style>\n",
       "<table border=\"1\" class=\"dataframe\">\n",
       "  <thead>\n",
       "    <tr>\n",
       "      <th></th>\n",
       "      <th></th>\n",
       "      <th colspan=\"3\" halign=\"left\">arc_length</th>\n",
       "    </tr>\n",
       "    <tr>\n",
       "      <th></th>\n",
       "      <th></th>\n",
       "      <th>Std Dev</th>\n",
       "      <th>95CI</th>\n",
       "      <th>Mean</th>\n",
       "    </tr>\n",
       "    <tr>\n",
       "      <th>label</th>\n",
       "      <th>condition</th>\n",
       "      <th></th>\n",
       "      <th></th>\n",
       "      <th></th>\n",
       "    </tr>\n",
       "  </thead>\n",
       "  <tbody>\n",
       "    <tr>\n",
       "      <th rowspan=\"2\" valign=\"top\">armrest</th>\n",
       "      <th>closer</th>\n",
       "      <td>84.390212</td>\n",
       "      <td>[[19.514318892483995, 324.80863006812365]]</td>\n",
       "      <td>110.961529</td>\n",
       "    </tr>\n",
       "    <tr>\n",
       "      <th>further</th>\n",
       "      <td>102.476368</td>\n",
       "      <td>[[20.34832507397377, 313.5234070697127]]</td>\n",
       "      <td>127.304610</td>\n",
       "    </tr>\n",
       "    <tr>\n",
       "      <th rowspan=\"2\" valign=\"top\">backrest</th>\n",
       "      <th>closer</th>\n",
       "      <td>120.855102</td>\n",
       "      <td>[[15.162856659454084, 467.95325872997245]]</td>\n",
       "      <td>121.788262</td>\n",
       "    </tr>\n",
       "    <tr>\n",
       "      <th>further</th>\n",
       "      <td>116.468438</td>\n",
       "      <td>[[18.301421813444165, 433.1793977774056]]</td>\n",
       "      <td>127.392468</td>\n",
       "    </tr>\n",
       "    <tr>\n",
       "      <th rowspan=\"2\" valign=\"top\">beak</th>\n",
       "      <th>closer</th>\n",
       "      <td>37.782410</td>\n",
       "      <td>[[5.122334142050288, 168.04202309514494]]</td>\n",
       "      <td>46.511918</td>\n",
       "    </tr>\n",
       "    <tr>\n",
       "      <th>further</th>\n",
       "      <td>25.963564</td>\n",
       "      <td>[[9.723855591336479, 80.18954720235419]]</td>\n",
       "      <td>43.945144</td>\n",
       "    </tr>\n",
       "    <tr>\n",
       "      <th rowspan=\"2\" valign=\"top\">body</th>\n",
       "      <th>closer</th>\n",
       "      <td>155.158880</td>\n",
       "      <td>[[7.55546628663157, 584.5421953815313]]</td>\n",
       "      <td>169.519502</td>\n",
       "    </tr>\n",
       "    <tr>\n",
       "      <th>further</th>\n",
       "      <td>189.184354</td>\n",
       "      <td>[[13.640528454855911, 684.5651994574013]]</td>\n",
       "      <td>233.082581</td>\n",
       "    </tr>\n",
       "    <tr>\n",
       "      <th rowspan=\"2\" valign=\"top\">bumper</th>\n",
       "      <th>closer</th>\n",
       "      <td>66.978042</td>\n",
       "      <td>[[25.093047447383384, 415.00895179368314]]</td>\n",
       "      <td>82.023038</td>\n",
       "    </tr>\n",
       "    <tr>\n",
       "      <th>further</th>\n",
       "      <td>51.492537</td>\n",
       "      <td>[[21.110487441076632, 201.94130618707905]]</td>\n",
       "      <td>78.722257</td>\n",
       "    </tr>\n",
       "    <tr>\n",
       "      <th rowspan=\"2\" valign=\"top\">door</th>\n",
       "      <th>closer</th>\n",
       "      <td>69.410053</td>\n",
       "      <td>[[13.681415209027751, 299.56270792984]]</td>\n",
       "      <td>62.185550</td>\n",
       "    </tr>\n",
       "    <tr>\n",
       "      <th>further</th>\n",
       "      <td>41.903807</td>\n",
       "      <td>[[6.775971526438955, 180.23486364069453]]</td>\n",
       "      <td>61.248565</td>\n",
       "    </tr>\n",
       "    <tr>\n",
       "      <th rowspan=\"2\" valign=\"top\">ear</th>\n",
       "      <th>closer</th>\n",
       "      <td>72.747832</td>\n",
       "      <td>[[14.119227813879261, 207.219864493095]]</td>\n",
       "      <td>84.655303</td>\n",
       "    </tr>\n",
       "    <tr>\n",
       "      <th>further</th>\n",
       "      <td>60.338511</td>\n",
       "      <td>[[11.103043102422927, 281.5482208439029]]</td>\n",
       "      <td>72.859282</td>\n",
       "    </tr>\n",
       "    <tr>\n",
       "      <th rowspan=\"2\" valign=\"top\">eye</th>\n",
       "      <th>closer</th>\n",
       "      <td>28.588517</td>\n",
       "      <td>[[1.9999999999999998, 87.44523957993039]]</td>\n",
       "      <td>29.304449</td>\n",
       "    </tr>\n",
       "    <tr>\n",
       "      <th>further</th>\n",
       "      <td>38.612850</td>\n",
       "      <td>[[1.4142135623730951, 71.01196242930823]]</td>\n",
       "      <td>23.077002</td>\n",
       "    </tr>\n",
       "    <tr>\n",
       "      <th rowspan=\"2\" valign=\"top\">feet</th>\n",
       "      <th>closer</th>\n",
       "      <td>38.395349</td>\n",
       "      <td>[[4.158308174450911, 147.90226185164715]]</td>\n",
       "      <td>35.516255</td>\n",
       "    </tr>\n",
       "    <tr>\n",
       "      <th>further</th>\n",
       "      <td>50.391790</td>\n",
       "      <td>[[6.863261506745853, 138.7535451746336]]</td>\n",
       "      <td>36.456820</td>\n",
       "    </tr>\n",
       "    <tr>\n",
       "      <th rowspan=\"2\" valign=\"top\">head</th>\n",
       "      <th>closer</th>\n",
       "      <td>159.824085</td>\n",
       "      <td>[[11.694292620233727, 722.6436501131542]]</td>\n",
       "      <td>148.987554</td>\n",
       "    </tr>\n",
       "    <tr>\n",
       "      <th>further</th>\n",
       "      <td>100.905460</td>\n",
       "      <td>[[8.080914668986912, 374.82081430588545]]</td>\n",
       "      <td>135.803514</td>\n",
       "    </tr>\n",
       "    <tr>\n",
       "      <th rowspan=\"2\" valign=\"top\">headlight</th>\n",
       "      <th>closer</th>\n",
       "      <td>30.525976</td>\n",
       "      <td>[[5.883469229394615, 146.9427876754268]]</td>\n",
       "      <td>47.826851</td>\n",
       "    </tr>\n",
       "    <tr>\n",
       "      <th>further</th>\n",
       "      <td>27.975179</td>\n",
       "      <td>[[7.0, 97.43781433557902]]</td>\n",
       "      <td>41.426044</td>\n",
       "    </tr>\n",
       "    <tr>\n",
       "      <th rowspan=\"2\" valign=\"top\">hood</th>\n",
       "      <th>closer</th>\n",
       "      <td>107.121591</td>\n",
       "      <td>[[16.000000000000004, 192.42879506698307]]</td>\n",
       "      <td>83.845570</td>\n",
       "    </tr>\n",
       "    <tr>\n",
       "      <th>further</th>\n",
       "      <td>72.114757</td>\n",
       "      <td>[[20.03866038930878, 277.7540912975479]]</td>\n",
       "      <td>117.614684</td>\n",
       "    </tr>\n",
       "    <tr>\n",
       "      <th rowspan=\"2\" valign=\"top\">leg</th>\n",
       "      <th>closer</th>\n",
       "      <td>183.644451</td>\n",
       "      <td>[[15.821264956244498, 836.1434154268688]]</td>\n",
       "      <td>136.308756</td>\n",
       "    </tr>\n",
       "    <tr>\n",
       "      <th>further</th>\n",
       "      <td>201.807784</td>\n",
       "      <td>[[18.03339521745877, 814.1849452773008]]</td>\n",
       "      <td>129.834429</td>\n",
       "    </tr>\n",
       "    <tr>\n",
       "      <th rowspan=\"2\" valign=\"top\">mouth</th>\n",
       "      <th>closer</th>\n",
       "      <td>129.863875</td>\n",
       "      <td>[[5.140652840190861, 429.07817929811586]]</td>\n",
       "      <td>118.352837</td>\n",
       "    </tr>\n",
       "    <tr>\n",
       "      <th>further</th>\n",
       "      <td>45.230593</td>\n",
       "      <td>[[4.562524890802269, 174.22355030904686]]</td>\n",
       "      <td>53.734017</td>\n",
       "    </tr>\n",
       "    <tr>\n",
       "      <th rowspan=\"2\" valign=\"top\">neck</th>\n",
       "      <th>closer</th>\n",
       "      <td>151.133732</td>\n",
       "      <td>[[4.0, 393.641000267893]]</td>\n",
       "      <td>86.617215</td>\n",
       "    </tr>\n",
       "    <tr>\n",
       "      <th>further</th>\n",
       "      <td>35.415617</td>\n",
       "      <td>[[60.412007979888514, 100.12459475497019]]</td>\n",
       "      <td>63.337132</td>\n",
       "    </tr>\n",
       "    <tr>\n",
       "      <th rowspan=\"2\" valign=\"top\">paw</th>\n",
       "      <th>closer</th>\n",
       "      <td>192.030879</td>\n",
       "      <td>[[12.789533865203232, 52.13910899147601]]</td>\n",
       "      <td>99.014745</td>\n",
       "    </tr>\n",
       "    <tr>\n",
       "      <th>further</th>\n",
       "      <td>18.318712</td>\n",
       "      <td>[[44.57783360254838, 77.58953885198389]]</td>\n",
       "      <td>67.303655</td>\n",
       "    </tr>\n",
       "    <tr>\n",
       "      <th rowspan=\"2\" valign=\"top\">seat</th>\n",
       "      <th>closer</th>\n",
       "      <td>135.476726</td>\n",
       "      <td>[[15.038164957293269, 434.7076810681779]]</td>\n",
       "      <td>160.852363</td>\n",
       "    </tr>\n",
       "    <tr>\n",
       "      <th>further</th>\n",
       "      <td>130.878166</td>\n",
       "      <td>[[36.30102678010058, 538.2042506241244]]</td>\n",
       "      <td>183.930155</td>\n",
       "    </tr>\n",
       "    <tr>\n",
       "      <th rowspan=\"2\" valign=\"top\">tail</th>\n",
       "      <th>closer</th>\n",
       "      <td>149.663203</td>\n",
       "      <td>[[10.243421013994466, 448.39519955966085]]</td>\n",
       "      <td>152.495230</td>\n",
       "    </tr>\n",
       "    <tr>\n",
       "      <th>further</th>\n",
       "      <td>158.521160</td>\n",
       "      <td>[[14.909886955911698, 584.6125165669064]]</td>\n",
       "      <td>156.112178</td>\n",
       "    </tr>\n",
       "    <tr>\n",
       "      <th rowspan=\"2\" valign=\"top\">trunk</th>\n",
       "      <th>closer</th>\n",
       "      <td>73.729872</td>\n",
       "      <td>[[33.38570509196757, 193.29353131041847]]</td>\n",
       "      <td>123.813586</td>\n",
       "    </tr>\n",
       "    <tr>\n",
       "      <th>further</th>\n",
       "      <td>219.028315</td>\n",
       "      <td>[[121.43342167010059, 613.5114916030773]]</td>\n",
       "      <td>308.898760</td>\n",
       "    </tr>\n",
       "    <tr>\n",
       "      <th rowspan=\"2\" valign=\"top\">unknown</th>\n",
       "      <th>closer</th>\n",
       "      <td>134.985373</td>\n",
       "      <td>[[5.0, 300.0049269001601]]</td>\n",
       "      <td>97.523239</td>\n",
       "    </tr>\n",
       "    <tr>\n",
       "      <th>further</th>\n",
       "      <td>64.614599</td>\n",
       "      <td>[[7.858274379678775, 190.51646440594638]]</td>\n",
       "      <td>74.575585</td>\n",
       "    </tr>\n",
       "    <tr>\n",
       "      <th rowspan=\"2\" valign=\"top\">wheel</th>\n",
       "      <th>closer</th>\n",
       "      <td>85.013234</td>\n",
       "      <td>[[3.1940391458308026, 250.68639307655224]]</td>\n",
       "      <td>91.931610</td>\n",
       "    </tr>\n",
       "    <tr>\n",
       "      <th>further</th>\n",
       "      <td>84.360580</td>\n",
       "      <td>[[6.0, 292.31853868026883]]</td>\n",
       "      <td>118.183041</td>\n",
       "    </tr>\n",
       "    <tr>\n",
       "      <th rowspan=\"2\" valign=\"top\">window</th>\n",
       "      <th>closer</th>\n",
       "      <td>67.068551</td>\n",
       "      <td>[[9.0, 417.08805518106095]]</td>\n",
       "      <td>90.418159</td>\n",
       "    </tr>\n",
       "    <tr>\n",
       "      <th>further</th>\n",
       "      <td>50.788549</td>\n",
       "      <td>[[26.022778363648847, 260.8573218381937]]</td>\n",
       "      <td>94.263987</td>\n",
       "    </tr>\n",
       "    <tr>\n",
       "      <th rowspan=\"2\" valign=\"top\">windshield</th>\n",
       "      <th>closer</th>\n",
       "      <td>125.182304</td>\n",
       "      <td>[[14.217852861620619, 494.2997718102298]]</td>\n",
       "      <td>131.508357</td>\n",
       "    </tr>\n",
       "    <tr>\n",
       "      <th>further</th>\n",
       "      <td>61.175159</td>\n",
       "      <td>[[26.052465009221656, 262.42162216644056]]</td>\n",
       "      <td>90.398329</td>\n",
       "    </tr>\n",
       "    <tr>\n",
       "      <th rowspan=\"2\" valign=\"top\">wing</th>\n",
       "      <th>closer</th>\n",
       "      <td>136.443415</td>\n",
       "      <td>[[5.0, 324.5737177412131]]</td>\n",
       "      <td>103.394816</td>\n",
       "    </tr>\n",
       "    <tr>\n",
       "      <th>further</th>\n",
       "      <td>107.951841</td>\n",
       "      <td>[[11.291247149933923, 430.64623871254975]]</td>\n",
       "      <td>140.253870</td>\n",
       "    </tr>\n",
       "  </tbody>\n",
       "</table>\n",
       "</div>"
      ],
      "text/plain": [
       "                      arc_length                                              \\\n",
       "                         Std Dev                                        95CI   \n",
       "label      condition                                                           \n",
       "armrest    closer      84.390212  [[19.514318892483995, 324.80863006812365]]   \n",
       "           further    102.476368    [[20.34832507397377, 313.5234070697127]]   \n",
       "backrest   closer     120.855102  [[15.162856659454084, 467.95325872997245]]   \n",
       "           further    116.468438   [[18.301421813444165, 433.1793977774056]]   \n",
       "beak       closer      37.782410   [[5.122334142050288, 168.04202309514494]]   \n",
       "           further     25.963564    [[9.723855591336479, 80.18954720235419]]   \n",
       "body       closer     155.158880     [[7.55546628663157, 584.5421953815313]]   \n",
       "           further    189.184354   [[13.640528454855911, 684.5651994574013]]   \n",
       "bumper     closer      66.978042  [[25.093047447383384, 415.00895179368314]]   \n",
       "           further     51.492537  [[21.110487441076632, 201.94130618707905]]   \n",
       "door       closer      69.410053     [[13.681415209027751, 299.56270792984]]   \n",
       "           further     41.903807   [[6.775971526438955, 180.23486364069453]]   \n",
       "ear        closer      72.747832    [[14.119227813879261, 207.219864493095]]   \n",
       "           further     60.338511   [[11.103043102422927, 281.5482208439029]]   \n",
       "eye        closer      28.588517   [[1.9999999999999998, 87.44523957993039]]   \n",
       "           further     38.612850   [[1.4142135623730951, 71.01196242930823]]   \n",
       "feet       closer      38.395349   [[4.158308174450911, 147.90226185164715]]   \n",
       "           further     50.391790    [[6.863261506745853, 138.7535451746336]]   \n",
       "head       closer     159.824085   [[11.694292620233727, 722.6436501131542]]   \n",
       "           further    100.905460   [[8.080914668986912, 374.82081430588545]]   \n",
       "headlight  closer      30.525976    [[5.883469229394615, 146.9427876754268]]   \n",
       "           further     27.975179                  [[7.0, 97.43781433557902]]   \n",
       "hood       closer     107.121591  [[16.000000000000004, 192.42879506698307]]   \n",
       "           further     72.114757    [[20.03866038930878, 277.7540912975479]]   \n",
       "leg        closer     183.644451   [[15.821264956244498, 836.1434154268688]]   \n",
       "           further    201.807784    [[18.03339521745877, 814.1849452773008]]   \n",
       "mouth      closer     129.863875   [[5.140652840190861, 429.07817929811586]]   \n",
       "           further     45.230593   [[4.562524890802269, 174.22355030904686]]   \n",
       "neck       closer     151.133732                   [[4.0, 393.641000267893]]   \n",
       "           further     35.415617  [[60.412007979888514, 100.12459475497019]]   \n",
       "paw        closer     192.030879   [[12.789533865203232, 52.13910899147601]]   \n",
       "           further     18.318712    [[44.57783360254838, 77.58953885198389]]   \n",
       "seat       closer     135.476726   [[15.038164957293269, 434.7076810681779]]   \n",
       "           further    130.878166    [[36.30102678010058, 538.2042506241244]]   \n",
       "tail       closer     149.663203  [[10.243421013994466, 448.39519955966085]]   \n",
       "           further    158.521160   [[14.909886955911698, 584.6125165669064]]   \n",
       "trunk      closer      73.729872   [[33.38570509196757, 193.29353131041847]]   \n",
       "           further    219.028315   [[121.43342167010059, 613.5114916030773]]   \n",
       "unknown    closer     134.985373                  [[5.0, 300.0049269001601]]   \n",
       "           further     64.614599   [[7.858274379678775, 190.51646440594638]]   \n",
       "wheel      closer      85.013234  [[3.1940391458308026, 250.68639307655224]]   \n",
       "           further     84.360580                 [[6.0, 292.31853868026883]]   \n",
       "window     closer      67.068551                 [[9.0, 417.08805518106095]]   \n",
       "           further     50.788549   [[26.022778363648847, 260.8573218381937]]   \n",
       "windshield closer     125.182304   [[14.217852861620619, 494.2997718102298]]   \n",
       "           further     61.175159  [[26.052465009221656, 262.42162216644056]]   \n",
       "wing       closer     136.443415                  [[5.0, 324.5737177412131]]   \n",
       "           further    107.951841  [[11.291247149933923, 430.64623871254975]]   \n",
       "\n",
       "                                  \n",
       "                            Mean  \n",
       "label      condition              \n",
       "armrest    closer     110.961529  \n",
       "           further    127.304610  \n",
       "backrest   closer     121.788262  \n",
       "           further    127.392468  \n",
       "beak       closer      46.511918  \n",
       "           further     43.945144  \n",
       "body       closer     169.519502  \n",
       "           further    233.082581  \n",
       "bumper     closer      82.023038  \n",
       "           further     78.722257  \n",
       "door       closer      62.185550  \n",
       "           further     61.248565  \n",
       "ear        closer      84.655303  \n",
       "           further     72.859282  \n",
       "eye        closer      29.304449  \n",
       "           further     23.077002  \n",
       "feet       closer      35.516255  \n",
       "           further     36.456820  \n",
       "head       closer     148.987554  \n",
       "           further    135.803514  \n",
       "headlight  closer      47.826851  \n",
       "           further     41.426044  \n",
       "hood       closer      83.845570  \n",
       "           further    117.614684  \n",
       "leg        closer     136.308756  \n",
       "           further    129.834429  \n",
       "mouth      closer     118.352837  \n",
       "           further     53.734017  \n",
       "neck       closer      86.617215  \n",
       "           further     63.337132  \n",
       "paw        closer      99.014745  \n",
       "           further     67.303655  \n",
       "seat       closer     160.852363  \n",
       "           further    183.930155  \n",
       "tail       closer     152.495230  \n",
       "           further    156.112178  \n",
       "trunk      closer     123.813586  \n",
       "           further    308.898760  \n",
       "unknown    closer      97.523239  \n",
       "           further     74.575585  \n",
       "wheel      closer      91.931610  \n",
       "           further    118.183041  \n",
       "window     closer      90.418159  \n",
       "           further     94.263987  \n",
       "windshield closer     131.508357  \n",
       "           further     90.398329  \n",
       "wing       closer     103.394816  \n",
       "           further    140.253870  "
      ]
     },
     "execution_count": 245,
     "metadata": {},
     "output_type": "execute_result"
    }
   ],
   "source": [
    "stroke_df.groupby(['label','condition']).agg(aggs)"
   ]
  },
  {
   "cell_type": "code",
   "execution_count": null,
   "metadata": {},
   "outputs": [],
   "source": []
  }
 ],
 "metadata": {
  "kernelspec": {
   "display_name": "Python 2",
   "language": "python",
   "name": "python2"
  },
  "language_info": {
   "codemirror_mode": {
    "name": "ipython",
    "version": 2
   },
   "file_extension": ".py",
   "mimetype": "text/x-python",
   "name": "python",
   "nbconvert_exporter": "python",
   "pygments_lexer": "ipython2",
   "version": "2.7.15"
  }
 },
 "nbformat": 4,
 "nbformat_minor": 2
}
