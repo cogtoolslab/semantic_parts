{
 "cells": [
  {
   "cell_type": "markdown",
   "metadata": {},
   "source": [
    "## Loading libraries and setting up directories"
   ]
  },
  {
   "cell_type": "code",
   "execution_count": 8,
   "metadata": {},
   "outputs": [],
   "source": [
    "from __future__ import division\n",
    "\n",
    "import os\n",
    "import urllib, cStringIO\n",
    "\n",
    "import pymongo as pm\n",
    "from collections import Counter\n",
    "import matplotlib\n",
    "import matplotlib.patheffects as PathEffects\n",
    "from matplotlib import pylab, mlab, pyplot\n",
    "%matplotlib inline\n",
    "from IPython.core.pylabtools import figsize, getfigs\n",
    "plt = pyplot\n",
    "import seaborn as sns\n",
    "sns.set_context('poster')\n",
    "sns.set_style('white')\n",
    "\n",
    "import numpy as np\n",
    "import scipy.stats as stats\n",
    "import pandas as pd\n",
    "import json\n",
    "import re\n",
    "\n",
    "from PIL import Image\n",
    "import base64\n",
    "import sys\n",
    "\n",
    "from svgpathtools import parse_path\n",
    "\n",
    "\n",
    "\n",
    "import warnings\n",
    "warnings.filterwarnings(\"ignore\", category=DeprecationWarning)\n",
    "warnings.filterwarnings(\"ignore\", message=\"numpy.dtype size changed\")\n",
    "warnings.filterwarnings(\"ignore\", message=\"numpy.ufunc size changed\")\n",
    "\n",
    "\n"
   ]
  },
  {
   "cell_type": "code",
   "execution_count": 9,
   "metadata": {},
   "outputs": [
    {
     "data": {
      "text/plain": [
       "<module 'analysis_helpers' from '/Users/kushin/Documents/GitHub/semantic_parts/analysis/analysis_helpers.pyc'>"
      ]
     },
     "execution_count": 9,
     "metadata": {},
     "output_type": "execute_result"
    }
   ],
   "source": [
    "# directory & file hierarchy\n",
    "proj_dir = os.path.abspath('../..')\n",
    "analysis_dir = os.getcwd()\n",
    "results_dir = os.path.join(proj_dir,'results')\n",
    "plot_dir = os.path.join(results_dir,'plots')\n",
    "csv_dir = os.path.join(results_dir,'csv')\n",
    "features_dir= os.path.join(results_dir,'features')\n",
    "exp_dir = os.path.abspath(os.path.join(proj_dir,'experiments'))\n",
    "sketch_dir = os.path.abspath(os.path.join(proj_dir,'sketches'))\n",
    "\n",
    "## add helpers to python path\n",
    "if os.path.join(proj_dir,'analysis') not in sys.path:\n",
    "    sys.path.append(os.path.join(proj_dir,'analysis'))\n",
    "\n",
    "if not os.path.exists(results_dir):\n",
    "    os.makedirs(results_dir)  \n",
    "\n",
    "if not os.path.exists(plot_dir):\n",
    "    os.makedirs(plot_dir)   \n",
    "    \n",
    "if not os.path.exists(csv_dir):\n",
    "    os.makedirs(csv_dir)  \n",
    "\n",
    "if not os.path.exists(features_dir):\n",
    "    os.makedirs(features_dir)\n",
    "    \n",
    "## add helpers to python path\n",
    "if os.path.join(proj_dir,'analysis') not in sys.path:\n",
    "    sys.path.append(os.path.join(proj_dir,'analysis'))        \n",
    "    \n",
    "# Assign variables within imported analysis helpers\n",
    "import analysis_helpers as h\n",
    "if sys.version_info[0]>=3:\n",
    "    from importlib import reload\n",
    "reload(h)"
   ]
  },
  {
   "cell_type": "markdown",
   "metadata": {},
   "source": [
    "## Setting up connection to mongo and creating main dataframe"
   ]
  },
  {
   "cell_type": "code",
   "execution_count": 10,
   "metadata": {},
   "outputs": [],
   "source": [
    "#### set vars \n",
    "auth = pd.read_csv('auth.txt', header = None) # this auth.txt file contains the password for the sketchloop user\n",
    "pswd = auth.values[0][0]\n",
    "key  = auth.values[0][0]\n",
    "user = 'sketchloop'\n",
    "host = 'rxdhawkins.me' ## cocolab ip address\n",
    "\n",
    "# have to fix this to be able to analyze from local\n",
    "import pymongo as pm\n",
    "conn = pm.MongoClient('mongodb://sketchloop:' + pswd + '@127.0.0.1')\n",
    "db = conn['semantic_parts']\n",
    "coll = db['sketchpad_basic']\n",
    "\n",
    "# which iteration name should we use?\n",
    "iterationName = 'pilot0'"
   ]
  },
  {
   "cell_type": "code",
   "execution_count": 11,
   "metadata": {},
   "outputs": [
    {
     "name": "stdout",
     "output_type": "stream",
     "text": [
      "We have 3608 annotations so far.\n"
     ]
    }
   ],
   "source": [
    "num_sketches = coll.find({'iterationName':iterationName}).count()\n",
    "print 'We have {} annotations so far.'.format(num_sketches)"
   ]
  },
  {
   "cell_type": "code",
   "execution_count": 12,
   "metadata": {},
   "outputs": [],
   "source": [
    "jefan = ['A1MMCS8S8CTWKU','A1MMCS8S8CTWKV','A1MMCS8S8CTWKS']\n",
    "hawkrobe = ['A1BOIDKD33QSDK']\n",
    "kmukherjee = ['A1WU4IHJNQGVAY']\n",
    "researchers = jefan + hawkrobe  + kmukherjee"
   ]
  },
  {
   "cell_type": "code",
   "execution_count": 13,
   "metadata": {},
   "outputs": [
    {
     "name": "stdout",
     "output_type": "stream",
     "text": [
      "We have had 411 unique sessions\n"
     ]
    }
   ],
   "source": [
    "unique_assignments = coll.find({'iterationName':iterationName}).distinct('aID')\n",
    "print 'We have had {} unique sessions'.format( len(unique_assignments))"
   ]
  },
  {
   "cell_type": "code",
   "execution_count": 14,
   "metadata": {},
   "outputs": [
    {
     "name": "stdout",
     "output_type": "stream",
     "text": [
      "Analyzing sketches from assignment 0 of 411  ...\n",
      "Analyzing sketches from assignment 100 of 411  ...\n",
      "Analyzing sketches from assignment 200 of 411  ...\n",
      "Analyzing sketches from assignment 300 of 411  ...\n",
      "Analyzing sketches from assignment 400 of 411  ...\n"
     ]
    }
   ],
   "source": [
    "## get list of unique_assignments\n",
    "unique_assignments = coll.find({'iterationName':iterationName}).distinct('aID')\n",
    "\n",
    "### initialize a bunch of stuff\n",
    "orig_gameID = [] # the gameID from which this sketch was sourced\n",
    "outcome =[] #original outcome for that trial- true/false\n",
    "orig_trial_num = [] # the trialnum in the original game from which this sketch was sourced -- \n",
    "sketch_id = [] # concatenation of orig_gameID and orig_trial_num -- \n",
    "assignmentID = [] # the session in which this annotation was collected -- \n",
    "annotation_id = [] # the unique ID for each annotation trial (different for each session the same sketch appears in)\n",
    "category = [] # e.g., \"chair\"\n",
    "target = [] # e.g., \"inlay\"\n",
    "condition = [] # e.g., \"closer\" vs. \"further\" or \"repeated\" vs. \"control\n",
    "trial_num = [] \n",
    "workerID = [] #mTurk workerId\n",
    "spline_id =[] #unique spline identifier\n",
    "time_submitted = [] # when the participant clicked \"next sketch\"\n",
    "time_labeled = [] # unique to each spline labeled\n",
    "time_clicked = [] # when this spline was clicked/selected\n",
    "num_strokes_in_sketch = [] # how many strokes in this sketch\n",
    "num_splines_in_sketch = [] # how many spline elements in this sketch\n",
    "stroke_num = [] # which stroke number this labeled spline came from\n",
    "cumulative_spline_num = [] # spline index in the cumulative spline sequence for the entire sketch\n",
    "within_stroke_spline_num = [] # spline index for the current stroke\n",
    "cumulative_bout_num= [] #which bout of annotation the spline belonged to\n",
    "part_bout_num =[] #which part-specific bout of annotation the spline belonged to\n",
    "label = [] # the label provided by the participant\n",
    "spline_svg_string = [] # the svg spline string that earned this label\n",
    "sketch_svg_string = [] # the entire svg string correponding to this sketch\n",
    "annotation_flag = [] # this is True if all splines were labeled as the same thing\n",
    "annotation_spline_id = [] #unique identifier for specific annotation of a spline\n",
    "png=[] #png string for the annotated sketch\n",
    "stroke_id=[]\n",
    "timestamp=[]\n",
    "\n",
    "## loop through all the unique assignments that have submitted things\n",
    "for this_assignment, aID in enumerate(unique_assignments):\n",
    "    if this_assignment%100==0:\n",
    "        print 'Analyzing sketches from assignment {} of {}  ...'.format(this_assignment, len(unique_assignments))\n",
    "\n",
    "    ### get all the sketch recs for this assignment\n",
    "    sketch_recs = coll.find({'$and': [{'iterationName':iterationName}, {'aID':aID}]}).sort('time')\n",
    "\n",
    "    try:\n",
    "\n",
    "        for sketch_ind,sketch in enumerate(sketch_recs):\n",
    "            ## get annotations embedded within record\n",
    "            sketch_cat = sketch['category']\n",
    "            annotations_string = sketch['annotations']\n",
    "            \n",
    "    \n",
    "            ## convert to json dictionary\n",
    "            _annotations_dict = json.loads(annotations_string)  \n",
    "           \n",
    "            annotations_dict = _annotations_dict[0][sketch_cat]\n",
    "            _timestamp = coll.find({'$and': [{'iterationName':iterationName}, {'aID':aID}]}).distinct('time')[sketch_ind]\n",
    "            png_string = _annotations_dict[0]['png']\n",
    "            num_splines = len(annotations_dict)\n",
    "            for annotation in annotations_dict:\n",
    "                assert sketch['numSplines']==num_splines                \n",
    "                ## get spline-level metadata\n",
    "            \n",
    "                workerID.append(h.encode(key,sketch['wID']))\n",
    "                label.append(annotation['label'])\n",
    "                stroke_num.append(annotation['strokeNum'])\n",
    "                spline_svg_string.append(annotation['svgString'])\n",
    "                cumulative_spline_num.append(annotation['cumulativeSplineNum'])\n",
    "                within_stroke_spline_num.append(annotation['withinStrokeSplineNum'])\n",
    "                time_clicked.append(annotation['timeClicked'])\n",
    "                time_labeled.append(annotation['timeLabeled'])\n",
    "                spline_id.append('{}_{}_{}'.format(sketch['originalGameID'],sketch['originalTrialNum'],annotation['cumulativeSplineNum']))\n",
    "                stroke_id.append('{}_{}_{}'.format(sketch['originalGameID'],sketch['originalTrialNum'],annotation['strokeNum']))\n",
    "                cumulative_bout_num.append(annotation['boutNum'])\n",
    "                part_bout_num.append(annotation['partBoutNum'])\n",
    "                ## get sketch-level metadata\n",
    "                orig_gameID.append(sketch['originalGameID'])   \n",
    "                outcome.append(sketch['originalOutcome'])\n",
    "                orig_trial_num.append(sketch['originalTrialNum'])\n",
    "                sketch_id.append('{}_{}'.format(sketch['originalGameID'],sketch['originalTrialNum']))\n",
    "                annotation_id.append('{}_{}_{}'.format(sketch['originalGameID'],sketch['originalTrialNum'],sketch['aID']))\n",
    "                assignmentID.append(sketch['aID'])\n",
    "                category.append(sketch['category'])\n",
    "                target.append(sketch['target'])\n",
    "                png.append(png_string)\n",
    "                timestamp.append(_timestamp)\n",
    "                condition.append(sketch['condition'])\n",
    "                time_submitted.append(sketch['time'])\n",
    "                trial_num.append(sketch['trialNum'])\n",
    "                num_splines_in_sketch.append(sketch['numSplines'])\n",
    "                num_strokes_in_sketch.append(sketch['numStrokes'])\n",
    "                sketch_svg_string.append(sketch['svg'])\n",
    "                annotation_flag.append(sketch['sameAnnotflag'])\n",
    "                annotation_spline_id.append('{}_{}_{}_{}'.format(sketch['originalGameID'],sketch['originalTrialNum'],sketch['aID'],annotation['cumulativeSplineNum']))\n",
    "                \n",
    "    except AssertionError:\n",
    "        print 'There were unequal numbers for sketch[\"numSplines\"] vs. num_splines for sketch {} from {}'.\\\n",
    "                format(sketch['trialNum'], sketch['aID'])\n"
   ]
  },
  {
   "cell_type": "code",
   "execution_count": 24,
   "metadata": {},
   "outputs": [
    {
     "name": "stdout",
     "output_type": "stream",
     "text": [
      "Annotations dataframe contains 83474 rows and 29 columns.\n"
     ]
    }
   ],
   "source": [
    "## make group dataframe \n",
    "D = pd.DataFrame([workerID,orig_gameID,timestamp, orig_trial_num, outcome, sketch_id, category, assignmentID,  target, \\\n",
    "                  annotation_id, condition, trial_num, time_submitted,\\\n",
    "                 time_labeled, time_clicked, num_strokes_in_sketch, num_splines_in_sketch,\\\n",
    "                 stroke_num, cumulative_spline_num, within_stroke_spline_num, cumulative_bout_num,\\\n",
    "                 part_bout_num, label, spline_svg_string, sketch_svg_string, spline_id, stroke_id,\\\n",
    "                  annotation_spline_id,png])\n",
    "D = D.transpose()\n",
    "D.columns = ['workerID','orig_gameID', 'timestamp','orig_trial_num','outcome', 'sketch_id', 'category', 'assignmentID', 'target',\\\n",
    "             'annotation_id', 'condition', 'trial_num', 'time_submitted',\\\n",
    "             'time_labeled', 'time_clicked', 'num_strokes_in_sketch', 'num_splines_in_sketch',\\\n",
    "             'stroke_num', 'cumulative_spline_num', 'within_stroke_spline_num', 'cumulative_bout_num', 'part_bout_num', 'label',\\\n",
    "             'spline_svg_string', 'sketch_svg_string', 'spline_id','stroke_id','annotation_spline_id','png']\n",
    "D=D[D['assignmentID']!='']\n",
    "\n",
    "\n",
    "print 'Annotations dataframe contains {} rows and {} columns.'.format(D.shape[0],D.shape[1])"
   ]
  },
  {
   "cell_type": "code",
   "execution_count": 16,
   "metadata": {},
   "outputs": [
    {
     "data": {
      "text/html": [
       "<div>\n",
       "<style scoped>\n",
       "    .dataframe tbody tr th:only-of-type {\n",
       "        vertical-align: middle;\n",
       "    }\n",
       "\n",
       "    .dataframe tbody tr th {\n",
       "        vertical-align: top;\n",
       "    }\n",
       "\n",
       "    .dataframe thead th {\n",
       "        text-align: right;\n",
       "    }\n",
       "</style>\n",
       "<table border=\"1\" class=\"dataframe\">\n",
       "  <thead>\n",
       "    <tr style=\"text-align: right;\">\n",
       "      <th></th>\n",
       "      <th>workerID</th>\n",
       "      <th>orig_gameID</th>\n",
       "      <th>timestamp</th>\n",
       "      <th>orig_trial_num</th>\n",
       "      <th>outcome</th>\n",
       "      <th>sketch_id</th>\n",
       "      <th>category</th>\n",
       "      <th>assignmentID</th>\n",
       "      <th>target</th>\n",
       "      <th>annotation_id</th>\n",
       "      <th>...</th>\n",
       "      <th>within_stroke_spline_num</th>\n",
       "      <th>cumulative_bout_num</th>\n",
       "      <th>part_bout_num</th>\n",
       "      <th>label</th>\n",
       "      <th>spline_svg_string</th>\n",
       "      <th>sketch_svg_string</th>\n",
       "      <th>spline_id</th>\n",
       "      <th>stroke_id</th>\n",
       "      <th>annotation_spline_id</th>\n",
       "      <th>png</th>\n",
       "    </tr>\n",
       "  </thead>\n",
       "  <tbody>\n",
       "    <tr>\n",
       "      <th>0</th>\n",
       "      <td>m6eRdZ3JoJehko2dkA==</td>\n",
       "      <td>4409-c993cc06-d675-4acb-881f-b5377cf24d71</td>\n",
       "      <td>1.54239e+12</td>\n",
       "      <td>1</td>\n",
       "      <td>True</td>\n",
       "      <td>4409-c993cc06-d675-4acb-881f-b5377cf24d71_1</td>\n",
       "      <td>dog</td>\n",
       "      <td>3300DTYQT3VTI1T0Z3VDORMB3U0EQP</td>\n",
       "      <td>goldenretriever</td>\n",
       "      <td>4409-c993cc06-d675-4acb-881f-b5377cf24d71_1_33...</td>\n",
       "      <td>...</td>\n",
       "      <td>0</td>\n",
       "      <td>0</td>\n",
       "      <td>0</td>\n",
       "      <td>leg</td>\n",
       "      <td>M70,203c3.83938,0 19,-28.41653 19,-35</td>\n",
       "      <td>[M88,213c0,-4.76591 7.47597,-9.21395 10,-13c4....</td>\n",
       "      <td>4409-c993cc06-d675-4acb-881f-b5377cf24d71_1_1</td>\n",
       "      <td>4409-c993cc06-d675-4acb-881f-b5377cf24d71_1_1</td>\n",
       "      <td>4409-c993cc06-d675-4acb-881f-b5377cf24d71_1_33...</td>\n",
       "      <td>iVBORw0KGgoAAAANSUhEUgAAAUcAAAFHCAYAAAAySY5rAA...</td>\n",
       "    </tr>\n",
       "    <tr>\n",
       "      <th>1</th>\n",
       "      <td>m6eRdZ3JoJehko2dkA==</td>\n",
       "      <td>4409-c993cc06-d675-4acb-881f-b5377cf24d71</td>\n",
       "      <td>1.54239e+12</td>\n",
       "      <td>1</td>\n",
       "      <td>True</td>\n",
       "      <td>4409-c993cc06-d675-4acb-881f-b5377cf24d71_1</td>\n",
       "      <td>dog</td>\n",
       "      <td>3300DTYQT3VTI1T0Z3VDORMB3U0EQP</td>\n",
       "      <td>goldenretriever</td>\n",
       "      <td>4409-c993cc06-d675-4acb-881f-b5377cf24d71_1_33...</td>\n",
       "      <td>...</td>\n",
       "      <td>0</td>\n",
       "      <td>0</td>\n",
       "      <td>0</td>\n",
       "      <td>leg</td>\n",
       "      <td>M88,213c0,-4.76591 7.47597,-9.21395 10,-13c4.9...</td>\n",
       "      <td>[M88,213c0,-4.76591 7.47597,-9.21395 10,-13c4....</td>\n",
       "      <td>4409-c993cc06-d675-4acb-881f-b5377cf24d71_1_0</td>\n",
       "      <td>4409-c993cc06-d675-4acb-881f-b5377cf24d71_1_0</td>\n",
       "      <td>4409-c993cc06-d675-4acb-881f-b5377cf24d71_1_33...</td>\n",
       "      <td>iVBORw0KGgoAAAANSUhEUgAAAUcAAAFHCAYAAAAySY5rAA...</td>\n",
       "    </tr>\n",
       "    <tr>\n",
       "      <th>2</th>\n",
       "      <td>m6eRdZ3JoJehko2dkA==</td>\n",
       "      <td>4409-c993cc06-d675-4acb-881f-b5377cf24d71</td>\n",
       "      <td>1.54239e+12</td>\n",
       "      <td>1</td>\n",
       "      <td>True</td>\n",
       "      <td>4409-c993cc06-d675-4acb-881f-b5377cf24d71_1</td>\n",
       "      <td>dog</td>\n",
       "      <td>3300DTYQT3VTI1T0Z3VDORMB3U0EQP</td>\n",
       "      <td>goldenretriever</td>\n",
       "      <td>4409-c993cc06-d675-4acb-881f-b5377cf24d71_1_33...</td>\n",
       "      <td>...</td>\n",
       "      <td>0</td>\n",
       "      <td>0</td>\n",
       "      <td>0</td>\n",
       "      <td>leg</td>\n",
       "      <td>M169,151c13.64771,0 31,35.2618 31,48</td>\n",
       "      <td>[M88,213c0,-4.76591 7.47597,-9.21395 10,-13c4....</td>\n",
       "      <td>4409-c993cc06-d675-4acb-881f-b5377cf24d71_1_4</td>\n",
       "      <td>4409-c993cc06-d675-4acb-881f-b5377cf24d71_1_3</td>\n",
       "      <td>4409-c993cc06-d675-4acb-881f-b5377cf24d71_1_33...</td>\n",
       "      <td>iVBORw0KGgoAAAANSUhEUgAAAUcAAAFHCAYAAAAySY5rAA...</td>\n",
       "    </tr>\n",
       "    <tr>\n",
       "      <th>3</th>\n",
       "      <td>m6eRdZ3JoJehko2dkA==</td>\n",
       "      <td>4409-c993cc06-d675-4acb-881f-b5377cf24d71</td>\n",
       "      <td>1.54239e+12</td>\n",
       "      <td>1</td>\n",
       "      <td>True</td>\n",
       "      <td>4409-c993cc06-d675-4acb-881f-b5377cf24d71_1</td>\n",
       "      <td>dog</td>\n",
       "      <td>3300DTYQT3VTI1T0Z3VDORMB3U0EQP</td>\n",
       "      <td>goldenretriever</td>\n",
       "      <td>4409-c993cc06-d675-4acb-881f-b5377cf24d71_1_33...</td>\n",
       "      <td>...</td>\n",
       "      <td>0</td>\n",
       "      <td>0</td>\n",
       "      <td>0</td>\n",
       "      <td>leg</td>\n",
       "      <td>M198,147c0,20.70501 25,28.72755 25,47</td>\n",
       "      <td>[M88,213c0,-4.76591 7.47597,-9.21395 10,-13c4....</td>\n",
       "      <td>4409-c993cc06-d675-4acb-881f-b5377cf24d71_1_5</td>\n",
       "      <td>4409-c993cc06-d675-4acb-881f-b5377cf24d71_1_4</td>\n",
       "      <td>4409-c993cc06-d675-4acb-881f-b5377cf24d71_1_33...</td>\n",
       "      <td>iVBORw0KGgoAAAANSUhEUgAAAUcAAAFHCAYAAAAySY5rAA...</td>\n",
       "    </tr>\n",
       "    <tr>\n",
       "      <th>4</th>\n",
       "      <td>m6eRdZ3JoJehko2dkA==</td>\n",
       "      <td>4409-c993cc06-d675-4acb-881f-b5377cf24d71</td>\n",
       "      <td>1.54239e+12</td>\n",
       "      <td>1</td>\n",
       "      <td>True</td>\n",
       "      <td>4409-c993cc06-d675-4acb-881f-b5377cf24d71_1</td>\n",
       "      <td>dog</td>\n",
       "      <td>3300DTYQT3VTI1T0Z3VDORMB3U0EQP</td>\n",
       "      <td>goldenretriever</td>\n",
       "      <td>4409-c993cc06-d675-4acb-881f-b5377cf24d71_1_33...</td>\n",
       "      <td>...</td>\n",
       "      <td>0</td>\n",
       "      <td>0</td>\n",
       "      <td>0</td>\n",
       "      <td>leg</td>\n",
       "      <td>M237,172c-1.50317,0 -2,-19.96898 -2,-22</td>\n",
       "      <td>[M88,213c0,-4.76591 7.47597,-9.21395 10,-13c4....</td>\n",
       "      <td>4409-c993cc06-d675-4acb-881f-b5377cf24d71_1_35</td>\n",
       "      <td>4409-c993cc06-d675-4acb-881f-b5377cf24d71_1_16</td>\n",
       "      <td>4409-c993cc06-d675-4acb-881f-b5377cf24d71_1_33...</td>\n",
       "      <td>iVBORw0KGgoAAAANSUhEUgAAAUcAAAFHCAYAAAAySY5rAA...</td>\n",
       "    </tr>\n",
       "  </tbody>\n",
       "</table>\n",
       "<p>5 rows × 29 columns</p>\n",
       "</div>"
      ],
      "text/plain": [
       "               workerID                                orig_gameID  \\\n",
       "0  m6eRdZ3JoJehko2dkA==  4409-c993cc06-d675-4acb-881f-b5377cf24d71   \n",
       "1  m6eRdZ3JoJehko2dkA==  4409-c993cc06-d675-4acb-881f-b5377cf24d71   \n",
       "2  m6eRdZ3JoJehko2dkA==  4409-c993cc06-d675-4acb-881f-b5377cf24d71   \n",
       "3  m6eRdZ3JoJehko2dkA==  4409-c993cc06-d675-4acb-881f-b5377cf24d71   \n",
       "4  m6eRdZ3JoJehko2dkA==  4409-c993cc06-d675-4acb-881f-b5377cf24d71   \n",
       "\n",
       "     timestamp orig_trial_num outcome  \\\n",
       "0  1.54239e+12              1    True   \n",
       "1  1.54239e+12              1    True   \n",
       "2  1.54239e+12              1    True   \n",
       "3  1.54239e+12              1    True   \n",
       "4  1.54239e+12              1    True   \n",
       "\n",
       "                                     sketch_id category  \\\n",
       "0  4409-c993cc06-d675-4acb-881f-b5377cf24d71_1      dog   \n",
       "1  4409-c993cc06-d675-4acb-881f-b5377cf24d71_1      dog   \n",
       "2  4409-c993cc06-d675-4acb-881f-b5377cf24d71_1      dog   \n",
       "3  4409-c993cc06-d675-4acb-881f-b5377cf24d71_1      dog   \n",
       "4  4409-c993cc06-d675-4acb-881f-b5377cf24d71_1      dog   \n",
       "\n",
       "                     assignmentID           target  \\\n",
       "0  3300DTYQT3VTI1T0Z3VDORMB3U0EQP  goldenretriever   \n",
       "1  3300DTYQT3VTI1T0Z3VDORMB3U0EQP  goldenretriever   \n",
       "2  3300DTYQT3VTI1T0Z3VDORMB3U0EQP  goldenretriever   \n",
       "3  3300DTYQT3VTI1T0Z3VDORMB3U0EQP  goldenretriever   \n",
       "4  3300DTYQT3VTI1T0Z3VDORMB3U0EQP  goldenretriever   \n",
       "\n",
       "                                       annotation_id  \\\n",
       "0  4409-c993cc06-d675-4acb-881f-b5377cf24d71_1_33...   \n",
       "1  4409-c993cc06-d675-4acb-881f-b5377cf24d71_1_33...   \n",
       "2  4409-c993cc06-d675-4acb-881f-b5377cf24d71_1_33...   \n",
       "3  4409-c993cc06-d675-4acb-881f-b5377cf24d71_1_33...   \n",
       "4  4409-c993cc06-d675-4acb-881f-b5377cf24d71_1_33...   \n",
       "\n",
       "                         ...                         within_stroke_spline_num  \\\n",
       "0                        ...                                                0   \n",
       "1                        ...                                                0   \n",
       "2                        ...                                                0   \n",
       "3                        ...                                                0   \n",
       "4                        ...                                                0   \n",
       "\n",
       "  cumulative_bout_num part_bout_num label  \\\n",
       "0                   0             0   leg   \n",
       "1                   0             0   leg   \n",
       "2                   0             0   leg   \n",
       "3                   0             0   leg   \n",
       "4                   0             0   leg   \n",
       "\n",
       "                                   spline_svg_string  \\\n",
       "0              M70,203c3.83938,0 19,-28.41653 19,-35   \n",
       "1  M88,213c0,-4.76591 7.47597,-9.21395 10,-13c4.9...   \n",
       "2               M169,151c13.64771,0 31,35.2618 31,48   \n",
       "3              M198,147c0,20.70501 25,28.72755 25,47   \n",
       "4            M237,172c-1.50317,0 -2,-19.96898 -2,-22   \n",
       "\n",
       "                                   sketch_svg_string  \\\n",
       "0  [M88,213c0,-4.76591 7.47597,-9.21395 10,-13c4....   \n",
       "1  [M88,213c0,-4.76591 7.47597,-9.21395 10,-13c4....   \n",
       "2  [M88,213c0,-4.76591 7.47597,-9.21395 10,-13c4....   \n",
       "3  [M88,213c0,-4.76591 7.47597,-9.21395 10,-13c4....   \n",
       "4  [M88,213c0,-4.76591 7.47597,-9.21395 10,-13c4....   \n",
       "\n",
       "                                        spline_id  \\\n",
       "0   4409-c993cc06-d675-4acb-881f-b5377cf24d71_1_1   \n",
       "1   4409-c993cc06-d675-4acb-881f-b5377cf24d71_1_0   \n",
       "2   4409-c993cc06-d675-4acb-881f-b5377cf24d71_1_4   \n",
       "3   4409-c993cc06-d675-4acb-881f-b5377cf24d71_1_5   \n",
       "4  4409-c993cc06-d675-4acb-881f-b5377cf24d71_1_35   \n",
       "\n",
       "                                        stroke_id  \\\n",
       "0   4409-c993cc06-d675-4acb-881f-b5377cf24d71_1_1   \n",
       "1   4409-c993cc06-d675-4acb-881f-b5377cf24d71_1_0   \n",
       "2   4409-c993cc06-d675-4acb-881f-b5377cf24d71_1_3   \n",
       "3   4409-c993cc06-d675-4acb-881f-b5377cf24d71_1_4   \n",
       "4  4409-c993cc06-d675-4acb-881f-b5377cf24d71_1_16   \n",
       "\n",
       "                                annotation_spline_id  \\\n",
       "0  4409-c993cc06-d675-4acb-881f-b5377cf24d71_1_33...   \n",
       "1  4409-c993cc06-d675-4acb-881f-b5377cf24d71_1_33...   \n",
       "2  4409-c993cc06-d675-4acb-881f-b5377cf24d71_1_33...   \n",
       "3  4409-c993cc06-d675-4acb-881f-b5377cf24d71_1_33...   \n",
       "4  4409-c993cc06-d675-4acb-881f-b5377cf24d71_1_33...   \n",
       "\n",
       "                                                 png  \n",
       "0  iVBORw0KGgoAAAANSUhEUgAAAUcAAAFHCAYAAAAySY5rAA...  \n",
       "1  iVBORw0KGgoAAAANSUhEUgAAAUcAAAFHCAYAAAAySY5rAA...  \n",
       "2  iVBORw0KGgoAAAANSUhEUgAAAUcAAAFHCAYAAAAySY5rAA...  \n",
       "3  iVBORw0KGgoAAAANSUhEUgAAAUcAAAFHCAYAAAAySY5rAA...  \n",
       "4  iVBORw0KGgoAAAANSUhEUgAAAUcAAAFHCAYAAAAySY5rAA...  \n",
       "\n",
       "[5 rows x 29 columns]"
      ]
     },
     "execution_count": 16,
     "metadata": {},
     "output_type": "execute_result"
    }
   ],
   "source": [
    "##Check to see what dataframe looks like\n",
    "D.head()"
   ]
  },
  {
   "cell_type": "code",
   "execution_count": 26,
   "metadata": {},
   "outputs": [],
   "source": [
    "###Changing the NAs to \"None\" strings\n",
    "\n",
    "for ind, row in D.iterrows():\n",
    "    if row['label'] is None:\n",
    "        row['label'] = \"None\""
   ]
  },
  {
   "cell_type": "code",
   "execution_count": null,
   "metadata": {},
   "outputs": [],
   "source": []
  },
  {
   "cell_type": "code",
   "execution_count": 27,
   "metadata": {},
   "outputs": [],
   "source": [
    "##Creating a dictionary of dictionaries that maps user input labels to our main labels of interest\n",
    "#Skip this cell to retain the original annotations\n",
    "\n",
    "\n",
    "maplist_dict={}\n",
    "maplist_dict['car'] ={'body':['body','59 decal','Body and hood','Body and windshield','Gas Cap', 'gas tank','Logo','Number','Number Decal','logo','grill',\\\n",
    "                'Grille','Grill','hubcap','seat','grille','ROOF','Roof','roof','number','59 decal','side mirror','Roof Panel',\\\n",
    "                 'Undercarriage','numbers','rearview mirror','NUMBER','Top','top','Racing Decal','Side Mirror','convertible top'],\n",
    " 'bumper':['bumper','Fender','fender','fender well','front bumber','Bumper','Bumper and Hood','step'],\n",
    " 'door':['door','DOOR HANDLE','door handle','handle'],\n",
    " 'headlight':['headlight','taillight'],\n",
    " 'hood':['hood','hood release','Hood Ornament','mirror','Mirror'],\n",
    " 'trunk':['trunk','Exhaust'],\n",
    " 'unknown':['Letter R','Letter e','Letter D','letter D','Says the word Drive','unknown','text','Wind','eye','Arrow','Light Beams',\\\n",
    "           'Light beams','Tree','hand','horn','Word',\"it's just words, no picture to label\",'words','Pavement','Payement'],\n",
    " 'wheel':['rim','Tire','tire','wheel','wheel well','Axle','spokes','Spells the word Red','lug nuts','lug nut','rims'],\n",
    " 'window':['window'],\n",
    " 'windshield':['windshield','Steering wheel']\n",
    "}\n",
    "maplist_dict['bird']={'beak':['beak','jaw'],\n",
    "                      'body':['body','chest','back','speckles','Markings','marking','markings','Marking','Coloring','coloring'],\n",
    "                      'eye':['eye'],\n",
    "                      'feet':['feet'],\n",
    "                      'head':['head','neck','Neck','facial marking'],\n",
    "                      'leg':['leg'],\n",
    "                      'tail':['tail'],\n",
    "                      'wing':['wing','feather','feathers','Feathers'],\n",
    "                      'unknown':['unknown','B','I','R','D','This isnt a bird','not sketch','c','h',\\\n",
    "                                'i','r','p','Not a bird: The word \"orange\"','sky','Word']}\n",
    "maplist_dict['dog']={'body':['body','chest','Stomach','back','butt','Butt','fur','fur ','both head and body','Back',\\\n",
    "                            'Belly','rear','skin fold'],\n",
    "                     'ear':['ear'],\n",
    "                     'eye':['eye'],\n",
    "                     'head':['head','Nose','nose','Nostrils','snout','NOSE','Snout','snout area','face','mask'],\n",
    "                     'leg':['leg'],\n",
    "                     'mouth':['mout','tongue','muzzle','jaw','Tongue','Muzzle','chin'],\n",
    "                     'neck':['neck'],\n",
    "                     'paw':['paw','foot'],\n",
    "                     'tail':['tail'],\n",
    "                     'unknown':['unknown','Straight line in the letter \"D\"','Curved part of the letter \"D\"','left half of the letter \"O\"',\\\n",
    "                               'Right part of the letter \"O\"','Letter \"G\"','cheating','Person just wrote words','Non-Animal',\\\n",
    "                               'not a vaild pict of a dog','letter','W','o','f','word','letter b','Shadow','SHadow','Text',\\\n",
    "                               'spelling of dog','smiley face','O','F','R','K','Words \"Woof Bark\"','not a drawing of a dog','Word','color',\\\n",
    "                               'shading','writing','text']}\n",
    "\n",
    "maplist_dict['chair']={'armrest':['armrest','sides','support slats','support slat','armrest support','decorative wood pane',\\\n",
    "                                 'side spindles','Chair frame','Side support','Design Elements','Leg and armrest','arm rest',\\\n",
    "                                 'bars','bar','arm rest support'],\n",
    "                       'backrest':['backrest','headrest','Spindle','spindles','spindels','back support'],\n",
    "                       'seat':['seat', 'Chair support','cushion'],\n",
    "                       'leg':['leg','bottom frame','spindle','Support Bar','wheel','leg rail','leg support','support beam',\\\n",
    "                             'Wheel','bottom brace','stretcher','supporting wood','Leg support','top of leg','foot',\\\n",
    "                             'Reinforcement for legs','Brace','supports','support for legs','Bottom Support','Leg support',\\\n",
    "                             'Stretcher','wood beam connecting legs','Wood beam connecting legs','brace','braces','Struts','Leg Support',\\\n",
    "                              'metal support','support'],\n",
    "                       'unknown':['unknown','frame','Descriptive label','letters','Not a chair','Frame','Decoration','Structure',\\\n",
    "                                 'name ','Label','Words - Bulky Garage','Part of O','letter r','Part of letter a',\\\n",
    "                                 'Part of letter n','Part of letter g','Part of letter e','Part of arrow',\\\n",
    "                                 'The word \"sit\"','word','text']}\n"
   ]
  },
  {
   "cell_type": "code",
   "execution_count": 28,
   "metadata": {},
   "outputs": [],
   "source": [
    "##Actually doing the mapping\n",
    "unique_cats = np.unique(D['category'])\n",
    "\n",
    "for this_cat in unique_cats:\n",
    "    maplist=maplist_dict[this_cat]\n",
    "    reversed_dict = {val: key for key in maplist for val in maplist[key]}\n",
    "    D.loc[D['category']==this_cat,'label']=D[D['category']==this_cat]['label'].map(reversed_dict).fillna(D['label'])"
   ]
  },
  {
   "cell_type": "code",
   "execution_count": 29,
   "metadata": {},
   "outputs": [
    {
     "name": "stdout",
     "output_type": "stream",
     "text": [
      "We have 3608 annotations of 1195 unique sketches.\n"
     ]
    }
   ],
   "source": [
    "#Get a count of how many unique sketches have been annotated and how many unique annotations do we have in total?\n",
    "\n",
    "unique_sketches = np.unique(D['sketch_id'].values)\n",
    "print 'We have {} annotations of {} unique sketches.'.format(len(D['annotation_id'].unique()),len(unique_sketches))\n",
    " "
   ]
  },
  {
   "cell_type": "code",
   "execution_count": 30,
   "metadata": {},
   "outputs": [],
   "source": [
    "###Removing any annotations that don't have all splines annotated\n",
    "\n",
    "for this_sketch in unique_sketches:\n",
    "    DS=D[D['sketch_id']==this_sketch]\n",
    "    for this_annot in np.unique(DS['annotation_id']):\n",
    "        DSS= DS[DS['annotation_id']==this_annot]\n",
    "        if DSS[DSS['label']== 'None'].shape[0]>0:\n",
    "            D=D[D['annotation_id']!=this_annot]\n",
    "        "
   ]
  },
  {
   "cell_type": "code",
   "execution_count": 31,
   "metadata": {},
   "outputs": [
    {
     "data": {
      "text/plain": [
       "3319"
      ]
     },
     "execution_count": 31,
     "metadata": {},
     "output_type": "execute_result"
    }
   ],
   "source": [
    "##How many annotations after filtering?\n",
    "len(D['annotation_id'].unique())"
   ]
  },
  {
   "cell_type": "code",
   "execution_count": 32,
   "metadata": {},
   "outputs": [],
   "source": [
    "##Removing any sketches that weren't annotated by at least 3 different workers\n",
    "num_annots=3\n",
    "for this_sketch in unique_sketches:\n",
    "    DS = D[D['sketch_id']==this_sketch]\n",
    "    if DS.workerID.nunique()<num_annots:\n",
    "        D=D[D['sketch_id']!=this_sketch]\n",
    "unique_sketches=np.unique(D.sketch_id)\n",
    "    "
   ]
  },
  {
   "cell_type": "code",
   "execution_count": 33,
   "metadata": {},
   "outputs": [
    {
     "name": "stdout",
     "output_type": "stream",
     "text": [
      "We now have 2695 annotations of 864 sketches\n"
     ]
    }
   ],
   "source": [
    "##How many annotations and sketches after filtering?\n",
    "print 'We now have {} annotations of {} sketches'.format(len(D['annotation_id'].unique()),len(D['sketch_id'].unique()))"
   ]
  },
  {
   "cell_type": "code",
   "execution_count": 34,
   "metadata": {},
   "outputs": [
    {
     "data": {
      "text/plain": [
       "Text(0,0.5,'number of sketches')"
      ]
     },
     "execution_count": 34,
     "metadata": {},
     "output_type": "execute_result"
    },
    {
     "data": {
      "image/png": "[encoded data removed]",
      "text/plain": [
       "<Figure size 432x360 with 1 Axes>"
      ]
     },
     "metadata": {},
     "output_type": "display_data"
    }
   ],
   "source": [
    "## get number of times each sketch has been annotated\n",
    "num_times_annotated = []\n",
    "for this_sketch_id in unique_sketches:\n",
    "    num_times_annotated.append(D[D['sketch_id']==this_sketch_id]['assignmentID'].nunique())\n",
    "    \n",
    "## make a histogram\n",
    "sns.set_context('talk')\n",
    "plt.figure(figsize=(6,5))\n",
    "h = plt.hist(num_times_annotated)\n",
    "plt.xticks(np.arange(0, 4, step=1))\n",
    "plt.title('Times each sketch has been annotated')\n",
    "plt.ylabel('number of sketches')\n"
   ]
  },
  {
   "cell_type": "code",
   "execution_count": 35,
   "metadata": {},
   "outputs": [],
   "source": [
    "###Subsetting for sketches that have been annotated 3 times\n",
    "num_annots=3\n",
    "##Why are some assignment IDs blank?\n",
    "D=D[D['assignmentID']!='']\n",
    "for this_sketch_id in unique_sketches:\n",
    "    DS= D[D['sketch_id']==this_sketch_id]\n",
    "    if DS['assignmentID'].nunique()>num_annots:\n",
    "        for i in range(DS['assignmentID'].nunique()-num_annots):\n",
    "            D=D.loc[D.timestamp!=DS.timestamp.min()]\n",
    "            DS=DS.loc[DS.timestamp!=DS.timestamp.min()]\n",
    "unique_sketches = np.unique(D['sketch_id'].values)"
   ]
  },
  {
   "cell_type": "code",
   "execution_count": 36,
   "metadata": {},
   "outputs": [
    {
     "data": {
      "text/plain": [
       "864"
      ]
     },
     "execution_count": 36,
     "metadata": {},
     "output_type": "execute_result"
    }
   ],
   "source": [
    "##How many sketches do we have with 3 annotations?\n",
    "len(np.unique(D.sketch_id))"
   ]
  },
  {
   "cell_type": "code",
   "execution_count": 37,
   "metadata": {},
   "outputs": [],
   "source": [
    "D.to_pickle(os.path.join(csv_dir, 'rawpckl'))"
   ]
  },
  {
   "cell_type": "code",
   "execution_count": 38,
   "metadata": {},
   "outputs": [],
   "source": [
    "D=pd.read_pickle(os.path.join(csv_dir, 'rawpckl'))"
   ]
  },
  {
   "cell_type": "markdown",
   "metadata": {},
   "source": [
    "## Creating spline and stroke level dataframes for further analysis"
   ]
  },
  {
   "cell_type": "code",
   "execution_count": 39,
   "metadata": {},
   "outputs": [
    {
     "name": "stdout",
     "output_type": "stream",
     "text": [
      "we have 24 unique labels\n"
     ]
    }
   ],
   "source": [
    "## get the list of unique labels applied to sketches\n",
    "unique_labels = np.unique(D.label.values)\n",
    "\n",
    "## Removing Nones and obviously wrong super long lables\n",
    "unique_labels = [i for i in unique_labels if i is not None]\n",
    "unique_labels = [i for i in unique_labels if len(i)<900]\n",
    "\n",
    "print 'we have {} unique labels'.format(len( unique_labels))"
   ]
  },
  {
   "cell_type": "code",
   "execution_count": null,
   "metadata": {},
   "outputs": [],
   "source": []
  },
  {
   "cell_type": "code",
   "execution_count": 40,
   "metadata": {},
   "outputs": [],
   "source": [
    "##Create empty dictionary with categories as keys. We will use this to store part occurrence data for our categories\n",
    "label_vect_dict = {unique_cats[0]:None,unique_cats[1]:None,unique_cats[2]:None,unique_cats[3]:None}"
   ]
  },
  {
   "cell_type": "code",
   "execution_count": 41,
   "metadata": {},
   "outputs": [],
   "source": [
    "##Create vectors that contain the number of part instances in each sketch\n",
    "\n",
    "for category in unique_cats:\n",
    "    DS= D[D['category']==category]\n",
    "    unique_sketches_in_cat = np.unique(DS['sketch_id'])\n",
    "    unique_labels_in_cat = np.unique(DS['label'])\n",
    "    ## initialize matrix that has the correct dimensions\n",
    "    Label_Vec = np.zeros((len(unique_sketches_in_cat),len(unique_labels_in_cat)), dtype=int)\n",
    "    unique_labels_in_cat= np.array(unique_labels_in_cat)\n",
    "    for s,this_sketch in enumerate(unique_sketches_in_cat):\n",
    "        label_vec = np.zeros(len(unique_labels_in_cat),dtype=int)\n",
    "        DSS = DS[DS['sketch_id']==this_sketch]\n",
    "        annotation_ids = np.unique(DSS['annotation_id'].values)    \n",
    "        for this_annotation in annotation_ids:\n",
    "            DSA = DSS[DSS['annotation_id']==this_annotation]\n",
    "            label_list = DSA.label.values\n",
    "            for this_label in label_list:\n",
    "                label_ind = unique_labels_in_cat==this_label\n",
    "                label_vec[label_ind] += 1\n",
    "            \n",
    "        Label_Vec[s,:]=label_vec/num_annots\n",
    "    label_vect_dict[category]= Label_Vec"
   ]
  },
  {
   "cell_type": "code",
   "execution_count": 42,
   "metadata": {},
   "outputs": [
    {
     "data": {
      "image/png": "[encoded data removed]",
      "text/plain": [
       "<Figure size 864x504 with 1 Axes>"
      ]
     },
     "metadata": {},
     "output_type": "display_data"
    },
    {
     "data": {
      "image/png": "[encoded data removed]",
      "text/plain": [
       "<Figure size 864x504 with 1 Axes>"
      ]
     },
     "metadata": {},
     "output_type": "display_data"
    },
    {
     "data": {
      "image/png": "[encoded data removed]",
      "text/plain": [
       "<Figure size 864x504 with 1 Axes>"
      ]
     },
     "metadata": {},
     "output_type": "display_data"
    },
    {
     "data": {
      "image/png": "[encoded data removed]",
      "text/plain": [
       "<Figure size 864x504 with 1 Axes>"
      ]
     },
     "metadata": {},
     "output_type": "display_data"
    }
   ],
   "source": [
    "valid_labels=[]\n",
    "valid_labels_dict={}\n",
    "for category in unique_cats:\n",
    "    vect = label_vect_dict[category]\n",
    "    thresh = 0\n",
    "    #print 'These are the labels that appear at least {} times:'.format(thresh)\n",
    "    #print unique_labels[np.sum(Label_Vec,0)>thresh]\n",
    "    unique_labels_in_cat = np.unique(D[D['category']==category]['label'])\n",
    "    plot_labels= unique_labels_in_cat[np.sum(vect,0)>thresh]\n",
    "    valid_labels_dict[category]=plot_labels\n",
    "    valid_labels.append(plot_labels)\n",
    "\n",
    "\n",
    "    prop_labels=[]\n",
    "    for part in plot_labels:\n",
    "        DS=D[D['category']==category]\n",
    "        prop_labels.append(DS[DS['label']==part]['annotation_id'].nunique()/DS['annotation_id'].nunique())\n",
    "    \n",
    "    \n",
    "    sns.set_context('talk')\n",
    "    plt.figure(figsize=(12,7))\n",
    "    plt.ylim(0,1)\n",
    "    h = plt.bar(plot_labels,prop_labels)\n",
    "    plt.title('Proportion of {} annotations with labels'.format(category))\n",
    "    plt.ylabel('proportion of annotations')\n",
    "    plt.xlabel('Part')\n",
    "    \n",
    "##flattening valid labels\n",
    "valid_labels = [item for sublist in valid_labels for item in sublist]\n"
   ]
  },
  {
   "cell_type": "code",
   "execution_count": 43,
   "metadata": {},
   "outputs": [],
   "source": [
    "#Creating a spline-level df where the modal label is set as the 'true' label for any given spline\n",
    "spline_df= D.groupby('spline_id').agg(lambda x: Counter(x).most_common(1)[0][0])\n",
    "spline_df.reset_index(level=0, inplace=True)"
   ]
  },
  {
   "cell_type": "code",
   "execution_count": null,
   "metadata": {},
   "outputs": [],
   "source": []
  },
  {
   "cell_type": "code",
   "execution_count": null,
   "metadata": {},
   "outputs": [],
   "source": []
  },
  {
   "cell_type": "code",
   "execution_count": 44,
   "metadata": {},
   "outputs": [],
   "source": [
    "##Creating a stroke-level dataframe that takes the mode value of annotation for its children splines to set as its\n",
    "##label value\n",
    "\n",
    "from collections import Counter\n",
    "\n",
    "\n",
    "from collections import OrderedDict\n",
    "stroke_svgs=OrderedDict()\n",
    "for category in unique_cats:\n",
    "    DS=D[D['category']==category]\n",
    "    for sketch in np.unique(DS['sketch_id']):\n",
    "        DSS=DS[DS['sketch_id']==sketch]\n",
    "        for stroke in np.unique(DSS['stroke_num']):\n",
    "            DSA=DSS[DSS['stroke_num']==stroke]\n",
    "            DSA=DSA.reset_index()\n",
    "            stroke_svgs[DSA['stroke_id'][0]] = DSA['sketch_svg_string'][0][stroke]\n",
    "\n",
    "            \n",
    "            \n",
    "stroke_svg_df= pd.DataFrame.from_dict(stroke_svgs, orient='index')    \n",
    "stroke_group_data= D.groupby('stroke_id').agg(lambda x: Counter(x).most_common(1)[0][0])\n",
    "labels= pd.DataFrame(stroke_group_data[['sketch_id','label','stroke_num','condition','target','category','outcome']])\n",
    "stroke_df=pd.merge(stroke_svg_df,labels,left_index=True, right_index =True)\n",
    "stroke_df.reset_index(level=0, inplace=True)\n",
    "stroke_df=stroke_df.rename(index=str, columns={\"index\": \"stroke_id\", 0: \"svg\"})\n"
   ]
  },
  {
   "cell_type": "code",
   "execution_count": 45,
   "metadata": {},
   "outputs": [],
   "source": [
    "##Adding total arclength information to stroke dataframe\n",
    "from svgpathtools import parse_path\n",
    "import svgpathtools\n",
    "\n",
    "def calculate_arclength(svg):\n",
    "    try:\n",
    "        arclength= parse_path(svg).length()\n",
    "    except ZeroDivisionError:\n",
    "        print 'zero div error'\n",
    "        arclength = 0\n",
    "    return arclength\n",
    "        \n",
    "                    "
   ]
  },
  {
   "cell_type": "code",
   "execution_count": null,
   "metadata": {},
   "outputs": [],
   "source": [
    "stroke_df['arc_length'] = stroke_df['svg'].apply(calculate_arclength)"
   ]
  },
  {
   "cell_type": "code",
   "execution_count": null,
   "metadata": {},
   "outputs": [],
   "source": []
  },
  {
   "cell_type": "markdown",
   "metadata": {},
   "source": [
    "## Creating feature vectors and normalizing "
   ]
  },
  {
   "cell_type": "code",
   "execution_count": null,
   "metadata": {},
   "outputs": [],
   "source": [
    "###This is where we make a num unique labels * 2 X number of sketches vector \n",
    "\n",
    "feature_vec = np.zeros((len(stroke_df.sketch_id.unique()),len(valid_labels)*2), dtype=int)\n",
    "ind=0\n",
    "start_pos=0\n",
    "end_pos=0\n",
    "meta_list=[]\n",
    "cols = ['sketch_id','target','condition','category','outcome']\n",
    "\n",
    "for cat in unique_cats:\n",
    "  \n",
    "    DS= stroke_df[stroke_df['category']==cat]\n",
    "    unique_labels_in_cat=valid_labels_dict[cat]\n",
    "    unique_sketches_in_cat=DS['sketch_id'].unique()\n",
    "    start_pos = end_pos\n",
    "    end_pos+= len(unique_labels_in_cat)\n",
    "    print start_pos, end_pos\n",
    "    Label_Vec = np.zeros((len(unique_sketches_in_cat),len(unique_labels_in_cat)*2), dtype=int)\n",
    "    arc_length_vec = np.zeros((len(unique_sketches_in_cat),len(valid_labels_dict[cat])), dtype=int)\n",
    "    for s,sketch in enumerate(unique_sketches_in_cat):\n",
    "        \n",
    "        label_vec = np.zeros(len(unique_labels_in_cat),dtype=int)\n",
    "        arc_vec = np.zeros(len(unique_labels_in_cat),dtype=int)\n",
    "        DSA=DS[DS['sketch_id']==sketch]\n",
    "      \n",
    "        meta_list.append(pd.Series([DSA['sketch_id'],DSA['target'].unique(),DSA['condition'].unique(),DSA['category'].unique(),DSA['outcome'].unique()], index=cols))\n",
    "        label_list = DSA.label.values        \n",
    "        for label in label_list:\n",
    "            if label in unique_labels_in_cat:\n",
    "                label_ind = unique_labels_in_cat==label\n",
    "                label_vec[label_ind] += 1\n",
    "        for label in unique_labels_in_cat:\n",
    "            DSB=DSA[DSA['label']==label]\n",
    "            label_ind = unique_labels_in_cat==label\n",
    "            arc_vec[label_ind] = DSB['arc_length'].sum()\n",
    "            \n",
    "        \n",
    "        feature_vec[ind,start_pos:end_pos]=label_vec\n",
    "        feature_vec[ind,start_pos+len(valid_labels):end_pos+len(valid_labels)]=arc_vec\n",
    "        ind+=1\n",
    "feature_vec_meta = pd.DataFrame(meta_list, columns=cols)\n",
    "\n",
    "    \n",
    "\n",
    "\n",
    "    "
   ]
  },
  {
   "cell_type": "code",
   "execution_count": null,
   "metadata": {},
   "outputs": [],
   "source": [
    "##Changing column values from np arrays to strings/boolean\n",
    "\n",
    "def arr_to_str(arr):\n",
    "    return (arr[0])\n",
    "feature_vec_meta['target']=feature_vec_meta['target'].apply(arr_to_str)\n",
    "feature_vec_meta['condition']=feature_vec_meta['condition'].apply(arr_to_str)\n",
    "feature_vec_meta['category']=feature_vec_meta['category'].apply(arr_to_str)\n",
    "feature_vec_meta['outcome']=feature_vec_meta['outcome'].apply(arr_to_str)"
   ]
  },
  {
   "cell_type": "code",
   "execution_count": null,
   "metadata": {},
   "outputs": [],
   "source": [
    "feature_df= pd.DataFrame(feature_vec, columns=[s + '_numstrokes' for s in valid_labels]+[s + '_total_arclength' for s in valid_labels])"
   ]
  },
  {
   "cell_type": "code",
   "execution_count": null,
   "metadata": {},
   "outputs": [],
   "source": [
    "len(np.unique(valid_labels))"
   ]
  },
  {
   "cell_type": "code",
   "execution_count": null,
   "metadata": {},
   "outputs": [],
   "source": [
    "##creating a compressed version of the feature df with no duplicates for parts\n",
    "\n",
    "labs_numstrokes=[]\n",
    "labs_total_arclength=[]\n",
    "for lab in np.unique(valid_labels):\n",
    "    labs_numstrokes.append(lab +'_numstrokes')\n",
    "    labs_total_arclength.append(lab+'_total_arclength')\n",
    "feature_df_labs=labs_numstrokes+labs_total_arclength   \n",
    "feature_df_final= pd.DataFrame(columns=feature_df_labs)\n",
    "\n",
    "\n",
    "for this_lab in feature_df_labs:\n",
    "    duplicates=[col for col in feature_df if col.startswith(this_lab)]\n",
    "    feature_df_final[this_lab]= feature_df[duplicates].sum(axis=1)\n",
    "feature_df = feature_df_final"
   ]
  },
  {
   "cell_type": "code",
   "execution_count": null,
   "metadata": {},
   "outputs": [],
   "source": [
    "##Check to make sure the df looks okay\n",
    "assert len(feature_df.columns)==len(np.unique(feature_df.columns))\n",
    "feature_df.head()"
   ]
  },
  {
   "cell_type": "code",
   "execution_count": null,
   "metadata": {},
   "outputs": [],
   "source": [
    "## Save out raw feature matrix prior to normalization within\n",
    "feature_df.to_csv(os.path.join(features_dir,'semantic_parts_sketch_features_compressed_rawcounts.csv'), index=False)"
   ]
  },
  {
   "cell_type": "code",
   "execution_count": null,
   "metadata": {},
   "outputs": [],
   "source": [
    "## Normalizing within sketch, within measure (numstrokes/arclength) \n",
    "## Note: assumes that we are using two measures and that they account for exactly half of the columns in feature_df\n",
    "feature_df.iloc[:,0:int(len(feature_df.columns)/2)]=feature_df.iloc[:,0:int(len(feature_df.columns)/2)].div(feature_df.iloc[:,0:int(len(feature_df.columns)/2)].sum(axis=1),axis=0)\n",
    "feature_df.iloc[:,int(len(feature_df.columns)/2):int(len(feature_df.columns))]=feature_df.iloc[:,int(len(feature_df.columns)/2):int(len(feature_df.columns))].div(feature_df.iloc[:,int(len(feature_df.columns)/2):int(len(feature_df.columns))].sum(axis=1),axis=0)"
   ]
  },
  {
   "cell_type": "code",
   "execution_count": null,
   "metadata": {},
   "outputs": [],
   "source": [
    "### Execute this if we want to save a non-zscore matrix\n",
    "run=True\n",
    "if run==True:\n",
    "    feature_df.to_csv(os.path.join(features_dir,'semantic_parts_sketch_features_compressed_normalized.csv'), index=False)\n",
    "run=False    "
   ]
  },
  {
   "cell_type": "code",
   "execution_count": null,
   "metadata": {},
   "outputs": [],
   "source": [
    "#z-scoring within columns\n",
    "\n",
    "columns=list(feature_df.columns)\n",
    "for this_col in columns:\n",
    "    feature_df[this_col]=(feature_df[this_col] - feature_df[this_col].mean())/feature_df[this_col].std(ddof=0)\n"
   ]
  },
  {
   "cell_type": "code",
   "execution_count": null,
   "metadata": {},
   "outputs": [],
   "source": []
  },
  {
   "cell_type": "markdown",
   "metadata": {},
   "source": [
    "### Saving out files as needed"
   ]
  },
  {
   "cell_type": "code",
   "execution_count": null,
   "metadata": {},
   "outputs": [],
   "source": [
    "feature_df.to_csv(os.path.join(features_dir,'semantic_parts_sketch_features_compressed_normalized_whitened.csv'), index=False)"
   ]
  },
  {
   "cell_type": "code",
   "execution_count": null,
   "metadata": {},
   "outputs": [],
   "source": [
    "np.save(os.path.join(features_dir, 'semantic_parts_sketch_features'),feature_vec)"
   ]
  },
  {
   "cell_type": "code",
   "execution_count": null,
   "metadata": {},
   "outputs": [],
   "source": [
    "feature_vec_meta.to_csv(os.path.join(features_dir,'semantic_parts_sketch_meta.csv'), index=False)"
   ]
  },
  {
   "cell_type": "code",
   "execution_count": null,
   "metadata": {},
   "outputs": [],
   "source": []
  },
  {
   "cell_type": "code",
   "execution_count": null,
   "metadata": {},
   "outputs": [],
   "source": []
  },
  {
   "cell_type": "code",
   "execution_count": null,
   "metadata": {},
   "outputs": [],
   "source": []
  },
  {
   "cell_type": "code",
   "execution_count": null,
   "metadata": {},
   "outputs": [],
   "source": []
  },
  {
   "cell_type": "code",
   "execution_count": null,
   "metadata": {},
   "outputs": [],
   "source": []
  },
  {
   "cell_type": "code",
   "execution_count": null,
   "metadata": {},
   "outputs": [],
   "source": []
  }
 ],
 "metadata": {
  "kernelspec": {
   "display_name": "Python 2",
   "language": "python",
   "name": "python2"
  },
  "language_info": {
   "codemirror_mode": {
    "name": "ipython",
    "version": 2
   },
   "file_extension": ".py",
   "mimetype": "text/x-python",
   "name": "python",
   "nbconvert_exporter": "python",
   "pygments_lexer": "ipython2",
   "version": "2.7.15"
  }
 },
 "nbformat": 4,
 "nbformat_minor": 2
}
